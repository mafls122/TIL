{
 "cells": [
  {
   "cell_type": "code",
   "execution_count": 10,
   "metadata": {},
   "outputs": [],
   "source": [
    "import pandas as pd\n",
    "import numpy as np\n",
    "from pandas import Series"
   ]
  },
  {
   "cell_type": "markdown",
   "metadata": {},
   "source": [
    "## lambda"
   ]
  },
  {
   "cell_type": "code",
   "execution_count": 2,
   "metadata": {},
   "outputs": [
    {
     "data": {
      "text/plain": [
       "5"
      ]
     },
     "execution_count": 2,
     "metadata": {},
     "output_type": "execute_result"
    }
   ],
   "source": [
    "# 덧셈\n",
    "f = lambda x,y: x + y\n",
    "f(1,4)"
   ]
  },
  {
   "cell_type": "code",
   "execution_count": 61,
   "metadata": {},
   "outputs": [
    {
     "data": {
      "text/plain": [
       "5"
      ]
     },
     "execution_count": 61,
     "metadata": {},
     "output_type": "execute_result"
    }
   ],
   "source": [
    "# 함수화\n",
    "def f(x , y):\n",
    "    return x + y\n",
    "\n",
    "f(1,4)"
   ]
  },
  {
   "cell_type": "code",
   "execution_count": 65,
   "metadata": {},
   "outputs": [
    {
     "data": {
      "text/plain": [
       "9"
      ]
     },
     "execution_count": 65,
     "metadata": {},
     "output_type": "execute_result"
    }
   ],
   "source": [
    "# 제곱\n",
    "(lambda x: x ** 2)(3)"
   ]
  },
  {
   "cell_type": "markdown",
   "metadata": {},
   "source": [
    "## map & replace"
   ]
  },
  {
   "cell_type": "code",
   "execution_count": 5,
   "metadata": {},
   "outputs": [
    {
     "data": {
      "text/plain": [
       "[1, 4, 9, 16, 25]"
      ]
     },
     "execution_count": 5,
     "metadata": {},
     "output_type": "execute_result"
    }
   ],
   "source": [
    "ex = [1,2,3,4,5]\n",
    "f = lambda x: x ** 2\n",
    "list(map(f, ex))"
   ]
  },
  {
   "cell_type": "code",
   "execution_count": 14,
   "metadata": {
    "scrolled": true
   },
   "outputs": [
    {
     "data": {
      "text/plain": [
       "0    0\n",
       "1    1\n",
       "2    2\n",
       "3    3\n",
       "4    4\n",
       "5    5\n",
       "6    6\n",
       "7    7\n",
       "8    8\n",
       "9    9\n",
       "dtype: int32"
      ]
     },
     "execution_count": 14,
     "metadata": {},
     "output_type": "execute_result"
    }
   ],
   "source": [
    "s1 = Series(np.arange(10))\n",
    "s1"
   ]
  },
  {
   "cell_type": "code",
   "execution_count": 13,
   "metadata": {
    "scrolled": true
   },
   "outputs": [
    {
     "data": {
      "text/plain": [
       "0    NaN\n",
       "1      A\n",
       "2      B\n",
       "3      C\n",
       "4    NaN\n",
       "5    NaN\n",
       "6    NaN\n",
       "7    NaN\n",
       "8    NaN\n",
       "9    NaN\n",
       "dtype: object"
      ]
     },
     "execution_count": 13,
     "metadata": {},
     "output_type": "execute_result"
    }
   ],
   "source": [
    "z = {1:'A', 2:'B', 3:'C'}\n",
    "s1.map(z)"
   ]
  },
  {
   "cell_type": "markdown",
   "metadata": {},
   "source": [
    "## 예제"
   ]
  },
  {
   "cell_type": "code",
   "execution_count": 75,
   "metadata": {},
   "outputs": [
    {
     "data": {
      "text/html": [
       "<div>\n",
       "<style scoped>\n",
       "    .dataframe tbody tr th:only-of-type {\n",
       "        vertical-align: middle;\n",
       "    }\n",
       "\n",
       "    .dataframe tbody tr th {\n",
       "        vertical-align: top;\n",
       "    }\n",
       "\n",
       "    .dataframe thead th {\n",
       "        text-align: right;\n",
       "    }\n",
       "</style>\n",
       "<table border=\"1\" class=\"dataframe\">\n",
       "  <thead>\n",
       "    <tr style=\"text-align: right;\">\n",
       "      <th></th>\n",
       "      <th>earn</th>\n",
       "      <th>height</th>\n",
       "      <th>sex</th>\n",
       "      <th>race</th>\n",
       "      <th>ed</th>\n",
       "      <th>age</th>\n",
       "    </tr>\n",
       "  </thead>\n",
       "  <tbody>\n",
       "    <tr>\n",
       "      <th>0</th>\n",
       "      <td>79571.299011</td>\n",
       "      <td>73.89</td>\n",
       "      <td>male</td>\n",
       "      <td>white</td>\n",
       "      <td>16</td>\n",
       "      <td>49</td>\n",
       "    </tr>\n",
       "    <tr>\n",
       "      <th>1</th>\n",
       "      <td>96396.988643</td>\n",
       "      <td>66.23</td>\n",
       "      <td>female</td>\n",
       "      <td>white</td>\n",
       "      <td>16</td>\n",
       "      <td>62</td>\n",
       "    </tr>\n",
       "    <tr>\n",
       "      <th>2</th>\n",
       "      <td>48710.666947</td>\n",
       "      <td>63.77</td>\n",
       "      <td>female</td>\n",
       "      <td>white</td>\n",
       "      <td>16</td>\n",
       "      <td>33</td>\n",
       "    </tr>\n",
       "    <tr>\n",
       "      <th>3</th>\n",
       "      <td>80478.096153</td>\n",
       "      <td>63.22</td>\n",
       "      <td>female</td>\n",
       "      <td>other</td>\n",
       "      <td>16</td>\n",
       "      <td>95</td>\n",
       "    </tr>\n",
       "    <tr>\n",
       "      <th>4</th>\n",
       "      <td>82089.345498</td>\n",
       "      <td>63.08</td>\n",
       "      <td>female</td>\n",
       "      <td>white</td>\n",
       "      <td>17</td>\n",
       "      <td>43</td>\n",
       "    </tr>\n",
       "  </tbody>\n",
       "</table>\n",
       "</div>"
      ],
      "text/plain": [
       "           earn  height     sex   race  ed  age\n",
       "0  79571.299011   73.89    male  white  16   49\n",
       "1  96396.988643   66.23  female  white  16   62\n",
       "2  48710.666947   63.77  female  white  16   33\n",
       "3  80478.096153   63.22  female  other  16   95\n",
       "4  82089.345498   63.08  female  white  17   43"
      ]
     },
     "execution_count": 75,
     "metadata": {},
     "output_type": "execute_result"
    }
   ],
   "source": [
    "df = pd.read_csv(\"wages.csv\")\n",
    "df.head()"
   ]
  },
  {
   "cell_type": "code",
   "execution_count": 76,
   "metadata": {},
   "outputs": [
    {
     "data": {
      "text/plain": [
       "array(['male', 'female'], dtype=object)"
      ]
     },
     "execution_count": 76,
     "metadata": {},
     "output_type": "execute_result"
    }
   ],
   "source": [
    "df.sex.unique()"
   ]
  },
  {
   "cell_type": "code",
   "execution_count": 77,
   "metadata": {},
   "outputs": [
    {
     "data": {
      "text/html": [
       "<div>\n",
       "<style scoped>\n",
       "    .dataframe tbody tr th:only-of-type {\n",
       "        vertical-align: middle;\n",
       "    }\n",
       "\n",
       "    .dataframe tbody tr th {\n",
       "        vertical-align: top;\n",
       "    }\n",
       "\n",
       "    .dataframe thead th {\n",
       "        text-align: right;\n",
       "    }\n",
       "</style>\n",
       "<table border=\"1\" class=\"dataframe\">\n",
       "  <thead>\n",
       "    <tr style=\"text-align: right;\">\n",
       "      <th></th>\n",
       "      <th>earn</th>\n",
       "      <th>height</th>\n",
       "      <th>sex</th>\n",
       "      <th>race</th>\n",
       "      <th>ed</th>\n",
       "      <th>age</th>\n",
       "    </tr>\n",
       "  </thead>\n",
       "  <tbody>\n",
       "    <tr>\n",
       "      <th>0</th>\n",
       "      <td>79571.299011</td>\n",
       "      <td>73.89</td>\n",
       "      <td>0</td>\n",
       "      <td>white</td>\n",
       "      <td>16</td>\n",
       "      <td>49</td>\n",
       "    </tr>\n",
       "    <tr>\n",
       "      <th>1</th>\n",
       "      <td>96396.988643</td>\n",
       "      <td>66.23</td>\n",
       "      <td>1</td>\n",
       "      <td>white</td>\n",
       "      <td>16</td>\n",
       "      <td>62</td>\n",
       "    </tr>\n",
       "    <tr>\n",
       "      <th>2</th>\n",
       "      <td>48710.666947</td>\n",
       "      <td>63.77</td>\n",
       "      <td>1</td>\n",
       "      <td>white</td>\n",
       "      <td>16</td>\n",
       "      <td>33</td>\n",
       "    </tr>\n",
       "    <tr>\n",
       "      <th>3</th>\n",
       "      <td>80478.096153</td>\n",
       "      <td>63.22</td>\n",
       "      <td>1</td>\n",
       "      <td>other</td>\n",
       "      <td>16</td>\n",
       "      <td>95</td>\n",
       "    </tr>\n",
       "    <tr>\n",
       "      <th>4</th>\n",
       "      <td>82089.345498</td>\n",
       "      <td>63.08</td>\n",
       "      <td>1</td>\n",
       "      <td>white</td>\n",
       "      <td>17</td>\n",
       "      <td>43</td>\n",
       "    </tr>\n",
       "    <tr>\n",
       "      <th>...</th>\n",
       "      <td>...</td>\n",
       "      <td>...</td>\n",
       "      <td>...</td>\n",
       "      <td>...</td>\n",
       "      <td>...</td>\n",
       "      <td>...</td>\n",
       "    </tr>\n",
       "    <tr>\n",
       "      <th>1374</th>\n",
       "      <td>30173.380363</td>\n",
       "      <td>71.68</td>\n",
       "      <td>0</td>\n",
       "      <td>white</td>\n",
       "      <td>12</td>\n",
       "      <td>33</td>\n",
       "    </tr>\n",
       "    <tr>\n",
       "      <th>1375</th>\n",
       "      <td>24853.519514</td>\n",
       "      <td>61.31</td>\n",
       "      <td>1</td>\n",
       "      <td>white</td>\n",
       "      <td>18</td>\n",
       "      <td>86</td>\n",
       "    </tr>\n",
       "    <tr>\n",
       "      <th>1376</th>\n",
       "      <td>13710.671312</td>\n",
       "      <td>63.64</td>\n",
       "      <td>1</td>\n",
       "      <td>white</td>\n",
       "      <td>12</td>\n",
       "      <td>37</td>\n",
       "    </tr>\n",
       "    <tr>\n",
       "      <th>1377</th>\n",
       "      <td>95426.014410</td>\n",
       "      <td>71.65</td>\n",
       "      <td>0</td>\n",
       "      <td>white</td>\n",
       "      <td>12</td>\n",
       "      <td>54</td>\n",
       "    </tr>\n",
       "    <tr>\n",
       "      <th>1378</th>\n",
       "      <td>9575.461857</td>\n",
       "      <td>68.22</td>\n",
       "      <td>0</td>\n",
       "      <td>white</td>\n",
       "      <td>12</td>\n",
       "      <td>31</td>\n",
       "    </tr>\n",
       "  </tbody>\n",
       "</table>\n",
       "<p>1379 rows × 6 columns</p>\n",
       "</div>"
      ],
      "text/plain": [
       "              earn  height  sex   race  ed  age\n",
       "0     79571.299011   73.89    0  white  16   49\n",
       "1     96396.988643   66.23    1  white  16   62\n",
       "2     48710.666947   63.77    1  white  16   33\n",
       "3     80478.096153   63.22    1  other  16   95\n",
       "4     82089.345498   63.08    1  white  17   43\n",
       "...            ...     ...  ...    ...  ..  ...\n",
       "1374  30173.380363   71.68    0  white  12   33\n",
       "1375  24853.519514   61.31    1  white  18   86\n",
       "1376  13710.671312   63.64    1  white  12   37\n",
       "1377  95426.014410   71.65    0  white  12   54\n",
       "1378   9575.461857   68.22    0  white  12   31\n",
       "\n",
       "[1379 rows x 6 columns]"
      ]
     },
     "execution_count": 77,
     "metadata": {},
     "output_type": "execute_result"
    }
   ],
   "source": [
    "# 성별 숫자형태로 변경\n",
    "df[\"sex\"] = df.sex.map({'male':0, 'female':1})\n",
    "df"
   ]
  },
  {
   "cell_type": "code",
   "execution_count": 45,
   "metadata": {},
   "outputs": [
    {
     "data": {
      "text/plain": [
       "0       0\n",
       "1       1\n",
       "2       1\n",
       "3       1\n",
       "4       1\n",
       "       ..\n",
       "1374    0\n",
       "1375    1\n",
       "1376    1\n",
       "1377    0\n",
       "1378    0\n",
       "Name: sex, Length: 1379, dtype: int64"
      ]
     },
     "execution_count": 45,
     "metadata": {},
     "output_type": "execute_result"
    }
   ],
   "source": [
    "# 변경 replace 사용\n",
    "df.sex.replace({'male':0, 'female':1})"
   ]
  },
  {
   "cell_type": "code",
   "execution_count": 46,
   "metadata": {},
   "outputs": [
    {
     "data": {
      "text/html": [
       "<div>\n",
       "<style scoped>\n",
       "    .dataframe tbody tr th:only-of-type {\n",
       "        vertical-align: middle;\n",
       "    }\n",
       "\n",
       "    .dataframe tbody tr th {\n",
       "        vertical-align: top;\n",
       "    }\n",
       "\n",
       "    .dataframe thead th {\n",
       "        text-align: right;\n",
       "    }\n",
       "</style>\n",
       "<table border=\"1\" class=\"dataframe\">\n",
       "  <thead>\n",
       "    <tr style=\"text-align: right;\">\n",
       "      <th></th>\n",
       "      <th>earn</th>\n",
       "      <th>height</th>\n",
       "      <th>sex</th>\n",
       "      <th>race</th>\n",
       "      <th>ed</th>\n",
       "      <th>age</th>\n",
       "    </tr>\n",
       "  </thead>\n",
       "  <tbody>\n",
       "    <tr>\n",
       "      <th>0</th>\n",
       "      <td>79571.299011</td>\n",
       "      <td>73.89</td>\n",
       "      <td>0</td>\n",
       "      <td>white</td>\n",
       "      <td>16</td>\n",
       "      <td>49</td>\n",
       "    </tr>\n",
       "    <tr>\n",
       "      <th>1</th>\n",
       "      <td>96396.988643</td>\n",
       "      <td>66.23</td>\n",
       "      <td>1</td>\n",
       "      <td>white</td>\n",
       "      <td>16</td>\n",
       "      <td>62</td>\n",
       "    </tr>\n",
       "    <tr>\n",
       "      <th>2</th>\n",
       "      <td>48710.666947</td>\n",
       "      <td>63.77</td>\n",
       "      <td>1</td>\n",
       "      <td>white</td>\n",
       "      <td>16</td>\n",
       "      <td>33</td>\n",
       "    </tr>\n",
       "    <tr>\n",
       "      <th>3</th>\n",
       "      <td>80478.096153</td>\n",
       "      <td>63.22</td>\n",
       "      <td>1</td>\n",
       "      <td>other</td>\n",
       "      <td>16</td>\n",
       "      <td>95</td>\n",
       "    </tr>\n",
       "    <tr>\n",
       "      <th>4</th>\n",
       "      <td>82089.345498</td>\n",
       "      <td>63.08</td>\n",
       "      <td>1</td>\n",
       "      <td>white</td>\n",
       "      <td>17</td>\n",
       "      <td>43</td>\n",
       "    </tr>\n",
       "    <tr>\n",
       "      <th>...</th>\n",
       "      <td>...</td>\n",
       "      <td>...</td>\n",
       "      <td>...</td>\n",
       "      <td>...</td>\n",
       "      <td>...</td>\n",
       "      <td>...</td>\n",
       "    </tr>\n",
       "    <tr>\n",
       "      <th>1374</th>\n",
       "      <td>30173.380363</td>\n",
       "      <td>71.68</td>\n",
       "      <td>0</td>\n",
       "      <td>white</td>\n",
       "      <td>12</td>\n",
       "      <td>33</td>\n",
       "    </tr>\n",
       "    <tr>\n",
       "      <th>1375</th>\n",
       "      <td>24853.519514</td>\n",
       "      <td>61.31</td>\n",
       "      <td>1</td>\n",
       "      <td>white</td>\n",
       "      <td>18</td>\n",
       "      <td>86</td>\n",
       "    </tr>\n",
       "    <tr>\n",
       "      <th>1376</th>\n",
       "      <td>13710.671312</td>\n",
       "      <td>63.64</td>\n",
       "      <td>1</td>\n",
       "      <td>white</td>\n",
       "      <td>12</td>\n",
       "      <td>37</td>\n",
       "    </tr>\n",
       "    <tr>\n",
       "      <th>1377</th>\n",
       "      <td>95426.014410</td>\n",
       "      <td>71.65</td>\n",
       "      <td>0</td>\n",
       "      <td>white</td>\n",
       "      <td>12</td>\n",
       "      <td>54</td>\n",
       "    </tr>\n",
       "    <tr>\n",
       "      <th>1378</th>\n",
       "      <td>9575.461857</td>\n",
       "      <td>68.22</td>\n",
       "      <td>0</td>\n",
       "      <td>white</td>\n",
       "      <td>12</td>\n",
       "      <td>31</td>\n",
       "    </tr>\n",
       "  </tbody>\n",
       "</table>\n",
       "<p>1379 rows × 6 columns</p>\n",
       "</div>"
      ],
      "text/plain": [
       "              earn  height  sex   race  ed  age\n",
       "0     79571.299011   73.89    0  white  16   49\n",
       "1     96396.988643   66.23    1  white  16   62\n",
       "2     48710.666947   63.77    1  white  16   33\n",
       "3     80478.096153   63.22    1  other  16   95\n",
       "4     82089.345498   63.08    1  white  17   43\n",
       "...            ...     ...  ...    ...  ..  ...\n",
       "1374  30173.380363   71.68    0  white  12   33\n",
       "1375  24853.519514   61.31    1  white  18   86\n",
       "1376  13710.671312   63.64    1  white  12   37\n",
       "1377  95426.014410   71.65    0  white  12   54\n",
       "1378   9575.461857   68.22    0  white  12   31\n",
       "\n",
       "[1379 rows x 6 columns]"
      ]
     },
     "execution_count": 46,
     "metadata": {},
     "output_type": "execute_result"
    }
   ],
   "source": [
    "df.sex.replace(['male','female'], \n",
    "              [0,1], inplace=True)\n",
    "del df[\"sex_code\"]\n",
    "df"
   ]
  },
  {
   "cell_type": "markdown",
   "metadata": {},
   "source": [
    "## apply\n",
    "\n",
    "시리즈 전체(컬럼)에 해당 함수를 적용\n",
    "\n",
    "컬럼의 통계 자료를 낼 때 유용하게 사용할 수 있음"
   ]
  },
  {
   "cell_type": "code",
   "execution_count": 47,
   "metadata": {},
   "outputs": [
    {
     "data": {
      "text/html": [
       "<div>\n",
       "<style scoped>\n",
       "    .dataframe tbody tr th:only-of-type {\n",
       "        vertical-align: middle;\n",
       "    }\n",
       "\n",
       "    .dataframe tbody tr th {\n",
       "        vertical-align: top;\n",
       "    }\n",
       "\n",
       "    .dataframe thead th {\n",
       "        text-align: right;\n",
       "    }\n",
       "</style>\n",
       "<table border=\"1\" class=\"dataframe\">\n",
       "  <thead>\n",
       "    <tr style=\"text-align: right;\">\n",
       "      <th></th>\n",
       "      <th>earn</th>\n",
       "      <th>height</th>\n",
       "      <th>age</th>\n",
       "    </tr>\n",
       "  </thead>\n",
       "  <tbody>\n",
       "    <tr>\n",
       "      <th>0</th>\n",
       "      <td>79571.299011</td>\n",
       "      <td>73.89</td>\n",
       "      <td>49</td>\n",
       "    </tr>\n",
       "    <tr>\n",
       "      <th>1</th>\n",
       "      <td>96396.988643</td>\n",
       "      <td>66.23</td>\n",
       "      <td>62</td>\n",
       "    </tr>\n",
       "    <tr>\n",
       "      <th>2</th>\n",
       "      <td>48710.666947</td>\n",
       "      <td>63.77</td>\n",
       "      <td>33</td>\n",
       "    </tr>\n",
       "    <tr>\n",
       "      <th>3</th>\n",
       "      <td>80478.096153</td>\n",
       "      <td>63.22</td>\n",
       "      <td>95</td>\n",
       "    </tr>\n",
       "    <tr>\n",
       "      <th>4</th>\n",
       "      <td>82089.345498</td>\n",
       "      <td>63.08</td>\n",
       "      <td>43</td>\n",
       "    </tr>\n",
       "  </tbody>\n",
       "</table>\n",
       "</div>"
      ],
      "text/plain": [
       "           earn  height  age\n",
       "0  79571.299011   73.89   49\n",
       "1  96396.988643   66.23   62\n",
       "2  48710.666947   63.77   33\n",
       "3  80478.096153   63.22   95\n",
       "4  82089.345498   63.08   43"
      ]
     },
     "execution_count": 47,
     "metadata": {},
     "output_type": "execute_result"
    }
   ],
   "source": [
    "df_info = df[[\"earn\", \"height\",\"age\"]]\n",
    "df_info.head()"
   ]
  },
  {
   "cell_type": "code",
   "execution_count": 48,
   "metadata": {},
   "outputs": [
    {
     "data": {
      "text/plain": [
       "earn      318047.708444\n",
       "height        19.870000\n",
       "age           73.000000\n",
       "dtype: float64"
      ]
     },
     "execution_count": 48,
     "metadata": {},
     "output_type": "execute_result"
    }
   ],
   "source": [
    "# 통계 ex1\n",
    "f = lambda x : x.max() - x.min()\n",
    "df_info.apply(f)"
   ]
  },
  {
   "cell_type": "code",
   "execution_count": 50,
   "metadata": {},
   "outputs": [
    {
     "data": {
      "text/plain": [
       "earn      4.474344e+07\n",
       "height    9.183125e+04\n",
       "age       6.250800e+04\n",
       "dtype: float64"
      ]
     },
     "execution_count": 50,
     "metadata": {},
     "output_type": "execute_result"
    }
   ],
   "source": [
    "# 통계 ex2\n",
    "df_info.apply(sum)"
   ]
  },
  {
   "cell_type": "code",
   "execution_count": 51,
   "metadata": {},
   "outputs": [
    {
     "data": {
      "text/plain": [
       "earn      4.474344e+07\n",
       "height    9.183125e+04\n",
       "age       6.250800e+04\n",
       "dtype: float64"
      ]
     },
     "execution_count": 51,
     "metadata": {},
     "output_type": "execute_result"
    }
   ],
   "source": [
    "df_info.sum()"
   ]
  },
  {
   "cell_type": "code",
   "execution_count": 52,
   "metadata": {},
   "outputs": [
    {
     "data": {
      "text/html": [
       "<div>\n",
       "<style scoped>\n",
       "    .dataframe tbody tr th:only-of-type {\n",
       "        vertical-align: middle;\n",
       "    }\n",
       "\n",
       "    .dataframe tbody tr th {\n",
       "        vertical-align: top;\n",
       "    }\n",
       "\n",
       "    .dataframe thead th {\n",
       "        text-align: right;\n",
       "    }\n",
       "</style>\n",
       "<table border=\"1\" class=\"dataframe\">\n",
       "  <thead>\n",
       "    <tr style=\"text-align: right;\">\n",
       "      <th></th>\n",
       "      <th>earn</th>\n",
       "      <th>height</th>\n",
       "      <th>age</th>\n",
       "    </tr>\n",
       "  </thead>\n",
       "  <tbody>\n",
       "    <tr>\n",
       "      <th>min</th>\n",
       "      <td>-98.580489</td>\n",
       "      <td>57.34000</td>\n",
       "      <td>22.000000</td>\n",
       "    </tr>\n",
       "    <tr>\n",
       "      <th>max</th>\n",
       "      <td>317949.127955</td>\n",
       "      <td>77.21000</td>\n",
       "      <td>95.000000</td>\n",
       "    </tr>\n",
       "    <tr>\n",
       "      <th>mean</th>\n",
       "      <td>32446.292622</td>\n",
       "      <td>66.59264</td>\n",
       "      <td>45.328499</td>\n",
       "    </tr>\n",
       "  </tbody>\n",
       "</table>\n",
       "</div>"
      ],
      "text/plain": [
       "               earn    height        age\n",
       "min      -98.580489  57.34000  22.000000\n",
       "max   317949.127955  77.21000  95.000000\n",
       "mean   32446.292622  66.59264  45.328499"
      ]
     },
     "execution_count": 52,
     "metadata": {},
     "output_type": "execute_result"
    }
   ],
   "source": [
    "def f(x):\n",
    "    return Series([x.min(), x.max(), x.mean()], \n",
    "                    index=[\"min\", \"max\", \"mean\"])\n",
    "df_info.apply(f)"
   ]
  },
  {
   "cell_type": "code",
   "execution_count": 53,
   "metadata": {},
   "outputs": [
    {
     "data": {
      "text/html": [
       "<div>\n",
       "<style scoped>\n",
       "    .dataframe tbody tr th:only-of-type {\n",
       "        vertical-align: middle;\n",
       "    }\n",
       "\n",
       "    .dataframe tbody tr th {\n",
       "        vertical-align: top;\n",
       "    }\n",
       "\n",
       "    .dataframe thead th {\n",
       "        text-align: right;\n",
       "    }\n",
       "</style>\n",
       "<table border=\"1\" class=\"dataframe\">\n",
       "  <thead>\n",
       "    <tr style=\"text-align: right;\">\n",
       "      <th></th>\n",
       "      <th>earn</th>\n",
       "      <th>height</th>\n",
       "      <th>age</th>\n",
       "    </tr>\n",
       "  </thead>\n",
       "  <tbody>\n",
       "    <tr>\n",
       "      <th>0</th>\n",
       "      <td>-79571.299011</td>\n",
       "      <td>-73.89</td>\n",
       "      <td>-49</td>\n",
       "    </tr>\n",
       "    <tr>\n",
       "      <th>1</th>\n",
       "      <td>-96396.988643</td>\n",
       "      <td>-66.23</td>\n",
       "      <td>-62</td>\n",
       "    </tr>\n",
       "    <tr>\n",
       "      <th>2</th>\n",
       "      <td>-48710.666947</td>\n",
       "      <td>-63.77</td>\n",
       "      <td>-33</td>\n",
       "    </tr>\n",
       "    <tr>\n",
       "      <th>3</th>\n",
       "      <td>-80478.096153</td>\n",
       "      <td>-63.22</td>\n",
       "      <td>-95</td>\n",
       "    </tr>\n",
       "    <tr>\n",
       "      <th>4</th>\n",
       "      <td>-82089.345498</td>\n",
       "      <td>-63.08</td>\n",
       "      <td>-43</td>\n",
       "    </tr>\n",
       "  </tbody>\n",
       "</table>\n",
       "</div>"
      ],
      "text/plain": [
       "           earn  height  age\n",
       "0 -79571.299011  -73.89  -49\n",
       "1 -96396.988643  -66.23  -62\n",
       "2 -48710.666947  -63.77  -33\n",
       "3 -80478.096153  -63.22  -95\n",
       "4 -82089.345498  -63.08  -43"
      ]
     },
     "execution_count": 53,
     "metadata": {},
     "output_type": "execute_result"
    }
   ],
   "source": [
    "# applymap : 전체에 적용\n",
    "# ex) 전체 데이터프레임에 - 적용\n",
    "f = lambda x : -x\n",
    "df_info.applymap(f).head(5)"
   ]
  },
  {
   "cell_type": "code",
   "execution_count": 54,
   "metadata": {},
   "outputs": [
    {
     "data": {
      "text/plain": [
       "0   -79571.299011\n",
       "1   -96396.988643\n",
       "2   -48710.666947\n",
       "3   -80478.096153\n",
       "4   -82089.345498\n",
       "Name: earn, dtype: float64"
      ]
     },
     "execution_count": 54,
     "metadata": {},
     "output_type": "execute_result"
    }
   ],
   "source": [
    "# 위와 같음\n",
    "f = lambda x : -x\n",
    "df_info[\"earn\"].apply(f).head(5)"
   ]
  },
  {
   "cell_type": "markdown",
   "metadata": {},
   "source": [
    "## 기타 함수"
   ]
  },
  {
   "cell_type": "code",
   "execution_count": 55,
   "metadata": {},
   "outputs": [
    {
     "data": {
      "text/html": [
       "<div>\n",
       "<style scoped>\n",
       "    .dataframe tbody tr th:only-of-type {\n",
       "        vertical-align: middle;\n",
       "    }\n",
       "\n",
       "    .dataframe tbody tr th {\n",
       "        vertical-align: top;\n",
       "    }\n",
       "\n",
       "    .dataframe thead th {\n",
       "        text-align: right;\n",
       "    }\n",
       "</style>\n",
       "<table border=\"1\" class=\"dataframe\">\n",
       "  <thead>\n",
       "    <tr style=\"text-align: right;\">\n",
       "      <th></th>\n",
       "      <th>earn</th>\n",
       "      <th>height</th>\n",
       "      <th>sex</th>\n",
       "      <th>ed</th>\n",
       "      <th>age</th>\n",
       "    </tr>\n",
       "  </thead>\n",
       "  <tbody>\n",
       "    <tr>\n",
       "      <th>count</th>\n",
       "      <td>1379.000000</td>\n",
       "      <td>1379.000000</td>\n",
       "      <td>1379.000000</td>\n",
       "      <td>1379.000000</td>\n",
       "      <td>1379.000000</td>\n",
       "    </tr>\n",
       "    <tr>\n",
       "      <th>mean</th>\n",
       "      <td>32446.292622</td>\n",
       "      <td>66.592640</td>\n",
       "      <td>0.622915</td>\n",
       "      <td>13.354605</td>\n",
       "      <td>45.328499</td>\n",
       "    </tr>\n",
       "    <tr>\n",
       "      <th>std</th>\n",
       "      <td>31257.070006</td>\n",
       "      <td>3.818108</td>\n",
       "      <td>0.484832</td>\n",
       "      <td>2.438741</td>\n",
       "      <td>15.789715</td>\n",
       "    </tr>\n",
       "    <tr>\n",
       "      <th>min</th>\n",
       "      <td>-98.580489</td>\n",
       "      <td>57.340000</td>\n",
       "      <td>0.000000</td>\n",
       "      <td>3.000000</td>\n",
       "      <td>22.000000</td>\n",
       "    </tr>\n",
       "    <tr>\n",
       "      <th>25%</th>\n",
       "      <td>10538.790721</td>\n",
       "      <td>63.720000</td>\n",
       "      <td>0.000000</td>\n",
       "      <td>12.000000</td>\n",
       "      <td>33.000000</td>\n",
       "    </tr>\n",
       "    <tr>\n",
       "      <th>50%</th>\n",
       "      <td>26877.870178</td>\n",
       "      <td>66.050000</td>\n",
       "      <td>1.000000</td>\n",
       "      <td>13.000000</td>\n",
       "      <td>42.000000</td>\n",
       "    </tr>\n",
       "    <tr>\n",
       "      <th>75%</th>\n",
       "      <td>44506.215336</td>\n",
       "      <td>69.315000</td>\n",
       "      <td>1.000000</td>\n",
       "      <td>15.000000</td>\n",
       "      <td>55.000000</td>\n",
       "    </tr>\n",
       "    <tr>\n",
       "      <th>max</th>\n",
       "      <td>317949.127955</td>\n",
       "      <td>77.210000</td>\n",
       "      <td>1.000000</td>\n",
       "      <td>18.000000</td>\n",
       "      <td>95.000000</td>\n",
       "    </tr>\n",
       "  </tbody>\n",
       "</table>\n",
       "</div>"
      ],
      "text/plain": [
       "                earn       height          sex           ed          age\n",
       "count    1379.000000  1379.000000  1379.000000  1379.000000  1379.000000\n",
       "mean    32446.292622    66.592640     0.622915    13.354605    45.328499\n",
       "std     31257.070006     3.818108     0.484832     2.438741    15.789715\n",
       "min       -98.580489    57.340000     0.000000     3.000000    22.000000\n",
       "25%     10538.790721    63.720000     0.000000    12.000000    33.000000\n",
       "50%     26877.870178    66.050000     1.000000    13.000000    42.000000\n",
       "75%     44506.215336    69.315000     1.000000    15.000000    55.000000\n",
       "max    317949.127955    77.210000     1.000000    18.000000    95.000000"
      ]
     },
     "execution_count": 55,
     "metadata": {},
     "output_type": "execute_result"
    }
   ],
   "source": [
    "# 전체 데이터이 요약 정보\n",
    "df.describe()"
   ]
  },
  {
   "cell_type": "code",
   "execution_count": 56,
   "metadata": {},
   "outputs": [
    {
     "data": {
      "text/plain": [
       "array(['white', 'other', 'hispanic', 'black'], dtype=object)"
      ]
     },
     "execution_count": 56,
     "metadata": {},
     "output_type": "execute_result"
    }
   ],
   "source": [
    "# 유일한 값 unique()\n",
    "df.race.unique()"
   ]
  },
  {
   "cell_type": "code",
   "execution_count": 60,
   "metadata": {},
   "outputs": [
    {
     "data": {
      "text/plain": [
       "array({0: 'white', 1: 'other', 2: 'hispanic', 3: 'black'}, dtype=object)"
      ]
     },
     "execution_count": 60,
     "metadata": {},
     "output_type": "execute_result"
    }
   ],
   "source": [
    "# 카테고리형 데이터 몇 개 인지 모를때 라벨링하기 (dict)\n",
    "res = np.array(dict(enumerate(df[\"race\"].unique())))\n",
    "res"
   ]
  },
  {
   "cell_type": "code",
   "execution_count": 59,
   "metadata": {},
   "outputs": [
    {
     "data": {
      "text/plain": [
       "([0, 1, 2, 3], ['white', 'other', 'hispanic', 'black'])"
      ]
     },
     "execution_count": 59,
     "metadata": {},
     "output_type": "execute_result"
    }
   ],
   "source": [
    "# 두 개의 리스트로도 만들 수 있음\n",
    "value = list(map(int, np.array(list(enumerate(df[\"race\"].unique())))[:, 0].tolist()))\n",
    "key = np.array(list(enumerate(df[\"race\"].unique())), dtype=str)[:, 1].tolist()\n",
    "\n",
    "value, key"
   ]
  }
 ],
 "metadata": {
  "kernelspec": {
   "display_name": "Python 3",
   "language": "python",
   "name": "python3"
  },
  "language_info": {
   "codemirror_mode": {
    "name": "ipython",
    "version": 3
   },
   "file_extension": ".py",
   "mimetype": "text/x-python",
   "name": "python",
   "nbconvert_exporter": "python",
   "pygments_lexer": "ipython3",
   "version": "3.8.5"
  }
 },
 "nbformat": 4,
 "nbformat_minor": 4
}
