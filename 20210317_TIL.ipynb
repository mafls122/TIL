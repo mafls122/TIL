{
 "cells": [
  {
   "cell_type": "markdown",
   "metadata": {},
   "source": [
    "\n",
    "- 강화학습 : 행동과 보상을 조합하여 기계 스스로 배워나가는 것\n"
   ]
  },
  {
   "cell_type": "markdown",
   "metadata": {},
   "source": [
    "## 재귀함수 연습"
   ]
  },
  {
   "cell_type": "code",
   "execution_count": 12,
   "metadata": {},
   "outputs": [
    {
     "data": {
      "text/plain": [
       "55"
      ]
     },
     "execution_count": 12,
     "metadata": {},
     "output_type": "execute_result"
    }
   ],
   "source": [
    "# 상향식(Botoom-up) 방법\n",
    "def fib_bu(n):\n",
    "    dp[0] = 0\n",
    "    dp[1] = 1\n",
    "    \n",
    "    for i in range(2, n+1):\n",
    "        dp[i] = dp[i-1] + dp[i-2]\n",
    "    \n",
    "    return dp[n]\n",
    "\n",
    "dp = [ 0 for x in range(100) ]\n",
    "fib_bu(10)"
   ]
  },
  {
   "cell_type": "code",
   "execution_count": 13,
   "metadata": {},
   "outputs": [
    {
     "data": {
      "text/plain": [
       "55"
      ]
     },
     "execution_count": 13,
     "metadata": {},
     "output_type": "execute_result"
    }
   ],
   "source": [
    "# 하향식(Top-dowun) 방법\n",
    "def fib_td(n):\n",
    "    if n <= 1:\n",
    "        return n\n",
    "    \n",
    "    if dp[n]:\n",
    "        return dp[n]\n",
    "    dp[n] = fib_td(n-1) + fib_td(n-2)\n",
    "    \n",
    "    return dp[n]\n",
    "\n",
    "fib_td(10)"
   ]
  },
  {
   "cell_type": "code",
   "execution_count": 32,
   "metadata": {},
   "outputs": [
    {
     "name": "stdout",
     "output_type": "stream",
     "text": [
      "131 ns ± 0.341 ns per loop (mean ± std. dev. of 7 runs, 10000000 loops each)\n"
     ]
    }
   ],
   "source": [
    "%%timeit  # 시간을 측정\n",
    "fib_td(10)"
   ]
  },
  {
   "cell_type": "code",
   "execution_count": 34,
   "metadata": {},
   "outputs": [
    {
     "data": {
      "text/plain": [
       "13"
      ]
     },
     "execution_count": 34,
     "metadata": {},
     "output_type": "execute_result"
    }
   ],
   "source": [
    "# test1. 계단의 수 n이 주어지며 1 또는 2 만큼식 계단을 오를 수 있다. 계단을 오를 수 있는 방법의 수는?\n",
    "\n",
    "def step(n):\n",
    "    if n == 1:\n",
    "        return 1\n",
    "    if n == 2:\n",
    "        return 2\n",
    "    \n",
    "    return step(n-1) + step(n-2)\n",
    "    \n",
    "step(6)"
   ]
  },
  {
   "cell_type": "code",
   "execution_count": 41,
   "metadata": {},
   "outputs": [
    {
     "data": {
      "text/plain": [
       "defaultdict(str, {'a': 'A'})"
      ]
     },
     "execution_count": 41,
     "metadata": {},
     "output_type": "execute_result"
    }
   ],
   "source": [
    "from collections import defaultdict\n",
    "\n",
    "tmp = defaultdict(str)  # 기본값이 없으면 기본값 지정, int = 0, str = ''\n",
    "tmp['a'] \n",
    "tmp['a'] = 'A' \n",
    "tmp"
   ]
  },
  {
   "cell_type": "code",
   "execution_count": 57,
   "metadata": {},
   "outputs": [
    {
     "name": "stdout",
     "output_type": "stream",
     "text": [
      "45.3 µs ± 152 ns per loop (mean ± std. dev. of 7 runs, 10000 loops each)\n"
     ]
    }
   ],
   "source": [
    "%%timeit\n",
    "dp = defaultdict(int)\n",
    "def climb(n):\n",
    "    if n <= 2:\n",
    "        return n\n",
    "    \n",
    "    if dp[n] :\n",
    "        return dp[n]\n",
    "    \n",
    "    dp[n] = climb(n-1) + climb(n-2)\n",
    "    return dp[n]\n",
    "\n",
    "climb(100)"
   ]
  },
  {
   "cell_type": "code",
   "execution_count": 100,
   "metadata": {},
   "outputs": [
    {
     "data": {
      "text/plain": [
       "OrderedDict()"
      ]
     },
     "execution_count": 100,
     "metadata": {},
     "output_type": "execute_result"
    }
   ],
   "source": [
    "from collections import OrderedDict\n",
    "\n",
    "b = OrderedDict()\n",
    "b\n",
    "\n",
    "# 파이썬 옛날 버전은 dict가 정렬이 안됐었음\n"
   ]
  },
  {
   "cell_type": "code",
   "execution_count": 104,
   "metadata": {},
   "outputs": [
    {
     "data": {
      "text/plain": [
       "12"
      ]
     },
     "execution_count": 104,
     "metadata": {},
     "output_type": "execute_result"
    }
   ],
   "source": [
    "# test2. 집(리스트)의 돈(리스트 값)을 도둑하는데 한 집 건너서만 가능하다. 가장 많은 돈을 얻으면 얼마인가\n",
    "\n",
    "def rob(target):\n",
    "    if not target:\n",
    "        return 0\n",
    "    if len(target) <= 2:\n",
    "        return max(target)\n",
    "    \n",
    "    dp = OrderedDict()\n",
    "    dp[0], dp[1] = target[0], max(target[0], target[1])\n",
    "    for i in range(2, len(target)):\n",
    "        dp[i] = max(dp[i-1], dp[i-2] + target[i])\n",
    "        \n",
    "    return dp.popitem()[1]\n",
    "\n",
    "    \n",
    "rob([2,7,9,3,1])"
   ]
  },
  {
   "cell_type": "markdown",
   "metadata": {},
   "source": [
    "## packing, unpacking"
   ]
  },
  {
   "cell_type": "markdown",
   "metadata": {},
   "source": [
    "a, b = [1,2]\n",
    "\n",
    "_, num = 함수()"
   ]
  },
  {
   "cell_type": "code",
   "execution_count": 108,
   "metadata": {},
   "outputs": [
    {
     "data": {
      "text/plain": [
       "'dummy'"
      ]
     },
     "execution_count": 108,
     "metadata": {},
     "output_type": "execute_result"
    }
   ],
   "source": [
    "def fun1():\n",
    "    return 'dummy', 7\n",
    "\n",
    "_, b = fun1()\n",
    "\n",
    "_"
   ]
  }
 ],
 "metadata": {
  "kernelspec": {
   "display_name": "Python 3",
   "language": "python",
   "name": "python3"
  },
  "language_info": {
   "codemirror_mode": {
    "name": "ipython",
    "version": 3
   },
   "file_extension": ".py",
   "mimetype": "text/x-python",
   "name": "python",
   "nbconvert_exporter": "python",
   "pygments_lexer": "ipython3",
   "version": "3.8.5"
  }
 },
 "nbformat": 4,
 "nbformat_minor": 4
}
