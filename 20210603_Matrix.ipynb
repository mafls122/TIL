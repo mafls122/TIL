{
 "cells": [
  {
   "cell_type": "markdown",
   "metadata": {},
   "source": [
    "## 행렬"
   ]
  },
  {
   "cell_type": "code",
   "execution_count": 3,
   "metadata": {},
   "outputs": [
    {
     "name": "stdout",
     "output_type": "stream",
     "text": [
      "[[1 2 3]\n",
      " [4 5 6]\n",
      " [7 8 9]]\n",
      "(3, 3)\n"
     ]
    }
   ],
   "source": [
    "import numpy as np\n",
    "\n",
    "X = np.array([[1,2,3],\n",
    "             [4,5,6],\n",
    "             [7,8,9]])\n",
    "\n",
    "print(X)\n",
    "print(X.shape)"
   ]
  },
  {
   "cell_type": "markdown",
   "metadata": {},
   "source": [
    "## 행렬 곱셈"
   ]
  },
  {
   "cell_type": "code",
   "execution_count": 13,
   "metadata": {},
   "outputs": [
    {
     "name": "stdout",
     "output_type": "stream",
     "text": [
      "행렬 곱셈\n",
      " [[-11 -23]\n",
      " [ 10  19]\n",
      " [ 23  56]]\n",
      "\n",
      "numpy의 행렬 곱셈\n",
      " [[ 6 12]\n",
      " [ 9 18]\n",
      " [ 3  6]]\n"
     ]
    }
   ],
   "source": [
    "X = np.array([[1,2,3],\n",
    "              [4,5,0],\n",
    "              [9,-1,-5]])\n",
    "\n",
    "Y = np.array([[0,1],\n",
    "             [2,3],\n",
    "             [-5,-10]])\n",
    "\n",
    "Z = np.array([[1,1,1],\n",
    "             [2,2,2]])\n",
    "\n",
    "# numpy 행렬 곱셈은 @ 연산 사용\n",
    "print('행렬 곱셈\\n',X@Y) # X의 열의 개수와 Y의 행의 수가 같아야함\n",
    "print()\n",
    "print('numpy의 행렬 곱셈\\n',np.inner(X,Z))  # 두 행의 크기가 같아야함"
   ]
  },
  {
   "cell_type": "markdown",
   "metadata": {},
   "source": [
    "## 역행렬\n",
    "\n",
    "### 행과 열의 수가 같아야함! 주의!"
   ]
  },
  {
   "cell_type": "code",
   "execution_count": 18,
   "metadata": {
    "scrolled": true
   },
   "outputs": [
    {
     "name": "stdout",
     "output_type": "stream",
     "text": [
      "[[ 0.08860759 -0.15189873 -0.01265823]\n",
      " [-0.06329114  0.82278481  0.15189873]\n",
      " [-0.02531646  0.32911392 -0.13924051]]\n",
      "\n",
      "[[ 1.00000000e+00  5.55111512e-17  0.00000000e+00]\n",
      " [-6.93889390e-18  1.00000000e+00  2.77555756e-17]\n",
      " [ 6.93889390e-18 -5.55111512e-17  1.00000000e+00]]\n"
     ]
    }
   ],
   "source": [
    "X = np.array([[13,2,1],\n",
    "             [1,1,1],\n",
    "              [0,2,-5]])\n",
    "\n",
    "print(np.linalg.inv(X))\n",
    "print()\n",
    "print( X @ np.linalg.inv(X))  # 항등 행렬"
   ]
  },
  {
   "cell_type": "markdown",
   "metadata": {},
   "source": [
    "## 유사역행렬"
   ]
  },
  {
   "cell_type": "code",
   "execution_count": 20,
   "metadata": {
    "scrolled": true
   },
   "outputs": [
    {
     "name": "stdout",
     "output_type": "stream",
     "text": [
      "[[ 0.06545961  0.01810585  0.01671309]\n",
      " [ 0.00696379 -0.10445682 -0.01949861]\n",
      " [ 0.00417827 -0.06267409 -0.21169916]]\n",
      "\n",
      "[[ 1.00000000e+00 -6.93889390e-17 -5.55111512e-17]\n",
      " [ 2.34187669e-17  1.00000000e+00 -1.11022302e-16]\n",
      " [-9.54097912e-18  1.24900090e-16  1.00000000e+00]]\n"
     ]
    }
   ],
   "source": [
    "X = np.array([[15,2,1],\n",
    "             [1,-10,1],\n",
    "              [0,3,-5]])\n",
    "\n",
    "print(np.linalg.pinv(X))\n",
    "print()\n",
    "print( X @ np.linalg.pinv(X))  # 항등 행렬"
   ]
  }
 ],
 "metadata": {
  "kernelspec": {
   "display_name": "Python 3",
   "language": "python",
   "name": "python3"
  },
  "language_info": {
   "codemirror_mode": {
    "name": "ipython",
    "version": 3
   },
   "file_extension": ".py",
   "mimetype": "text/x-python",
   "name": "python",
   "nbconvert_exporter": "python",
   "pygments_lexer": "ipython3",
   "version": "3.8.5"
  }
 },
 "nbformat": 4,
 "nbformat_minor": 4
}
