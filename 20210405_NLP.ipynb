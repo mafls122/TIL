{
 "cells": [
  {
   "cell_type": "code",
   "execution_count": 1,
   "metadata": {},
   "outputs": [
    {
     "name": "stdout",
     "output_type": "stream",
     "text": [
      "522\n",
      "39 ['MDT', 'MDN', 'VV', 'XR', 'MAG', 'OL', 'XSA', 'XSV', 'EFQ', 'EFN', 'XSN', 'JKC', 'UN', 'VXV', 'JC', 'ETN', 'NNG', 'NNP', 'JKM', 'EPH', 'SP', 'VA', 'NP', 'SF', 'JKO', 'JX', 'ECS', 'VCN', 'VXA', 'NNM', 'JKG', 'JKS', 'EPT', 'ECE', 'ECD', 'VCP', 'NR', 'ETD', 'NNB']\n",
      "7.471264367816093\n"
     ]
    }
   ],
   "source": [
    "from collections import Counter\n",
    "from konlpy.tag import Kkma\n",
    "from konlpy.utils import pprint\n",
    "\n",
    "# 형태소 분석 (morphs)\n",
    "f = open('주아.txt','r',encoding='utf-8')\n",
    "news = f.read()\n",
    "\n",
    "# kkma 객체 생성\n",
    "kkma = Kkma()\n",
    "\n",
    "# 형태소 추출\n",
    "morph = kkma.morphs(news)\n",
    "# 태그 추출\n",
    "pos = kkma.pos(news)\n",
    "\n",
    "            \n",
    "# 빈도 카운트 및 저장(dict)        \n",
    "count = Counter(pos)\n",
    "# pprint(count)\n",
    "\n",
    "\n",
    "# TTR  type/token\n",
    "token = len(count.items())\n",
    "print(token)  # token\n",
    "# print(count.keys())\n",
    "type = []\n",
    "for i in count.keys() :\n",
    "    type.append(i[1])\n",
    "\n",
    "type = list(set(type))\n",
    "type_int = len(type)\n",
    "print(type_int, type)\n",
    "print((type_int / token) *100)\n"
   ]
  },
  {
   "cell_type": "code",
   "execution_count": 3,
   "metadata": {},
   "outputs": [
    {
     "name": "stdout",
     "output_type": "stream",
     "text": [
      "['설마', '고기를', '아무렇게나', '구우려고', '하면', '안', '돼', '.', '고기라고', '다', '같은', '게', '아니거든', '.', '설마', '그렇게', '구울려고', '?', '그', '전부터', '있잖아', '삼겹살을', '구울', '때는', '중요한', '게', '있지', '.']\n",
      "['설마', '설마', '그', '있잖아']\n",
      "4\n"
     ]
    }
   ],
   "source": [
    "from nltk.corpus import stopwords \n",
    "from nltk.tokenize import word_tokenize \n",
    "\n",
    "# 예시 문장\n",
    "example = \"설마 고기를 아무렇게나 구우려고 하면 안 돼. 고기라고 다 같은 게 아니거든. 설마 그렇게 구울려고? 그 전부터 있잖아 삼겹살을 구울 때는 중요한 게 있지.\"\n",
    "\n",
    "# filler words 리스트\n",
    "filler_words = ['설마', '그렇군요', '그렇구나', '그럼', '아야', '마구', '그러니까', '말하자면', '그다지', '어머나', '맞아요', '저', '있잖아', '아', '그래', '뭐랄까', '오', '그', '뭐라고', '글쎄', '솔직히', '뭐지', '뭐더라', '그래요', '아무튼', '에이', '막', '아이고', '예', '어머', '세상에', '자', '뭐', '우와', '그게', '글쎄요', '정말', '음', '맞아', '어쨌든', '좀', '야', '진짜', '별로', '네', '참', '에휴', '쉿', '어', '저기요', '그냥']\n",
    "\n",
    "# 토큰화\n",
    "word_tokens = word_tokenize(example)\n",
    "\n",
    "# 불용어 체크\n",
    "result = [] \n",
    "result=[word for word in word_tokens if word in filler_words]\n",
    "\n",
    "# 출력\n",
    "print(word_tokens) \n",
    "print(result)\n",
    "print(len(result))"
   ]
  }
 ],
 "metadata": {
  "kernelspec": {
   "display_name": "Python 3",
   "language": "python",
   "name": "python3"
  },
  "language_info": {
   "codemirror_mode": {
    "name": "ipython",
    "version": 3
   },
   "file_extension": ".py",
   "mimetype": "text/x-python",
   "name": "python",
   "nbconvert_exporter": "python",
   "pygments_lexer": "ipython3",
   "version": "3.8.5"
  }
 },
 "nbformat": 4,
 "nbformat_minor": 4
}
