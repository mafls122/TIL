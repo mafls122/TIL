{
 "cells": [
  {
   "cell_type": "code",
   "execution_count": 2,
   "id": "ea9dddbe",
   "metadata": {},
   "outputs": [
    {
     "name": "stdout",
     "output_type": "stream",
     "text": [
      "1\n",
      "13\n",
      "OOIOIOIOIIOII\n",
      "4\n"
     ]
    }
   ],
   "source": [
    "N = int(input())\n",
    "M = int(input())\n",
    "S = input()\n",
    " \n",
    "answer = 0\n",
    "pattern = 0\n",
    "i = 1\n",
    "\n",
    "while i < M-1:\n",
    "    if S[i-1]=='I' and S[i]=='O' and S[i+1]=='I' :\n",
    "        pattern += 1\n",
    "        if pattern == N:\n",
    "            pattern -= 1\n",
    "            answer += 1\n",
    "        i += 1\n",
    "    else :\n",
    "        pattern = 0 \n",
    "    i += 1\n",
    "\n",
    "print(answer)"
   ]
  }
 ],
 "metadata": {
  "kernelspec": {
   "display_name": "Python 3",
   "language": "python",
   "name": "python3"
  },
  "language_info": {
   "codemirror_mode": {
    "name": "ipython",
    "version": 3
   },
   "file_extension": ".py",
   "mimetype": "text/x-python",
   "name": "python",
   "nbconvert_exporter": "python",
   "pygments_lexer": "ipython3",
   "version": "3.8.8"
  }
 },
 "nbformat": 4,
 "nbformat_minor": 5
}
