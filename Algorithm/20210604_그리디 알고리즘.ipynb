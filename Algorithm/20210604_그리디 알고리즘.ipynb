{
 "cells": [
  {
   "cell_type": "code",
   "execution_count": 1,
   "metadata": {},
   "outputs": [
    {
     "name": "stdout",
     "output_type": "stream",
     "text": [
      "6\n"
     ]
    }
   ],
   "source": [
    "n = 1260\n",
    "count = 0\n",
    "\n",
    "array = [ 500, 100, 50, 10 ]\n",
    "\n",
    "for coin in array:\n",
    "    count += n // coin\n",
    "    n %= coin\n",
    "    \n",
    "print(count)"
   ]
  },
  {
   "cell_type": "code",
   "execution_count": 4,
   "metadata": {},
   "outputs": [
    {
     "name": "stdout",
     "output_type": "stream",
     "text": [
      "25 5\n",
      "2\n"
     ]
    }
   ],
   "source": [
    "n, k = map(int, input().split())\n",
    "\n",
    "res = 0\n",
    "\n",
    "while True:\n",
    "    # k로 안나누어 떨어질때 k로 나누어 떨어지는 수 찾기\n",
    "    target = (n//k) * k  \n",
    "    res += (n-target)\n",
    "    n = target\n",
    "    \n",
    "    if n < k :\n",
    "        break\n",
    "        \n",
    "    res += 1\n",
    "    n //= k\n",
    "    \n",
    "res += (n-1)\n",
    "print(res)"
   ]
  },
  {
   "cell_type": "code",
   "execution_count": 3,
   "metadata": {},
   "outputs": [
    {
     "name": "stdout",
     "output_type": "stream",
     "text": [
      "42321\n",
      "49\n"
     ]
    }
   ],
   "source": [
    "data = input()\n",
    "\n",
    "res = int(data[0])\n",
    "\n",
    "for i in range(1,len(data)):\n",
    "    num = int(data[i])\n",
    "    if num <= 1 or res <= 1:\n",
    "        res += num\n",
    "    else:\n",
    "        res *= num\n",
    "        \n",
    "print(res)"
   ]
  },
  {
   "cell_type": "code",
   "execution_count": 7,
   "metadata": {},
   "outputs": [
    {
     "name": "stdout",
     "output_type": "stream",
     "text": [
      "5\n",
      "1 2 2 3 2 2\n",
      "3\n"
     ]
    }
   ],
   "source": [
    "n = int(input())\n",
    "data = list(map(int, input().split()))\n",
    "data.sort()\n",
    "\n",
    "res = 0 # 총 그룹 수\n",
    "count = 0 # 현재 그룹에 포함된 모험가 수\n",
    "\n",
    "for i in data :\n",
    "    count += 1  # 그룹에 모험가 포함\n",
    "    if count >= i :  # 모험가 수가 공포도 보다 높다면\n",
    "        res += 1  # 그룹 수 증가\n",
    "        count = 0  # 모험가 수 초기화\n",
    "        \n",
    "print(res)"
   ]
  }
 ],
 "metadata": {
  "kernelspec": {
   "display_name": "Python 3",
   "language": "python",
   "name": "python3"
  },
  "language_info": {
   "codemirror_mode": {
    "name": "ipython",
    "version": 3
   },
   "file_extension": ".py",
   "mimetype": "text/x-python",
   "name": "python",
   "nbconvert_exporter": "python",
   "pygments_lexer": "ipython3",
   "version": "3.8.5"
  }
 },
 "nbformat": 4,
 "nbformat_minor": 4
}
