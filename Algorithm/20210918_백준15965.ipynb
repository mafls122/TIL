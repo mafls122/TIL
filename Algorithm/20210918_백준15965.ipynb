{
 "cells": [
  {
   "cell_type": "code",
   "execution_count": 1,
   "id": "2b6afd81",
   "metadata": {},
   "outputs": [
    {
     "name": "stdout",
     "output_type": "stream",
     "text": [
      "10\n",
      "29\n"
     ]
    }
   ],
   "source": [
    "n = int(input())\n",
    "\n",
    "# 소수 리스트 만들기\n",
    "def numPrime(num=10000000):\n",
    "    # 리스트 초기화 : 0,1 자리는 False로 초기화, 2~num까지 True로 시작한다.\n",
    "    sieve = [False, False] + ([True] * (num-1))\n",
    "    primes = []\n",
    "      \n",
    "    # 2부터 자신의 수까지\n",
    "    for i in range(2, num+1):\n",
    "        if sieve[i]:  # True(소수)일 경우 추가\n",
    "            primes.append(i)\n",
    "        for j in range(i*2, num+1, i):  # ex) 2의 배수 리스트는 False로 변경 4,6,8,,,\n",
    "            sieve[j] = False\n",
    "            \n",
    "    return primes\n",
    "\n",
    "prime = numPrime()\n",
    "print(prime[n-1])"
   ]
  },
  {
   "cell_type": "markdown",
   "id": "13ea38ee",
   "metadata": {},
   "source": [
    "## 에라토스테네스의 체로 소수 구하기\n",
    "\n",
    "## https://upgrade-j.tistory.com/entry/python%EC%95%8C%EA%B3%A0%EB%A6%AC%EC%A6%98-%EC%86%8C%EC%88%98-%EA%B5%AC%ED%95%98%EA%B8%B0"
   ]
  }
 ],
 "metadata": {
  "kernelspec": {
   "display_name": "Python 3",
   "language": "python",
   "name": "python3"
  },
  "language_info": {
   "codemirror_mode": {
    "name": "ipython",
    "version": 3
   },
   "file_extension": ".py",
   "mimetype": "text/x-python",
   "name": "python",
   "nbconvert_exporter": "python",
   "pygments_lexer": "ipython3",
   "version": "3.8.8"
  }
 },
 "nbformat": 4,
 "nbformat_minor": 5
}
