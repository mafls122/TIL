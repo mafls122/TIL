{
 "cells": [
  {
   "cell_type": "code",
   "execution_count": null,
   "id": "53a31a4c",
   "metadata": {},
   "outputs": [
    {
     "name": "stdout",
     "output_type": "stream",
     "text": [
      "4\n",
      "10 20 30 40\n",
      "40\n"
     ]
    }
   ],
   "source": [
    "from itertools import combinations\n",
    "\n",
    "# 최대 공약수 구하기\n",
    "def gcd(x,y):\n",
    "  while x:\n",
    "      y, x = x, y % x\n",
    "  \n",
    "  return y\n",
    "\n",
    "\n",
    "n = int(input())\n",
    "lists = []\n",
    "result = 0\n",
    "\n",
    "for _ in range(n):\n",
    "    lists = list(map(int, input().split())) # 최대공약수 구할 숫자 리스트\n",
    "    lists = lists[::-1] # 내림차순 정렬\n",
    "    del lists[len(lists) - 1] # 마지막 요소 제거\n",
    "    ncr = combinations(lists, 2) # 조합 생성\n",
    "    \n",
    "    for i in ncr:\n",
    "        result += gcd(i[0], i[1]) # 조합을 통해 최대공약수들 합 result에 저장\n",
    "    \n",
    "    print(result) # 출력\n",
    "    result = 0 # 초기화\n"
   ]
  },
  {
   "cell_type": "code",
   "execution_count": 1,
   "id": "183278cf",
   "metadata": {},
   "outputs": [
    {
     "name": "stdout",
     "output_type": "stream",
     "text": [
      "순열: [(1, 2), (1, 3), (2, 1), (2, 3), (3, 1), (3, 2)] \n",
      "조합: [(1, 2), (1, 3), (2, 3)]\n"
     ]
    }
   ],
   "source": [
    "import itertools\n",
    "\n",
    "lists = [1, 2, 3]\n",
    "permut = list(itertools.permutations(lists, 2))\n",
    "comb = list(itertools.combinations(lists, 2))\n",
    "\n",
    "# permutations는 순열, combinations는 조합을 쉽게 출력한다.\n",
    "print('순열: {} \\n조합: {}'.format(permut, comb))"
   ]
  }
 ],
 "metadata": {
  "kernelspec": {
   "display_name": "Python 3",
   "language": "python",
   "name": "python3"
  },
  "language_info": {
   "codemirror_mode": {
    "name": "ipython",
    "version": 3
   },
   "file_extension": ".py",
   "mimetype": "text/x-python",
   "name": "python",
   "nbconvert_exporter": "python",
   "pygments_lexer": "ipython3",
   "version": "3.8.8"
  }
 },
 "nbformat": 4,
 "nbformat_minor": 5
}
