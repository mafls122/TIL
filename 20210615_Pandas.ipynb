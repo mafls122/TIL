{
 "cells": [
  {
   "cell_type": "code",
   "execution_count": 1,
   "metadata": {},
   "outputs": [],
   "source": [
    "import pandas as pd"
   ]
  },
  {
   "cell_type": "code",
   "execution_count": null,
   "metadata": {},
   "outputs": [],
   "source": [
    "import numpy as np\n",
    "df = pd.read_excel(\"./data/example.xlsx\")\n",
    "\n",
    "# 앞의 5개 데이터 출력\n",
    "df.head()"
   ]
  },
  {
   "cell_type": "code",
   "execution_count": null,
   "metadata": {},
   "outputs": [],
   "source": [
    "# row인덱스 기준으로 3개의 데이터 출력 (0,1,2)\n",
    "df[:3]"
   ]
  },
  {
   "cell_type": "code",
   "execution_count": null,
   "metadata": {},
   "outputs": [],
   "source": [
    "# account 컬럼의 앞 2개의 데이터 출력\n",
    "df[\"account\"].head(2)"
   ]
  },
  {
   "cell_type": "code",
   "execution_count": null,
   "metadata": {},
   "outputs": [],
   "source": [
    "a_serires = df[\"account\"]\n",
    "a_serires[:3]\n",
    "\n",
    "# 두개 같음\n",
    "\n",
    "a_serires[[0,1,2]]"
   ]
  },
  {
   "cell_type": "code",
   "execution_count": null,
   "metadata": {},
   "outputs": [],
   "source": [
    "# 조건에 맞는 데이터 출력\n",
    "account_serires[a_serires<25000]"
   ]
  },
  {
   "cell_type": "code",
   "execution_count": null,
   "metadata": {},
   "outputs": [],
   "source": [
    "# df의 인덱스를 account 칼럼의 값으로 변경\n",
    "# 인덱스값을 따로 지정할 수 있음(df.index)\n",
    "\n",
    "#ex1\n",
    "df.index = df[\"account\"]\n",
    "\n",
    "#ex2\n",
    "df.index = list(range(0,15))"
   ]
  },
  {
   "cell_type": "code",
   "execution_count": null,
   "metadata": {},
   "outputs": [],
   "source": [
    "# 1. 컬럼의 이름과 인덱스 번호를 지정하여 출력\n",
    "df[[\"name\",\"street\"]][:2]\n",
    "\n",
    "# 2. 인덱스의 값과 컬럼 이름을 지정하여 출력\n",
    "df.loc[[21111,32222],[\"name\",\"street\"]]\n",
    "\n",
    "# 3. iloc 사용해서 인덱스 번호로만 출력\n",
    "df.iloc[:2,:2]"
   ]
  },
  {
   "cell_type": "code",
   "execution_count": null,
   "metadata": {},
   "outputs": [],
   "source": [
    "# drop을 사용하여 컬럼 삭제 df.drop(row number)\n",
    "\n",
    "# ex1\n",
    "df.drop(1)\n",
    "\n",
    "# ex2\n",
    "df.drop([0,1,2,3])\n",
    "\n",
    "# ex3 축 기준, axis=1을 꼭 넣어주어야함\n",
    "df.drop(\"city\", axis=1)\n",
    "df.drop([\"city\",\"state\"], axis=1)"
   ]
  },
  {
   "cell_type": "markdown",
   "metadata": {},
   "source": [
    "## 판다스에서 데이터 핸들링할때 원본 데이터를 쉽게 삭제하지 않는다.\n",
    "\n",
    "원본 데이터를 변환하고 싶으면 inplace argument를 지정해주어야 한다.\n",
    "\n",
    "ex)\n",
    "df.drop([\"city\",\"state\"], axis=1, inplace=True)\n",
    "\n",
    "그냥 drop하면 복사본의 컬럼이 사라지는 것임.\n",
    "drop하면 복사본을 생성하여 지우고 보여주는 것(inplace=False)\n"
   ]
  },
  {
   "cell_type": "code",
   "execution_count": null,
   "metadata": {},
   "outputs": [],
   "source": [
    "## Series operation(시리즈 연산)\n",
    "# index number 기준으로 연산된다.\n",
    "# 컬럼을 기준으로 브로드캐스팅(broadcasting)이 발생한다."
   ]
  }
 ],
 "metadata": {
  "kernelspec": {
   "display_name": "Python 3",
   "language": "python",
   "name": "python3"
  },
  "language_info": {
   "codemirror_mode": {
    "name": "ipython",
    "version": 3
   },
   "file_extension": ".py",
   "mimetype": "text/x-python",
   "name": "python",
   "nbconvert_exporter": "python",
   "pygments_lexer": "ipython3",
   "version": "3.8.5"
  }
 },
 "nbformat": 4,
 "nbformat_minor": 4
}
