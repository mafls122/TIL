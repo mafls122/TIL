{
 "cells": [
  {
   "cell_type": "markdown",
   "metadata": {},
   "source": [
    "## 데이터 모델링 연습"
   ]
  },
  {
   "cell_type": "code",
   "execution_count": 6,
   "metadata": {},
   "outputs": [],
   "source": [
    "import datetime\n",
    "import numpy as np\n",
    "import matplotlib.pyplot as plt\n",
    "from keras.layers import Input, Activation, Conv2D, Flatten, Dense, MaxPooling2D\n",
    "from keras.models import Model, load_model\n",
    "from keras.preprocessing.image import ImageDataGenerator\n",
    "from keras.callbacks import ModelCheckpoint, ReduceLROnPlateau"
   ]
  },
  {
   "cell_type": "code",
   "execution_count": 7,
   "metadata": {},
   "outputs": [
    {
     "name": "stdout",
     "output_type": "stream",
     "text": [
      "(2586, 26, 34, 1) (2586, 1)\n",
      "(288, 26, 34, 1) (288, 1)\n"
     ]
    }
   ],
   "source": [
    "# 데이터 로드\n",
    "x_train = np.load('eye_blink_detector-master/dataset/x_train.npy').astype(np.float32)\n",
    "y_train = np.load('eye_blink_detector-master/dataset/y_train.npy').astype(np.float32)\n",
    "x_val = np.load('eye_blink_detector-master/dataset/x_val.npy').astype(np.float32)\n",
    "y_val = np.load('eye_blink_detector-master/dataset/y_val.npy').astype(np.float32)\n",
    "\n",
    "# 데이터 shape 확인\n",
    "print(x_train.shape, y_train.shape)\n",
    "print(x_val.shape, y_val.shape)"
   ]
  },
  {
   "cell_type": "code",
   "execution_count": 9,
   "metadata": {},
   "outputs": [
    {
     "name": "stdout",
     "output_type": "stream",
     "text": [
      "Model: \"model\"\n",
      "_________________________________________________________________\n",
      "Layer (type)                 Output Shape              Param #   \n",
      "=================================================================\n",
      "input_1 (InputLayer)         [(None, 26, 34, 1)]       0         \n",
      "_________________________________________________________________\n",
      "conv2d (Conv2D)              (None, 26, 34, 32)        320       \n",
      "_________________________________________________________________\n",
      "max_pooling2d (MaxPooling2D) (None, 13, 17, 32)        0         \n",
      "_________________________________________________________________\n",
      "conv2d_1 (Conv2D)            (None, 13, 17, 64)        18496     \n",
      "_________________________________________________________________\n",
      "max_pooling2d_1 (MaxPooling2 (None, 6, 8, 64)          0         \n",
      "_________________________________________________________________\n",
      "conv2d_2 (Conv2D)            (None, 6, 8, 128)         73856     \n",
      "_________________________________________________________________\n",
      "max_pooling2d_2 (MaxPooling2 (None, 3, 4, 128)         0         \n",
      "_________________________________________________________________\n",
      "flatten (Flatten)            (None, 1536)              0         \n",
      "_________________________________________________________________\n",
      "dense (Dense)                (None, 512)               786944    \n",
      "_________________________________________________________________\n",
      "activation (Activation)      (None, 512)               0         \n",
      "_________________________________________________________________\n",
      "dense_1 (Dense)              (None, 1)                 513       \n",
      "_________________________________________________________________\n",
      "activation_1 (Activation)    (None, 1)                 0         \n",
      "=================================================================\n",
      "Total params: 880,129\n",
      "Trainable params: 880,129\n",
      "Non-trainable params: 0\n",
      "_________________________________________________________________\n"
     ]
    }
   ],
   "source": [
    "# 모델링\n",
    "\n",
    "inputs = Input(shape=(26, 34, 1))\n",
    "\n",
    "net = Conv2D(32, kernel_size=3, strides=1, padding='same', activation='relu')(inputs)\n",
    "net = MaxPooling2D(pool_size=2)(net)\n",
    "\n",
    "net = Conv2D(64, kernel_size=3, strides=1, padding='same', activation='relu')(net)\n",
    "net = MaxPooling2D(pool_size=2)(net)\n",
    "\n",
    "net = Conv2D(128, kernel_size=3, strides=1, padding='same', activation='relu')(net)\n",
    "net = MaxPooling2D(pool_size=2)(net)\n",
    "\n",
    "net = Flatten()(net)\n",
    "\n",
    "net = Dense(512)(net)\n",
    "net = Activation('relu')(net)\n",
    "net = Dense(1)(net)\n",
    "outputs = Activation('sigmoid')(net)\n",
    "\n",
    "model = Model(inputs=inputs, outputs=outputs)\n",
    "\n",
    "model.compile(optimizer='Rmsprop', loss='binary_crossentropy', metrics=['acc'])\n",
    "\n",
    "model.summary()"
   ]
  },
  {
   "cell_type": "code",
   "execution_count": 15,
   "metadata": {},
   "outputs": [],
   "source": [
    "# 데이터 복제\n",
    "\n",
    "train_datagen = ImageDataGenerator(\n",
    "    rescale=1./255,\n",
    "    rotation_range=10,\n",
    "    width_shift_range=0.2,\n",
    "    height_shift_range=0.2,\n",
    "    shear_range=0.2\n",
    ")\n",
    "\n",
    "val_datagen = ImageDataGenerator(rescale=1./255)\n",
    "\n",
    "train_generator = train_datagen.flow(\n",
    "    x=x_train, y=y_train,\n",
    "    batch_size=32,\n",
    "    shuffle=True\n",
    ")\n",
    "\n",
    "val_generator = val_datagen.flow(\n",
    "    x=x_val, y=y_val,\n",
    "    batch_size=32,\n",
    "    shuffle=False\n",
    ")"
   ]
  },
  {
   "cell_type": "code",
   "execution_count": 16,
   "metadata": {},
   "outputs": [
    {
     "name": "stderr",
     "output_type": "stream",
     "text": [
      "C:\\ProgramData\\Anaconda3\\lib\\site-packages\\tensorflow\\python\\keras\\engine\\training.py:1844: UserWarning: `Model.fit_generator` is deprecated and will be removed in a future version. Please use `Model.fit`, which supports generators.\n",
      "  warnings.warn('`Model.fit_generator` is deprecated and '\n"
     ]
    },
    {
     "name": "stdout",
     "output_type": "stream",
     "text": [
      "Epoch 1/20\n",
      "81/81 [==============================] - 6s 52ms/step - loss: 0.6066 - acc: 0.6351 - val_loss: 0.2136 - val_acc: 0.9062\n",
      "\n",
      "Epoch 00001: val_acc improved from -inf to 0.90625, saving model to models\\20210301.h5\n",
      "Epoch 2/20\n",
      "81/81 [==============================] - 4s 43ms/step - loss: 0.2785 - acc: 0.8943 - val_loss: 0.1137 - val_acc: 0.9792\n",
      "\n",
      "Epoch 00002: val_acc improved from 0.90625 to 0.97917, saving model to models\\20210301.h5\n",
      "Epoch 3/20\n",
      "81/81 [==============================] - 4s 47ms/step - loss: 0.2019 - acc: 0.9255 - val_loss: 0.0705 - val_acc: 0.9688\n",
      "\n",
      "Epoch 00003: val_acc did not improve from 0.97917\n",
      "Epoch 4/20\n",
      "81/81 [==============================] - 4s 46ms/step - loss: 0.1595 - acc: 0.9426 - val_loss: 0.1540 - val_acc: 0.9479\n",
      "\n",
      "Epoch 00004: val_acc did not improve from 0.97917\n",
      "Epoch 5/20\n",
      "81/81 [==============================] - 4s 48ms/step - loss: 0.1295 - acc: 0.9565 - val_loss: 0.0355 - val_acc: 0.9931\n",
      "\n",
      "Epoch 00005: val_acc improved from 0.97917 to 0.99306, saving model to models\\20210301.h5\n",
      "Epoch 6/20\n",
      "81/81 [==============================] - 4s 44ms/step - loss: 0.1088 - acc: 0.9644 - val_loss: 0.0439 - val_acc: 0.9931\n",
      "\n",
      "Epoch 00006: val_acc did not improve from 0.99306\n",
      "Epoch 7/20\n",
      "81/81 [==============================] - 4s 46ms/step - loss: 0.0944 - acc: 0.9722 - val_loss: 0.0300 - val_acc: 0.9931\n",
      "\n",
      "Epoch 00007: val_acc did not improve from 0.99306\n",
      "Epoch 8/20\n",
      "81/81 [==============================] - 4s 47ms/step - loss: 0.0885 - acc: 0.9761 - val_loss: 0.0256 - val_acc: 0.9965\n",
      "\n",
      "Epoch 00008: val_acc improved from 0.99306 to 0.99653, saving model to models\\20210301.h5\n",
      "Epoch 9/20\n",
      "81/81 [==============================] - 4s 46ms/step - loss: 0.0630 - acc: 0.9819 - val_loss: 0.0398 - val_acc: 0.9931\n",
      "\n",
      "Epoch 00009: val_acc did not improve from 0.99653\n",
      "Epoch 10/20\n",
      "81/81 [==============================] - 4s 47ms/step - loss: 0.0625 - acc: 0.9794 - val_loss: 0.0254 - val_acc: 0.9896\n",
      "\n",
      "Epoch 00010: val_acc did not improve from 0.99653\n",
      "Epoch 11/20\n",
      "81/81 [==============================] - 4s 46ms/step - loss: 0.0557 - acc: 0.9818 - val_loss: 0.0185 - val_acc: 0.9931\n",
      "\n",
      "Epoch 00011: val_acc did not improve from 0.99653\n",
      "Epoch 12/20\n",
      "81/81 [==============================] - 4s 45ms/step - loss: 0.0578 - acc: 0.9760 - val_loss: 0.0149 - val_acc: 0.9965\n",
      "\n",
      "Epoch 00012: val_acc did not improve from 0.99653\n",
      "Epoch 13/20\n",
      "81/81 [==============================] - 4s 45ms/step - loss: 0.0539 - acc: 0.9860 - val_loss: 0.0492 - val_acc: 0.9896\n",
      "\n",
      "Epoch 00013: val_acc did not improve from 0.99653\n",
      "Epoch 14/20\n",
      "81/81 [==============================] - 4s 46ms/step - loss: 0.0489 - acc: 0.9830 - val_loss: 0.0193 - val_acc: 0.9965\n",
      "\n",
      "Epoch 00014: val_acc did not improve from 0.99653\n",
      "Epoch 15/20\n",
      "81/81 [==============================] - 4s 46ms/step - loss: 0.0463 - acc: 0.9846 - val_loss: 0.0377 - val_acc: 0.9861\n",
      "\n",
      "Epoch 00015: val_acc did not improve from 0.99653\n",
      "Epoch 16/20\n",
      "81/81 [==============================] - 4s 45ms/step - loss: 0.0469 - acc: 0.9870 - val_loss: 0.0198 - val_acc: 0.9931\n",
      "\n",
      "Epoch 00016: val_acc did not improve from 0.99653\n",
      "Epoch 17/20\n",
      "81/81 [==============================] - 4s 47ms/step - loss: 0.0440 - acc: 0.9867 - val_loss: 0.0282 - val_acc: 0.9965\n",
      "\n",
      "Epoch 00017: val_acc did not improve from 0.99653\n",
      "Epoch 18/20\n",
      "81/81 [==============================] - 4s 47ms/step - loss: 0.0462 - acc: 0.9827 - val_loss: 0.1086 - val_acc: 0.9549\n",
      "\n",
      "Epoch 00018: val_acc did not improve from 0.99653\n",
      "\n",
      "Epoch 00018: ReduceLROnPlateau reducing learning rate to 0.00020000000949949026.\n",
      "Epoch 19/20\n",
      "81/81 [==============================] - 4s 46ms/step - loss: 0.0233 - acc: 0.9936 - val_loss: 0.0223 - val_acc: 0.9965\n",
      "\n",
      "Epoch 00019: val_acc did not improve from 0.99653\n",
      "Epoch 20/20\n",
      "81/81 [==============================] - 4s 47ms/step - loss: 0.0155 - acc: 0.9931 - val_loss: 0.0172 - val_acc: 0.9931\n",
      "\n",
      "Epoch 00020: val_acc did not improve from 0.99653\n"
     ]
    },
    {
     "data": {
      "text/plain": [
       "<tensorflow.python.keras.callbacks.History at 0x2be7c1bc640>"
      ]
     },
     "execution_count": 16,
     "metadata": {},
     "output_type": "execute_result"
    }
   ],
   "source": [
    "# 모델 학습\n",
    "\n",
    "start_time = '20210301'\n",
    "\n",
    "model.fit_generator(\n",
    "    train_generator, epochs=20, validation_data=val_generator,\n",
    "    callbacks=[\n",
    "        ModelCheckpoint('models/%s.h5' % (start_time), monitor='val_acc', save_best_only=True, mode='max', verbose=1),\n",
    "        ReduceLROnPlateau(monitor='val_acc', factor=0.2, patience=10, verbose=1, mode='auto', min_lr=1e-05)\n",
    "    ]\n",
    ")\n"
   ]
  },
  {
   "cell_type": "code",
   "execution_count": 17,
   "metadata": {},
   "outputs": [
    {
     "name": "stdout",
     "output_type": "stream",
     "text": [
      "test acc: 0.9965277777777778\n"
     ]
    },
    {
     "data": {
      "text/plain": [
       "<AxesSubplot:>"
      ]
     },
     "execution_count": 17,
     "metadata": {},
     "output_type": "execute_result"
    },
    {
     "data": {
      "image/png": "[encoded data removed]",
      "text/plain": [
       "<Figure size 432x288 with 2 Axes>"
      ]
     },
     "metadata": {
      "needs_background": "light"
     },
     "output_type": "display_data"
    }
   ],
   "source": [
    "# 정확도 측정, 시각화\n",
    "\n",
    "from sklearn.metrics import accuracy_score, confusion_matrix\n",
    "import seaborn as sns\n",
    "\n",
    "model = load_model('models/%s.h5' % (start_time))\n",
    "\n",
    "y_pred = model.predict(x_val/255.)\n",
    "y_pred_logical = (y_pred > 0.5).astype(np.int)\n",
    "\n",
    "print ('test acc: %s' % accuracy_score(y_val, y_pred_logical))\n",
    "cm = confusion_matrix(y_val, y_pred_logical)\n",
    "sns.heatmap(cm, annot=True)"
   ]
  }
 ],
 "metadata": {
  "kernelspec": {
   "display_name": "Python 3",
   "language": "python",
   "name": "python3"
  },
  "language_info": {
   "codemirror_mode": {
    "name": "ipython",
    "version": 3
   },
   "file_extension": ".py",
   "mimetype": "text/x-python",
   "name": "python",
   "nbconvert_exporter": "python",
   "pygments_lexer": "ipython3",
   "version": "3.8.5"
  }
 },
 "nbformat": 4,
 "nbformat_minor": 4
}
