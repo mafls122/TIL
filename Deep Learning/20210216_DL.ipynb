{
 "cells": [
  {
   "cell_type": "code",
   "execution_count": 2,
   "metadata": {
    "scrolled": true
   },
   "outputs": [
    {
     "data": {
      "text/plain": [
       "<tensorflow.python.keras.engine.sequential.Sequential at 0x1fcf7932910>"
      ]
     },
     "execution_count": 2,
     "metadata": {},
     "output_type": "execute_result"
    }
   ],
   "source": [
    "# relu (렐루) 함수를 살펴 보자\n",
    "# 모델, 층, 핵심모듈\n",
    "# layers ( 입력레이어, 히든레이어, 출력레이어 ) : 코어, 컨볼루션, 폴링, 반복\n",
    "from keras.models import Sequential\n",
    "from keras.layers import Dense, Activation, Dropout\n",
    "\n",
    "model = Sequential()\n",
    "model.add(Dense(512, activation='relu', input_shape=(784,)))\n",
    "model  # 순차모델 생성 : Sequential\n"
   ]
  },
  {
   "cell_type": "markdown",
   "metadata": {},
   "source": [
    "핵심모듈 : 모델과 레이어를 생성하기 위한 기능\n",
    "\n",
    "  - 활성화 모듈 : softmax, relu 등\n",
    "  - Loss 모듈 : error모듈 손실 기능\n",
    "  - Optimizer 모듈 : 최적화 기능을 수행 sgd 등\n",
    "  - 정규화 : L1정규화, L2정규화"
   ]
  },
  {
   "cell_type": "markdown",
   "metadata": {},
   "source": [
    "< relu 함수 >\n",
    "\n",
    "20 텐서를 입력 받고 입력 텐서의 기능을 변환하는 3개의 텐서 연산을 한다\n",
    "\n",
    "입력텐서 w 사이에 접곱(dot), 접곱의 결과인 20텐서와 벡터 b사이의 덧셈을 구한다\n",
    "\n",
    "relu(x)는 max(x,0)\n",
    "\n",
    "ouput = relu(dot(w.input)*b)\n",
    " - w : 2d tensor\n",
    " - b: vector"
   ]
  },
  {
   "cell_type": "code",
   "execution_count": 3,
   "metadata": {},
   "outputs": [
    {
     "name": "stdout",
     "output_type": "stream",
     "text": [
      "[[1 2 3 4]\n",
      " [5 6 7 8]]\n",
      "[1. 2. 3. 4. 4. 5. 6. 7.]\n"
     ]
    }
   ],
   "source": [
    "import numpy as np\n",
    "\n",
    "def naive_relu(x):\n",
    "    assert len(x.shape)==2\n",
    "    x.copy()\n",
    "    for i in range(x.shape[0]):\n",
    "        for j in range(x.shape[1]):\n",
    "            x[i,j] = max(x[i,j],0)\n",
    "    return x\n",
    "\n",
    "res = naive_relu(np.array([[1,2,3,4],[5,6,7,8]]))\n",
    "print(res)\n",
    "\n",
    "x=[1,2,3,4]\n",
    "y=[4,5,6,7]\n",
    "z = x + y  # 원소별 덧셈\n",
    "\n",
    "z = np.maximum(z, 0.)  # 원소별 렐루 함수\n",
    "print(z)"
   ]
  },
  {
   "cell_type": "code",
   "execution_count": 4,
   "metadata": {},
   "outputs": [
    {
     "ename": "NameError",
     "evalue": "name 'tf' is not defined",
     "output_type": "error",
     "traceback": [
      "\u001b[1;31m---------------------------------------------------------------------------\u001b[0m",
      "\u001b[1;31mNameError\u001b[0m                                 Traceback (most recent call last)",
      "\u001b[1;32m<ipython-input-4-bbb11dfed7a0>\u001b[0m in \u001b[0;36m<module>\u001b[1;34m\u001b[0m\n\u001b[1;32m----> 1\u001b[1;33m tf.keras.layers.Dense(\n\u001b[0m\u001b[0;32m      2\u001b[0m     \u001b[0munits\u001b[0m\u001b[1;33m,\u001b[0m \u001b[0mactivation\u001b[0m\u001b[1;33m=\u001b[0m\u001b[1;32mNone\u001b[0m\u001b[1;33m,\u001b[0m \u001b[0muse_bias\u001b[0m\u001b[1;33m=\u001b[0m\u001b[1;32mTrue\u001b[0m\u001b[1;33m,\u001b[0m\u001b[1;33m\u001b[0m\u001b[1;33m\u001b[0m\u001b[0m\n\u001b[0;32m      3\u001b[0m     \u001b[0mkernel_initializer\u001b[0m\u001b[1;33m=\u001b[0m\u001b[1;34m'glorot_uniform'\u001b[0m\u001b[1;33m,\u001b[0m\u001b[1;33m\u001b[0m\u001b[1;33m\u001b[0m\u001b[0m\n\u001b[0;32m      4\u001b[0m     \u001b[0mbias_initializer\u001b[0m\u001b[1;33m=\u001b[0m\u001b[1;34m'zeros'\u001b[0m\u001b[1;33m,\u001b[0m \u001b[0mkernel_regularizer\u001b[0m\u001b[1;33m=\u001b[0m\u001b[1;32mNone\u001b[0m\u001b[1;33m,\u001b[0m\u001b[1;33m\u001b[0m\u001b[1;33m\u001b[0m\u001b[0m\n\u001b[0;32m      5\u001b[0m     \u001b[0mbias_regularizer\u001b[0m\u001b[1;33m=\u001b[0m\u001b[1;32mNone\u001b[0m\u001b[1;33m,\u001b[0m \u001b[0mactivity_regularizer\u001b[0m\u001b[1;33m=\u001b[0m\u001b[1;32mNone\u001b[0m\u001b[1;33m,\u001b[0m \u001b[0mkernel_constraint\u001b[0m\u001b[1;33m=\u001b[0m\u001b[1;32mNone\u001b[0m\u001b[1;33m,\u001b[0m\u001b[1;33m\u001b[0m\u001b[1;33m\u001b[0m\u001b[0m\n",
      "\u001b[1;31mNameError\u001b[0m: name 'tf' is not defined"
     ]
    }
   ],
   "source": [
    "tf.keras.layers.Dense(\n",
    "    units, activation=None, use_bias=True,\n",
    "    kernel_initializer='glorot_uniform',\n",
    "    bias_initializer='zeros', kernel_regularizer=None,\n",
    "    bias_regularizer=None, activity_regularizer=None, kernel_constraint=None,\n",
    "    bias_constraint=None, **kwargs\n",
    ")\n",
    "# 레이어 매개인자 : 입력데이터, 레이어 수(뉴런 수 / 단위), 초기값, 정규화, 제약, 활성화"
   ]
  },
  {
   "cell_type": "code",
   "execution_count": 9,
   "metadata": {
    "scrolled": true
   },
   "outputs": [
    {
     "data": {
      "text/plain": [
       "<tensorflow.python.keras.engine.sequential.Sequential at 0x219fde2d640>"
      ]
     },
     "execution_count": 9,
     "metadata": {},
     "output_type": "execute_result"
    }
   ],
   "source": [
    "# exam1) 모든 입력 데이터에 0으로 설정해서 계층을 생성하자\n",
    "from keras.models import Sequential\n",
    "from keras.layers import Dense, Activation, Dropout\n",
    "from keras import *\n",
    "\n",
    "my_init = initializers.Zeros()\n",
    "model = Sequential()\n",
    "model.add(Dense(512, activation='relu', input_shape=(784,), kernel_initializer=my_init))\n",
    "model  # 순차모델 생성 : Sequential\n"
   ]
  },
  {
   "cell_type": "code",
   "execution_count": 14,
   "metadata": {
    "scrolled": true
   },
   "outputs": [
    {
     "data": {
      "text/plain": [
       "<tensorflow.python.keras.engine.sequential.Sequential at 0x219fdf2b9a0>"
      ]
     },
     "execution_count": 14,
     "metadata": {},
     "output_type": "execute_result"
    }
   ],
   "source": [
    "# exam2) 모든 입력 데이터에 1으로 설정해서 계층을 생성하자\n",
    "from keras.models import Sequential\n",
    "from keras.layers import Dense, Activation, Dropout\n",
    "from keras import *\n",
    "\n",
    "my_init = initializers.Ones()\n",
    "model = Sequential()\n",
    "model.add(Dense(512, activation='relu', input_shape=(784,), kernel_initializer=my_init))\n",
    "model  # 순차모델 생성 : Sequential\n"
   ]
  },
  {
   "cell_type": "code",
   "execution_count": 12,
   "metadata": {
    "scrolled": true
   },
   "outputs": [
    {
     "data": {
      "text/plain": [
       "<tensorflow.python.keras.engine.sequential.Sequential at 0x219fdf14ee0>"
      ]
     },
     "execution_count": 12,
     "metadata": {},
     "output_type": "execute_result"
    }
   ],
   "source": [
    "# exam3) 입력 데이터의 정규 분포를 사용하여 값을 생성하자\n",
    "from keras.models import Sequential\n",
    "from keras.layers import Dense, Activation, Dropout\n",
    "from keras import *\n",
    "\n",
    "my_init = initializers.RandomNormal(mean=0.0, stddev=0.05, seed=None)\n",
    "model = Sequential()\n",
    "model.add(Dense(512, activation='relu', input_shape=(784,), kernel_initializer=my_init))\n",
    "model  # 순차모델 생성 : Sequential\n"
   ]
  },
  {
   "cell_type": "code",
   "execution_count": 13,
   "metadata": {
    "scrolled": true
   },
   "outputs": [
    {
     "data": {
      "text/plain": [
       "<tensorflow.python.keras.engine.sequential.Sequential at 0x219fdf2bf40>"
      ]
     },
     "execution_count": 13,
     "metadata": {},
     "output_type": "execute_result"
    }
   ],
   "source": [
    "# exam4) 지정한 배율과 레이어의 입력모양, 출력모양을 기반으로 값을 생성\n",
    "# fan_in = 입력장치, fan_out = 출력모양, fan_avg = 평균 입력 출력 장치 수\n",
    "from keras.models import Sequential\n",
    "from keras.layers import Dense, Activation, Dropout\n",
    "from keras import *\n",
    "\n",
    "my_init = initializers.VarianceScaling(\n",
    "    scale=1.0, mode='fan_in', distribution='truncated_normal',seed=None)\n",
    "model = Sequential()\n",
    "model.add(Dense(512, activation='relu', input_shape=(784,), kernel_initializer=my_init))\n",
    "model  # 순차모델 생성 : Sequential\n"
   ]
  },
  {
   "cell_type": "code",
   "execution_count": 5,
   "metadata": {},
   "outputs": [
    {
     "data": {
      "text/plain": [
       "<tensorflow.python.keras.engine.sequential.Sequential at 0x1fc80fe2ca0>"
      ]
     },
     "execution_count": 5,
     "metadata": {},
     "output_type": "execute_result"
    }
   ],
   "source": [
    "# exam05) kernel_constrain\n",
    "# 최적화 단계에서 매개변수(가중치)에 대한 제약 조건이 설정된다. 레이어에 대한 제약조건 사용할때\n",
    "# 가중치가 음수가 아닌것을 제안하자  / 표준으로 / 주어진 값이 작거나 같은 값으로 제안하자\n",
    "from keras import constraints\n",
    "\n",
    "my_const = constraints.UnitNorm(axis=0)\n",
    "\n",
    "model = Sequential()\n",
    "model.add(Dense(512, activation = 'relu', input_shape=(784,), kernel_constraint=my_const))\n",
    "model"
   ]
  },
  {
   "cell_type": "code",
   "execution_count": 6,
   "metadata": {},
   "outputs": [
    {
     "name": "stdout",
     "output_type": "stream",
     "text": [
      "tf.Tensor(3.0, shape=(), dtype=float32)\n",
      "2.0\n"
     ]
    },
    {
     "data": {
      "image/png": "[encoded data removed]",
      "text/plain": [
       "<Figure size 432x288 with 1 Axes>"
      ]
     },
     "metadata": {
      "needs_background": "light"
     },
     "output_type": "display_data"
    }
   ],
   "source": [
    "import tensorflow as tf\n",
    "from matplotlib import pyplot as plt\n",
    "\n",
    "tf.executing_eagerly()   # 계산 그래프를 즉시 실행. executing_eagerly 사용\n",
    "\n",
    "x = tf.constant(3.0)\n",
    "print(x)\n",
    "\n",
    "with tf.GradientTape() as g:   # with 내부 계산을 기록\n",
    "    g.watch(x)   # x를 기록\n",
    "    y = 2 * x   # 미분 방정식\n",
    "    \n",
    "print(g.gradient(y, x).numpy())   # x = 3 일 때의 y 기울기를 구한다\n",
    "\n",
    "fig = plt.figure()  # 그림그리는 바탕을 fig로 만들겠다.\n",
    "\n",
    "ax = fig.add_subplot(1, 1, 1)\n",
    "ax.spines['left'].set_position('zero')\n",
    "ax.spines['bottom'].set_position('zero')\n",
    "ax.spines['right'].set_color('none')\n",
    "ax.spines['top'].set_color('none')\n",
    "ax.xaxis.set_ticks_position('bottom')\n",
    "ax.yaxis.set_ticks_position('left')\n",
    "plt.plot(x, y, '-b', label='w1')\n",
    "plt.xlim(-5, 5)  # x 축의 눈금숫자의 시작과 마지막\n",
    "plt.ylim(-5, 5)  # y 축의 눈금숫자의 시작과 마지막\n",
    "plt.title('Graph of w')\n",
    "plt.xlabel('x', color='#1C2833')  # x의 라벨 색깔\n",
    "plt.ylabel('y', color='#1C2833')  # y의 라벨 색깔\n",
    "plt.legend(loc='upper left')  # 레전드가 왼쪽에 나오게\n",
    "plt.grid()  # 격자모양출력\n",
    "plt.show()"
   ]
  },
  {
   "cell_type": "code",
   "execution_count": 7,
   "metadata": {},
   "outputs": [
    {
     "ename": "NameError",
     "evalue": "name 'w' is not defined",
     "output_type": "error",
     "traceback": [
      "\u001b[1;31m---------------------------------------------------------------------------\u001b[0m",
      "\u001b[1;31mNameError\u001b[0m                                 Traceback (most recent call last)",
      "\u001b[1;32m<ipython-input-7-a856ffc0db63>\u001b[0m in \u001b[0;36m<module>\u001b[1;34m\u001b[0m\n\u001b[0;32m      1\u001b[0m \u001b[0mx\u001b[0m \u001b[1;33m=\u001b[0m \u001b[0mnp\u001b[0m\u001b[1;33m.\u001b[0m\u001b[0mlinspace\u001b[0m\u001b[1;33m(\u001b[0m\u001b[1;33m-\u001b[0m\u001b[1;36m2\u001b[0m\u001b[1;33m,\u001b[0m\u001b[1;36m2\u001b[0m\u001b[1;33m,\u001b[0m\u001b[1;36m50\u001b[0m\u001b[1;33m)\u001b[0m  \u001b[1;31m# 직선의 시작점 끝점\u001b[0m\u001b[1;33m\u001b[0m\u001b[1;33m\u001b[0m\u001b[0m\n\u001b[1;32m----> 2\u001b[1;33m \u001b[0my\u001b[0m \u001b[1;33m=\u001b[0m \u001b[1;33m-\u001b[0m\u001b[1;33m(\u001b[0m\u001b[0mx\u001b[0m \u001b[1;33m*\u001b[0m \u001b[0mw\u001b[0m\u001b[1;33m[\u001b[0m\u001b[1;36m1\u001b[0m\u001b[1;33m]\u001b[0m\u001b[1;33m/\u001b[0m\u001b[0mw\u001b[0m\u001b[1;33m[\u001b[0m\u001b[1;36m2\u001b[0m\u001b[1;33m]\u001b[0m\u001b[1;33m)\u001b[0m \u001b[1;33m+\u001b[0m \u001b[1;33m(\u001b[0m\u001b[0mw\u001b[0m\u001b[1;33m[\u001b[0m\u001b[1;36m0\u001b[0m\u001b[1;33m]\u001b[0m\u001b[1;33m/\u001b[0m\u001b[0mw\u001b[0m\u001b[1;33m[\u001b[0m\u001b[1;36m2\u001b[0m\u001b[1;33m]\u001b[0m\u001b[1;33m)\u001b[0m  \u001b[1;31m# 최종 가중치 직선의 방정식\u001b[0m\u001b[1;33m\u001b[0m\u001b[1;33m\u001b[0m\u001b[0m\n\u001b[0m\u001b[0;32m      3\u001b[0m \u001b[1;33m\u001b[0m\u001b[0m\n\u001b[0;32m      4\u001b[0m \u001b[0mfig\u001b[0m \u001b[1;33m=\u001b[0m \u001b[0mplt\u001b[0m\u001b[1;33m.\u001b[0m\u001b[0mfigure\u001b[0m\u001b[1;33m(\u001b[0m\u001b[1;33m)\u001b[0m  \u001b[1;31m# 그림그리는 바탕을 fig로 만들겠다.\u001b[0m\u001b[1;33m\u001b[0m\u001b[1;33m\u001b[0m\u001b[0m\n\u001b[0;32m      5\u001b[0m \u001b[1;33m\u001b[0m\u001b[0m\n",
      "\u001b[1;31mNameError\u001b[0m: name 'w' is not defined"
     ]
    }
   ],
   "source": [
    "x = np.linspace(-2,2,50)  # 직선의 시작점 끝점\n",
    "y = -(x * w[1]/w[2]) + (w[0]/w[2])  # 최종 가중치 직선의 방정식\n",
    "\n",
    "fig = plt.figure()  # 그림그리는 바탕을 fig로 만들겠다.\n",
    "\n",
    "ax = fig.add_subplot(1, 1, 1)\n",
    "ax.spines['left'].set_position('zero')\n",
    "ax.spines['bottom'].set_position('zero')\n",
    "ax.spines['right'].set_color('none')\n",
    "ax.spines['top'].set_color('none')\n",
    "ax.xaxis.set_ticks_position('bottom')\n",
    "ax.yaxis.set_ticks_position('left')\n",
    "plt.plot(x, y, '-b', label='w1')\n",
    "plt.xlim(-5, 5)  # x 축의 눈금숫자의 시작과 마지막\n",
    "plt.ylim(-5, 5)  # y 축의 눈금숫자의 시작과 마지막\n",
    "plt.title('Graph of w')\n",
    "plt.xlabel('x', color='#1C2833')  # x의 라벨 색깔\n",
    "plt.ylabel('y', color='#1C2833')  # y의 라벨 색깔\n",
    "plt.legend(loc='upper left')  # 레전드가 왼쪽에 나오게\n",
    "plt.grid()  # 격자모양출력\n",
    "plt.show()"
   ]
  },
  {
   "cell_type": "code",
   "execution_count": 8,
   "metadata": {},
   "outputs": [
    {
     "data": {
      "text/plain": [
       "6.0"
      ]
     },
     "execution_count": 8,
     "metadata": {},
     "output_type": "execute_result"
    }
   ],
   "source": [
    "x = tf.Variable(3.0)\n",
    "\n",
    "with tf.GradientTape() as g:\n",
    "    y = x * x\n",
    "    \n",
    "g.gradient(y, x).numpy()"
   ]
  },
  {
   "cell_type": "code",
   "execution_count": 9,
   "metadata": {},
   "outputs": [
    {
     "name": "stdout",
     "output_type": "stream",
     "text": [
      "n = -3.0 : gradient = 2.0\n",
      "n = 0.0 : gradient = 2.0\n",
      "n = 3.0 : gradient = 27.0\n"
     ]
    }
   ],
   "source": [
    "def with_if(x):\n",
    "    if x <= 0:\n",
    "        return x * 2   # 기울기가 2\n",
    "    else:\n",
    "        return x * x * x   # 3*x*x\n",
    "    \n",
    "def with_if_gradient(n):\n",
    "    x = tf.Variable(n)\n",
    "    with tf.GradientTape() as g:\n",
    "        y = with_if(x)\n",
    "    print('n = %.1f : gradient = %.1f' % (n, g.gradient(y, x)))\n",
    "    \n",
    "with_if_gradient(-3.0)\n",
    "with_if_gradient(0.0)\n",
    "with_if_gradient(3.0)"
   ]
  },
  {
   "cell_type": "code",
   "execution_count": 10,
   "metadata": {},
   "outputs": [
    {
     "data": {
      "image/png": "[encoded data removed]",
      "text/plain": [
       "<Figure size 432x288 with 1 Axes>"
      ]
     },
     "metadata": {
      "needs_background": "light"
     },
     "output_type": "display_data"
    }
   ],
   "source": [
    "\n",
    "def Test(x,y):\n",
    "    fig = plt.figure()  # 그림그리는 바탕을 fig로 만들겠다.\n",
    "\n",
    "    ax = fig.add_subplot(1, 1, 1)\n",
    "    ax.spines['left'].set_position('zero')\n",
    "    ax.spines['bottom'].set_position('zero')\n",
    "    ax.spines['right'].set_color('none')\n",
    "    ax.spines['top'].set_color('none')\n",
    "    ax.xaxis.set_ticks_position('bottom')\n",
    "    ax.yaxis.set_ticks_position('left')\n",
    "    plt.plot(x, y, '-b', label='w1')\n",
    "    plt.xlim(-5, 5)  # x 축의 눈금숫자의 시작과 마지막\n",
    "    plt.ylim(-5, 5)  # y 축의 눈금숫자의 시작과 마지막\n",
    "    plt.title('Graph of w')\n",
    "    plt.xlabel('x', color='#1C2833')  # x의 라벨 색깔\n",
    "    plt.ylabel('y', color='#1C2833')  # y의 라벨 색깔\n",
    "    plt.legend(loc='upper left')  # 레전드가 왼쪽에 나오게\n",
    "    plt.grid()  # 격자모양출력\n",
    "    plt.show()\n",
    "    \n",
    "x = [-3.0, 0.0, 3.0]\n",
    "y = [2.0, 2.0, 27.0]\n",
    "Test(x,y)"
   ]
  },
  {
   "cell_type": "code",
   "execution_count": 11,
   "metadata": {},
   "outputs": [
    {
     "data": {
      "text/plain": [
       "[<tf.Tensor: shape=(), dtype=float32, numpy=6.0>,\n",
       " <tf.Tensor: shape=(), dtype=float32, numpy=5.0>]"
      ]
     },
     "execution_count": 11,
     "metadata": {},
     "output_type": "execute_result"
    }
   ],
   "source": [
    "\n",
    "a = tf.Variable(3.0)\n",
    "b = tf.Variable(4.0)\n",
    "\n",
    "with tf.GradientTape() as g:\n",
    "    f = a ** 2 + 5 * b  # 다변량 미분 공식\n",
    "    \n",
    "g.gradient(f, [a,b])"
   ]
  },
  {
   "cell_type": "code",
   "execution_count": 12,
   "metadata": {},
   "outputs": [
    {
     "data": {
      "text/plain": [
       "[<tf.Tensor: shape=(), dtype=float32, numpy=5.0>,\n",
       " [<tf.Tensor: shape=(), dtype=float32, numpy=6.0>]]"
      ]
     },
     "execution_count": 12,
     "metadata": {},
     "output_type": "execute_result"
    }
   ],
   "source": [
    "a = tf.Variable(3.0)\n",
    "b = tf.Variable(4.0)\n",
    "\n",
    "with tf.GradientTape() as g:\n",
    "    f = a ** 2 + 5 * b  # 다변량 미분 공식\n",
    "    \n",
    "g.gradient(f, [b, [a]])"
   ]
  },
  {
   "cell_type": "code",
   "execution_count": 13,
   "metadata": {},
   "outputs": [
    {
     "name": "stdout",
     "output_type": "stream",
     "text": [
      "[<tensorflow.python.keras.layers.core.Dense object at 0x000001FCFFCDAD90>, <tensorflow.python.keras.layers.core.Dense object at 0x000001FC812F9040>, <tensorflow.python.keras.layers.core.Dense object at 0x000001FC821F6430>] \n",
      "\n",
      "[<KerasTensor: shape=(None, 8) dtype=float32 (created by layer 'dense_2_input')>] \n",
      "\n",
      "[<KerasTensor: shape=(None, 8) dtype=float32 (created by layer 'dense_4')>] \n",
      "\n"
     ]
    }
   ],
   "source": [
    "# exam) 모델 생성\n",
    "from tensorflow.keras.layers import Dense, Activation, Dropout\n",
    "from tensorflow.keras.models import Sequential\n",
    "\n",
    "model = Sequential()\n",
    "# model.add(Dense(512, activation = 'relu', input_shape=(784,), kernel_initializer=my_init))\n",
    "# model\n",
    "\n",
    "input_layer = Dense(32, input_shape=(8,))\n",
    "model.add(input_layer)\n",
    "\n",
    "hidden_layer = Dense(64, activation='relu')\n",
    "model.add(hidden_layer)\n",
    "\n",
    "output_layer = Dense(8)\n",
    "model.add(output_layer)\n",
    "\n",
    "layers = model.layers\n",
    "print(layers, '\\n')\n",
    "\n",
    "inputs = model.inputs  # 모델의 모든 입력텐서 반환\n",
    "print(inputs, '\\n')\n",
    "\n",
    "output = model.outputs\n",
    "print(output, '\\n')\n",
    "\n",
    "# model.get_weights() - 모든 가중치를 numpy 배열로 반환한다\n",
    "# model.set_weights()"
   ]
  },
  {
   "cell_type": "code",
   "execution_count": 14,
   "metadata": {},
   "outputs": [
    {
     "data": {
      "text/plain": [
       "[array([[-0.3248762 , -0.14681351,  0.14212435, -0.23070532],\n",
       "        [-0.03556889, -0.71416867, -0.5409446 , -0.01608658],\n",
       "        [-0.7449971 ,  0.45187002, -0.85480875,  0.7351665 ],\n",
       "        [-0.19342226,  0.7374545 , -0.6168867 , -0.23302674]],\n",
       "       dtype=float32),\n",
       " array([0., 0., 0., 0.], dtype=float32)]"
      ]
     },
     "execution_count": 14,
     "metadata": {},
     "output_type": "execute_result"
    }
   ],
   "source": [
    "model = Sequential()\n",
    "input_layer = Dense(4, input_shape=(4,))\n",
    "model.add(input_layer)\n",
    "model.get_weights()"
   ]
  },
  {
   "cell_type": "code",
   "execution_count": 15,
   "metadata": {},
   "outputs": [
    {
     "name": "stdout",
     "output_type": "stream",
     "text": [
      "Model: \"sequential_3\"\n",
      "_________________________________________________________________\n",
      "Layer (type)                 Output Shape              Param #   \n",
      "=================================================================\n",
      "dense_5 (Dense)              (None, 4)                 20        \n",
      "=================================================================\n",
      "Total params: 20\n",
      "Trainable params: 20\n",
      "Non-trainable params: 0\n",
      "_________________________________________________________________\n"
     ]
    }
   ],
   "source": [
    "from keras.models import model_from_json\n",
    "\n",
    "# 모델의 직렬화\n",
    "\n",
    "config = model.get_config()\n",
    "config\n",
    "\n",
    "# 로드\n",
    "json_string = model.to_json()\n",
    "json_string\n",
    "\n",
    "new_model = model_from_json(json_string)\n",
    "new_model\n",
    "\n",
    "# 모델값을 문자열로\n",
    "res = model.to_yaml()\n",
    "res\n",
    "\n",
    "# 모델을 요약\n",
    "model.summary()\n",
    "\n",
    "# 모델 훈련 및 예측\n",
    "# 컴파일(모델의 학습과정) -> fit(훈련데이터로 모델 훈련) -> 평가(테스트데이터로 모델평가) -> 예측(새로운 입력에 대한 결과를 예측)"
   ]
  },
  {
   "cell_type": "code",
   "execution_count": 17,
   "metadata": {},
   "outputs": [
    {
     "name": "stdout",
     "output_type": "stream",
     "text": [
      "KerasTensor(type_spec=TensorSpec(shape=(None, 2, 2), dtype=tf.float32, name=None), name='dense_7/BiasAdd:0', description=\"created by layer 'dense_7'\")\n"
     ]
    },
    {
     "ename": "TypeError",
     "evalue": "call() got an unexpected keyword argument 'outputs'",
     "output_type": "error",
     "traceback": [
      "\u001b[1;31m---------------------------------------------------------------------------\u001b[0m",
      "\u001b[1;31mTypeError\u001b[0m                                 Traceback (most recent call last)",
      "\u001b[1;32m<ipython-input-17-a749340b3063>\u001b[0m in \u001b[0;36m<module>\u001b[1;34m\u001b[0m\n\u001b[0;32m      6\u001b[0m \u001b[0mprint\u001b[0m\u001b[1;33m(\u001b[0m\u001b[0mlayer\u001b[0m\u001b[1;33m)\u001b[0m\u001b[1;33m\u001b[0m\u001b[1;33m\u001b[0m\u001b[0m\n\u001b[0;32m      7\u001b[0m \u001b[1;33m\u001b[0m\u001b[0m\n\u001b[1;32m----> 8\u001b[1;33m \u001b[0mmodel\u001b[0m \u001b[1;33m=\u001b[0m \u001b[0mmodel\u001b[0m\u001b[1;33m(\u001b[0m\u001b[0minputs\u001b[0m\u001b[1;33m=\u001b[0m\u001b[0mdata\u001b[0m\u001b[1;33m,\u001b[0m \u001b[0moutputs\u001b[0m\u001b[1;33m=\u001b[0m\u001b[0mlayer\u001b[0m\u001b[1;33m)\u001b[0m\u001b[1;33m\u001b[0m\u001b[1;33m\u001b[0m\u001b[0m\n\u001b[0m\u001b[0;32m      9\u001b[0m \u001b[0mmodel\u001b[0m\u001b[1;33m.\u001b[0m\u001b[0msummary\u001b[0m\u001b[1;33m(\u001b[0m\u001b[1;33m)\u001b[0m\u001b[1;33m\u001b[0m\u001b[1;33m\u001b[0m\u001b[0m\n",
      "\u001b[1;32mC:\\ProgramData\\Anaconda3\\lib\\site-packages\\tensorflow\\python\\keras\\engine\\base_layer.py\u001b[0m in \u001b[0;36m__call__\u001b[1;34m(self, *args, **kwargs)\u001b[0m\n\u001b[0;32m    949\u001b[0m     \u001b[1;31m# >> model = tf.keras.Model(inputs, outputs)\u001b[0m\u001b[1;33m\u001b[0m\u001b[1;33m\u001b[0m\u001b[1;33m\u001b[0m\u001b[0m\n\u001b[0;32m    950\u001b[0m     \u001b[1;32mif\u001b[0m \u001b[0m_in_functional_construction_mode\u001b[0m\u001b[1;33m(\u001b[0m\u001b[0mself\u001b[0m\u001b[1;33m,\u001b[0m \u001b[0minputs\u001b[0m\u001b[1;33m,\u001b[0m \u001b[0margs\u001b[0m\u001b[1;33m,\u001b[0m \u001b[0mkwargs\u001b[0m\u001b[1;33m,\u001b[0m \u001b[0minput_list\u001b[0m\u001b[1;33m)\u001b[0m\u001b[1;33m:\u001b[0m\u001b[1;33m\u001b[0m\u001b[1;33m\u001b[0m\u001b[0m\n\u001b[1;32m--> 951\u001b[1;33m       return self._functional_construction_call(inputs, args, kwargs,\n\u001b[0m\u001b[0;32m    952\u001b[0m                                                 input_list)\n\u001b[0;32m    953\u001b[0m \u001b[1;33m\u001b[0m\u001b[0m\n",
      "\u001b[1;32mC:\\ProgramData\\Anaconda3\\lib\\site-packages\\tensorflow\\python\\keras\\engine\\base_layer.py\u001b[0m in \u001b[0;36m_functional_construction_call\u001b[1;34m(self, inputs, args, kwargs, input_list)\u001b[0m\n\u001b[0;32m   1088\u001b[0m           layer=self, inputs=inputs, build_graph=True, training=training_value):\n\u001b[0;32m   1089\u001b[0m         \u001b[1;31m# Check input assumptions set after layer building, e.g. input shape.\u001b[0m\u001b[1;33m\u001b[0m\u001b[1;33m\u001b[0m\u001b[1;33m\u001b[0m\u001b[0m\n\u001b[1;32m-> 1090\u001b[1;33m         outputs = self._keras_tensor_symbolic_call(\n\u001b[0m\u001b[0;32m   1091\u001b[0m             inputs, input_masks, args, kwargs)\n\u001b[0;32m   1092\u001b[0m \u001b[1;33m\u001b[0m\u001b[0m\n",
      "\u001b[1;32mC:\\ProgramData\\Anaconda3\\lib\\site-packages\\tensorflow\\python\\keras\\engine\\base_layer.py\u001b[0m in \u001b[0;36m_keras_tensor_symbolic_call\u001b[1;34m(self, inputs, input_masks, args, kwargs)\u001b[0m\n\u001b[0;32m    820\u001b[0m       \u001b[1;32mreturn\u001b[0m \u001b[0mnest\u001b[0m\u001b[1;33m.\u001b[0m\u001b[0mmap_structure\u001b[0m\u001b[1;33m(\u001b[0m\u001b[0mkeras_tensor\u001b[0m\u001b[1;33m.\u001b[0m\u001b[0mKerasTensor\u001b[0m\u001b[1;33m,\u001b[0m \u001b[0moutput_signature\u001b[0m\u001b[1;33m)\u001b[0m\u001b[1;33m\u001b[0m\u001b[1;33m\u001b[0m\u001b[0m\n\u001b[0;32m    821\u001b[0m     \u001b[1;32melse\u001b[0m\u001b[1;33m:\u001b[0m\u001b[1;33m\u001b[0m\u001b[1;33m\u001b[0m\u001b[0m\n\u001b[1;32m--> 822\u001b[1;33m       \u001b[1;32mreturn\u001b[0m \u001b[0mself\u001b[0m\u001b[1;33m.\u001b[0m\u001b[0m_infer_output_signature\u001b[0m\u001b[1;33m(\u001b[0m\u001b[0minputs\u001b[0m\u001b[1;33m,\u001b[0m \u001b[0margs\u001b[0m\u001b[1;33m,\u001b[0m \u001b[0mkwargs\u001b[0m\u001b[1;33m,\u001b[0m \u001b[0minput_masks\u001b[0m\u001b[1;33m)\u001b[0m\u001b[1;33m\u001b[0m\u001b[1;33m\u001b[0m\u001b[0m\n\u001b[0m\u001b[0;32m    823\u001b[0m \u001b[1;33m\u001b[0m\u001b[0m\n\u001b[0;32m    824\u001b[0m   \u001b[1;32mdef\u001b[0m \u001b[0m_infer_output_signature\u001b[0m\u001b[1;33m(\u001b[0m\u001b[0mself\u001b[0m\u001b[1;33m,\u001b[0m \u001b[0minputs\u001b[0m\u001b[1;33m,\u001b[0m \u001b[0margs\u001b[0m\u001b[1;33m,\u001b[0m \u001b[0mkwargs\u001b[0m\u001b[1;33m,\u001b[0m \u001b[0minput_masks\u001b[0m\u001b[1;33m)\u001b[0m\u001b[1;33m:\u001b[0m\u001b[1;33m\u001b[0m\u001b[1;33m\u001b[0m\u001b[0m\n",
      "\u001b[1;32mC:\\ProgramData\\Anaconda3\\lib\\site-packages\\tensorflow\\python\\keras\\engine\\base_layer.py\u001b[0m in \u001b[0;36m_infer_output_signature\u001b[1;34m(self, inputs, args, kwargs, input_masks)\u001b[0m\n\u001b[0;32m    861\u001b[0m           \u001b[1;31m# TODO(kaftan): do we maybe_build here, or have we already done it?\u001b[0m\u001b[1;33m\u001b[0m\u001b[1;33m\u001b[0m\u001b[1;33m\u001b[0m\u001b[0m\n\u001b[0;32m    862\u001b[0m           \u001b[0mself\u001b[0m\u001b[1;33m.\u001b[0m\u001b[0m_maybe_build\u001b[0m\u001b[1;33m(\u001b[0m\u001b[0minputs\u001b[0m\u001b[1;33m)\u001b[0m\u001b[1;33m\u001b[0m\u001b[1;33m\u001b[0m\u001b[0m\n\u001b[1;32m--> 863\u001b[1;33m           \u001b[0moutputs\u001b[0m \u001b[1;33m=\u001b[0m \u001b[0mcall_fn\u001b[0m\u001b[1;33m(\u001b[0m\u001b[0minputs\u001b[0m\u001b[1;33m,\u001b[0m \u001b[1;33m*\u001b[0m\u001b[0margs\u001b[0m\u001b[1;33m,\u001b[0m \u001b[1;33m**\u001b[0m\u001b[0mkwargs\u001b[0m\u001b[1;33m)\u001b[0m\u001b[1;33m\u001b[0m\u001b[1;33m\u001b[0m\u001b[0m\n\u001b[0m\u001b[0;32m    864\u001b[0m \u001b[1;33m\u001b[0m\u001b[0m\n\u001b[0;32m    865\u001b[0m         \u001b[0mself\u001b[0m\u001b[1;33m.\u001b[0m\u001b[0m_handle_activity_regularization\u001b[0m\u001b[1;33m(\u001b[0m\u001b[0minputs\u001b[0m\u001b[1;33m,\u001b[0m \u001b[0moutputs\u001b[0m\u001b[1;33m)\u001b[0m\u001b[1;33m\u001b[0m\u001b[1;33m\u001b[0m\u001b[0m\n",
      "\u001b[1;31mTypeError\u001b[0m: call() got an unexpected keyword argument 'outputs'"
     ]
    }
   ],
   "source": [
    "# 모델 생성 연습\n",
    "from keras.layers import Input\n",
    "\n",
    "data = Input(shape=(2,3))\n",
    "layer = Dense(2)(data)\n",
    "print(layer)\n",
    "\n",
    "model = Model(inputs=data, outputs=layer)\n",
    "model.summary()"
   ]
  },
  {
   "cell_type": "code",
   "execution_count": 18,
   "metadata": {},
   "outputs": [
    {
     "ename": "NameError",
     "evalue": "name 'kwargs' is not defined",
     "output_type": "error",
     "traceback": [
      "\u001b[1;31m---------------------------------------------------------------------------\u001b[0m",
      "\u001b[1;31mNameError\u001b[0m                                 Traceback (most recent call last)",
      "\u001b[1;32m<ipython-input-18-4c8cfd1f4f71>\u001b[0m in \u001b[0;36m<module>\u001b[1;34m\u001b[0m\n\u001b[0;32m      1\u001b[0m compile(\n\u001b[0;32m      2\u001b[0m     \u001b[0moptimizer\u001b[0m\u001b[1;33m=\u001b[0m\u001b[1;34m'rmsprop'\u001b[0m\u001b[1;33m,\u001b[0m \u001b[0mloss\u001b[0m\u001b[1;33m=\u001b[0m\u001b[1;32mNone\u001b[0m\u001b[1;33m,\u001b[0m \u001b[0mmetrics\u001b[0m\u001b[1;33m=\u001b[0m\u001b[1;32mNone\u001b[0m\u001b[1;33m,\u001b[0m \u001b[0mloss_weights\u001b[0m\u001b[1;33m=\u001b[0m\u001b[1;32mNone\u001b[0m\u001b[1;33m,\u001b[0m\u001b[1;33m\u001b[0m\u001b[1;33m\u001b[0m\u001b[0m\n\u001b[1;32m----> 3\u001b[1;33m     \u001b[0mweighted_metrics\u001b[0m\u001b[1;33m=\u001b[0m\u001b[1;32mNone\u001b[0m\u001b[1;33m,\u001b[0m \u001b[0mrun_eagerly\u001b[0m\u001b[1;33m=\u001b[0m\u001b[1;32mNone\u001b[0m\u001b[1;33m,\u001b[0m \u001b[0msteps_per_execution\u001b[0m\u001b[1;33m=\u001b[0m\u001b[1;32mNone\u001b[0m\u001b[1;33m,\u001b[0m \u001b[1;33m**\u001b[0m\u001b[0mkwargs\u001b[0m\u001b[1;33m\u001b[0m\u001b[1;33m\u001b[0m\u001b[0m\n\u001b[0m\u001b[0;32m      4\u001b[0m )\n\u001b[0;32m      5\u001b[0m \u001b[1;33m\u001b[0m\u001b[0m\n",
      "\u001b[1;31mNameError\u001b[0m: name 'kwargs' is not defined"
     ]
    }
   ],
   "source": [
    "compile(\n",
    "    optimizer='rmsprop', loss=None, metrics=None, loss_weights=None,\n",
    "    weighted_metrics=None, run_eagerly=None, steps_per_execution=None, **kwargs\n",
    ")\n",
    "\n",
    "fit(\n",
    "    x=None, y=None, batch_size=None, epochs=1, verbose=1, callbacks=None,\n",
    "    validation_split=0.0, validation_data=None, shuffle=True, class_weight=None,\n",
    "    sample_weight=None, initial_epoch=0, steps_per_epoch=None,\n",
    "    validation_steps=None, validation_batch_size=None, validation_freq=1,\n",
    "    max_queue_size=10, workers=1, use_multiprocessing=False\n",
    ")"
   ]
  },
  {
   "cell_type": "code",
   "execution_count": 19,
   "metadata": {},
   "outputs": [
    {
     "ename": "NameError",
     "evalue": "name 'keras' is not defined",
     "output_type": "error",
     "traceback": [
      "\u001b[1;31m---------------------------------------------------------------------------\u001b[0m",
      "\u001b[1;31mNameError\u001b[0m                                 Traceback (most recent call last)",
      "\u001b[1;32m<ipython-input-19-3f39c43dc821>\u001b[0m in \u001b[0;36m<module>\u001b[1;34m\u001b[0m\n\u001b[0;32m      5\u001b[0m \u001b[0msummary\u001b[0m \u001b[1;33m=\u001b[0m \u001b[0mSummaryWriter\u001b[0m\u001b[1;33m(\u001b[0m\u001b[1;33m)\u001b[0m\u001b[1;33m\u001b[0m\u001b[1;33m\u001b[0m\u001b[0m\n\u001b[0;32m      6\u001b[0m \u001b[0mlogdir\u001b[0m\u001b[1;33m=\u001b[0m\u001b[1;34m\"logs\\\\fit\\\\\"\u001b[0m \u001b[1;33m+\u001b[0m \u001b[0mdatetime\u001b[0m\u001b[1;33m.\u001b[0m\u001b[0mnow\u001b[0m\u001b[1;33m(\u001b[0m\u001b[1;33m)\u001b[0m\u001b[1;33m.\u001b[0m\u001b[0mstrftime\u001b[0m\u001b[1;33m(\u001b[0m\u001b[1;34m\"%Y%m%d-%H%M%S\"\u001b[0m\u001b[1;33m)\u001b[0m\u001b[1;33m\u001b[0m\u001b[1;33m\u001b[0m\u001b[0m\n\u001b[1;32m----> 7\u001b[1;33m \u001b[0mtensorboard_callback\u001b[0m \u001b[1;33m=\u001b[0m \u001b[0mkeras\u001b[0m\u001b[1;33m.\u001b[0m\u001b[0mcallbacks\u001b[0m\u001b[1;33m.\u001b[0m\u001b[0mTensorBoard\u001b[0m\u001b[1;33m(\u001b[0m\u001b[0mlog_dir\u001b[0m\u001b[1;33m=\u001b[0m\u001b[0mlogdir\u001b[0m\u001b[1;33m)\u001b[0m\u001b[1;33m\u001b[0m\u001b[1;33m\u001b[0m\u001b[0m\n\u001b[0m",
      "\u001b[1;31mNameError\u001b[0m: name 'keras' is not defined"
     ]
    }
   ],
   "source": [
    "from tensorboardX import SummaryWriter\n",
    "from datetime import datetime\n",
    "from packaging import version\n",
    "\n",
    "summary = SummaryWriter()\n",
    "logdir=\"logs\\\\fit\\\\\" + datetime.now().strftime(\"%Y%m%d-%H%M%S\")\n",
    "tensorboard_callback = keras.callbacks.TensorBoard(log_dir=logdir)"
   ]
  },
  {
   "cell_type": "code",
   "execution_count": 20,
   "metadata": {},
   "outputs": [
    {
     "name": "stdout",
     "output_type": "stream",
     "text": [
      "Epoch 1/5\n",
      "4/4 [==============================] - 9s 1s/step - loss: 11.4418 - accuracy: 0.0754 - val_loss: 11.4374 - val_accuracy: 0.0875\n",
      "Epoch 2/5\n",
      "4/4 [==============================] - 0s 27ms/step - loss: 11.4201 - accuracy: 0.0750 - val_loss: 11.4359 - val_accuracy: 0.0775\n",
      "Epoch 3/5\n",
      "4/4 [==============================] - 0s 28ms/step - loss: 11.4407 - accuracy: 0.0924 - val_loss: 11.4349 - val_accuracy: 0.0800\n",
      "Epoch 4/5\n",
      "4/4 [==============================] - 0s 27ms/step - loss: 11.4810 - accuracy: 0.1093 - val_loss: 11.4346 - val_accuracy: 0.0825\n",
      "Epoch 5/5\n",
      "4/4 [==============================] - 0s 27ms/step - loss: 11.3828 - accuracy: 0.0867 - val_loss: 11.4352 - val_accuracy: 0.0825\n",
      "<class 'tensorflow.python.keras.callbacks.History'>\n",
      "[11.419689178466797, 11.417720794677734, 11.41739273071289, 11.417126655578613, 11.417886734008789]\n",
      "[0.08500000089406967, 0.07750000059604645, 0.0949999988079071, 0.09749999642372131, 0.0925000011920929]\n",
      "[11.437448501586914, 11.435863494873047, 11.434887886047363, 11.434643745422363, 11.435215950012207]\n",
      "[0.08749999850988388, 0.07750000059604645, 0.07999999821186066, 0.08250000327825546, 0.08250000327825546]\n"
     ]
    },
    {
     "data": {
      "image/png": "[encoded data removed]",
      "text/plain": [
       "<Figure size 432x288 with 2 Axes>"
      ]
     },
     "metadata": {
      "needs_background": "light"
     },
     "output_type": "display_data"
    }
   ],
   "source": [
    "# 간단한 모델 컴파일 해보자\n",
    "import numpy as np\n",
    "import keras\n",
    "from tensorflow.keras.layers import Dense, Activation, Dropout, LSTM\n",
    "from tensorflow.keras.models import Sequential\n",
    "from tensorboardX import SummaryWriter\n",
    "from datetime import datetime\n",
    "from packaging import version\n",
    "\n",
    "summary = SummaryWriter()\n",
    "logdir=\"logs\\\\fit\\\\\" + datetime.now().strftime(\"%Y%m%d-%H%M%S\")\n",
    "tensorboard_callback = keras.callbacks.TensorBoard(log_dir=logdir)\n",
    "\n",
    "# 임의의 데이터\n",
    "x_train = np.random.random((100,4,8))\n",
    "y_train = np.random.random((100,4,10))\n",
    "\n",
    "# 임의의 유효성 검사 데이터\n",
    "x_val = np.random.random((100,4,8))\n",
    "y_val = np.random.random((100,4,10))\n",
    "\n",
    "# 순차 모델링\n",
    "model = Sequential()\n",
    "\n",
    "# 모델 추가, 레이어 추가\n",
    "model.add(LSTM(16, return_sequences=True))\n",
    "model.add(Dense(10, activation='softmax'))\n",
    "\n",
    "# 모델 컴파일\n",
    "model.compile(loss='categorical_crossentropy', optimizer='sgd', metrics=['accuracy'])\n",
    "\n",
    "# 데이터 훈련\n",
    "hist = model.fit(x_train, y_train, batch_size=32, epochs=5, validation_data=(x_val,y_val), callbacks=[tensorboard_callback])\n",
    "hist\n",
    "print(type(hist))\n",
    "print(hist.history['loss'])\n",
    "print(hist.history['accuracy'])\n",
    "print(hist.history['val_loss'])\n",
    "print(hist.history['val_accuracy'])\n",
    "\n",
    "# fit() 히스토리 기능\n",
    "'''\n",
    "loss : 훈련 손실값\n",
    "accuracy : 정확도\n",
    "val_loss : 검증 손실값\n",
    "val_accuracy : 검증 정확도\n",
    "'''\n",
    "\n",
    "# C:\\Users\\USER>tensorboard --logdir C:\\Users\\USER\\MyPython\\DL\\logs\n",
    "\n",
    "# 그래프로 확인\n",
    "\n",
    "import matplotlib.pyplot as plt\n",
    "\n",
    "fig, loss_ax = plt.subplots()\n",
    "acc_ax = loss_ax.twinx()\n",
    "loss_ax.plot(hist.history['loss'], 'y', label='train loss')\n",
    "loss_ax.plot(hist.history['val_loss'], 'r', label='val loss')\n",
    "acc_ax.plot(hist.history['accuracy'], 'b', label='train acc')\n",
    "acc_ax.plot(hist.history['val_accuracy'], 'g', label='val acc')\n",
    "loss_ax.set_xlabel('epoch')\n",
    "loss_ax.set_ylabel('loss')\n",
    "acc_ax.set_ylabel('accuray')\n",
    "loss_ax.legend(loc='upper left')\n",
    "acc_ax.legend(loc='lower left')\n",
    "plt.show()"
   ]
  },
  {
   "cell_type": "code",
   "execution_count": 16,
   "metadata": {},
   "outputs": [
    {
     "name": "stdout",
     "output_type": "stream",
     "text": [
      "Epoch 1/5\n",
      "4/4 [==============================] - 3s 217ms/step - loss: 11.6564 - accuracy: 0.0959 - val_loss: 11.6532 - val_accuracy: 0.1000\n",
      "Epoch 2/5\n",
      "4/4 [==============================] - 0s 16ms/step - loss: 11.6588 - accuracy: 0.1069 - val_loss: 11.6525 - val_accuracy: 0.1000\n",
      "Epoch 3/5\n",
      "4/4 [==============================] - 0s 16ms/step - loss: 11.6727 - accuracy: 0.1019 - val_loss: 11.6529 - val_accuracy: 0.1000\n",
      "Epoch 4/5\n",
      "4/4 [==============================] - 0s 14ms/step - loss: 11.6501 - accuracy: 0.0874 - val_loss: 11.6532 - val_accuracy: 0.1000\n",
      "Epoch 5/5\n",
      "4/4 [==============================] - 0s 15ms/step - loss: 11.7387 - accuracy: 0.0861 - val_loss: 11.6536 - val_accuracy: 0.1000\n"
     ]
    },
    {
     "data": {
      "image/png": "[encoded data removed]",
      "text/plain": [
       "<Figure size 432x288 with 2 Axes>"
      ]
     },
     "metadata": {
      "needs_background": "light"
     },
     "output_type": "display_data"
    }
   ],
   "source": [
    "# 간단한 모델 컴파일 해보자.  \n",
    "import numpy as np \n",
    "from keras.layers import Input\n",
    "from keras.models import * \n",
    "from keras.layers import Dense, Activation, Dropout, LSTM\n",
    "#임의의 데이터  \n",
    "x_train = np.random.random((100,4,8)) \n",
    "y_train = np.random.random((100,4,10))\n",
    "# 임의의 유효성 검사 데이터  \n",
    "x_val = np.random.random((100,4,8)) \n",
    "y_val = np.random.random((100,4,10))\n",
    "# 순차 모델링\n",
    "model =Sequential()\n",
    "# 모델 추가, 레이어 추가  \n",
    "model.add(LSTM(16, return_sequences = True)) \n",
    "model.add(Dense(10, activation = 'softmax'))\n",
    "# 모델 컴파일  \n",
    "model.compile(  loss = 'categorical_crossentropy', optimizer = 'sgd', metrics = ['accuracy'])\n",
    "#데이터 훈련 \n",
    "hist =model.fit(x_train, y_train, batch_size = 32, epochs = 5, validation_data = (x_val, y_val))\n",
    "import matplotlib.pyplot as plt\n",
    "fig, loss_ax = plt.subplots()\n",
    "acc_ax = loss_ax.twinx()\n",
    "loss_ax.plot(hist.history['loss'], 'y', label='train loss')\n",
    "loss_ax.plot(hist.history['val_loss'], 'r', label='val loss')\n",
    "acc_ax.plot(hist.history['accuracy'], 'b', label='train acc')\n",
    "acc_ax.plot(hist.history['val_accuracy'], 'g', label='val acc')\n",
    "loss_ax.set_xlabel('epoch')\n",
    "loss_ax.set_ylabel('loss')\n",
    "acc_ax.set_ylabel('accuray')\n",
    "loss_ax.legend(loc='upper left')\n",
    "acc_ax.legend(loc='lower left')\n",
    "plt.show()"
   ]
  },
  {
   "cell_type": "markdown",
   "metadata": {},
   "source": [
    " One Hot Encoding\n",
    "- 사람이 인식할 수 있는 데이터를 숫자로 변환정렬시켜서 컴퓨터에게 주입시킨다.\n",
    "\n",
    "Data -> 숫자\n",
    "단어 -> 숫자\n",
    "딥러닝 : 문자열 -> 분철 -> 숫자 인덱싱 -> 원핫인코딩\n"
   ]
  },
  {
   "cell_type": "code",
   "execution_count": 22,
   "metadata": {},
   "outputs": [
    {
     "name": "stdout",
     "output_type": "stream",
     "text": [
      "{'너무': 1, '주아는': 2, '졸리다': 3, '지금': 4, '당장이라도': 5, '자고': 6, '싶다': 7}\n"
     ]
    }
   ],
   "source": [
    "import tensorflow as tf\n",
    "from tensorflow.keras.preprocessing.text import Tokenizer\n",
    "\n",
    "# 같은 글자는 인덱스로 분류 ex.너무\n",
    "str = '주아는 너무 졸리다. 지금 당장이라도 너무 자고 싶다.'\n",
    "tokenizer = Tokenizer()\n",
    "tokenizer.fit_on_texts([str])\n",
    "print(tokenizer.word_index)\n"
   ]
  },
  {
   "cell_type": "code",
   "execution_count": 25,
   "metadata": {},
   "outputs": [
    {
     "name": "stdout",
     "output_type": "stream",
     "text": [
      "[2, 1, 3, 4, 5, 1, 6, 7]\n"
     ]
    }
   ],
   "source": [
    "encode = tokenizer.texts_to_sequences([str])[0]\n",
    "print(encode)  # 같은 글자는 같은 인덱스 번호가 나옴"
   ]
  },
  {
   "cell_type": "code",
   "execution_count": 26,
   "metadata": {},
   "outputs": [
    {
     "name": "stdout",
     "output_type": "stream",
     "text": [
      "[[0. 0. 1. 0. 0. 0. 0. 0.]\n",
      " [0. 1. 0. 0. 0. 0. 0. 0.]\n",
      " [0. 0. 0. 1. 0. 0. 0. 0.]\n",
      " [0. 0. 0. 0. 1. 0. 0. 0.]\n",
      " [0. 0. 0. 0. 0. 1. 0. 0.]\n",
      " [0. 1. 0. 0. 0. 0. 0. 0.]\n",
      " [0. 0. 0. 0. 0. 0. 1. 0.]\n",
      " [0. 0. 0. 0. 0. 0. 0. 1.]]\n"
     ]
    }
   ],
   "source": [
    "onehot = tf.keras.utils.to_categorical(encode)\n",
    "print(onehot)"
   ]
  },
  {
   "cell_type": "code",
   "execution_count": 28,
   "metadata": {},
   "outputs": [
    {
     "name": "stdout",
     "output_type": "stream",
     "text": [
      "[[0. 0. 1. 0. 0. 0. 0. 0. 0. 0. 0. 0. 0. 0. 0. 0. 0. 0. 0. 0.]\n",
      " [0. 1. 0. 0. 0. 0. 0. 0. 0. 0. 0. 0. 0. 0. 0. 0. 0. 0. 0. 0.]\n",
      " [0. 0. 0. 1. 0. 0. 0. 0. 0. 0. 0. 0. 0. 0. 0. 0. 0. 0. 0. 0.]\n",
      " [0. 0. 0. 0. 1. 0. 0. 0. 0. 0. 0. 0. 0. 0. 0. 0. 0. 0. 0. 0.]\n",
      " [0. 0. 0. 0. 0. 1. 0. 0. 0. 0. 0. 0. 0. 0. 0. 0. 0. 0. 0. 0.]\n",
      " [0. 1. 0. 0. 0. 0. 0. 0. 0. 0. 0. 0. 0. 0. 0. 0. 0. 0. 0. 0.]\n",
      " [0. 0. 0. 0. 0. 0. 1. 0. 0. 0. 0. 0. 0. 0. 0. 0. 0. 0. 0. 0.]\n",
      " [0. 0. 0. 0. 0. 0. 0. 1. 0. 0. 0. 0. 0. 0. 0. 0. 0. 0. 0. 0.]]\n"
     ]
    }
   ],
   "source": [
    "onehot = tf.keras.utils.to_categorical(encode,20)  # 20개로 늘리기\n",
    "print(onehot)"
   ]
  },
  {
   "cell_type": "code",
   "execution_count": 64,
   "metadata": {},
   "outputs": [
    {
     "data": {
      "text/plain": [
       "array([[  1.,   3.,  22., ...,   0.,   0.,   1.],\n",
       "       [  2.,   1.,  38., ...,   1.,   0.,   0.],\n",
       "       [  3.,   3.,  26., ...,   0.,   0.,   1.],\n",
       "       ...,\n",
       "       [889.,   3.,  28., ...,   0.,   0.,   1.],\n",
       "       [890.,   1.,  26., ...,   1.,   0.,   0.],\n",
       "       [891.,   3.,  32., ...,   0.,   1.,   0.]], dtype=float32)"
      ]
     },
     "execution_count": 64,
     "metadata": {},
     "output_type": "execute_result"
    }
   ],
   "source": [
    "# exam) 모델링 학습해보자\n",
    "import pandas as pd\n",
    "import numpy as np\n",
    "from keras.models import Sequential\n",
    "from keras.layers import Dense, Dropout, Flatten, Activation\n",
    "from keras.layers.convolutional import Conv2D, MaxPooling2D\n",
    "from keras.optimizers import Adam\n",
    "from keras.utils import np_utils\n",
    "from keras import backend as K\n",
    "from sklearn.utils import shuffle\n",
    "import tensorflow as tf\n",
    "\n",
    "# 1. 데이터 로드\n",
    "test = pd.read_csv('titanic_test.csv')\n",
    "train = pd.read_csv('titanic_train.csv')\n",
    "\n",
    "train_x = train.drop('Survived', axis=1)\n",
    "train_y = train['Survived']\n",
    "test_x = test\n",
    "\n",
    "# 결측값 삭제\n",
    "train_x = train_x.drop(['Name','Ticket','Cabin'],axis=1)\n",
    "test_x = test_x.drop(['Name','Ticket','Cabin'],axis=1)\n",
    "\n",
    "# 결측값 채우기\n",
    "train_age_median = train_x['Age'].median()  # 중간값\n",
    "train_x['Age'] = train_x['Age'].fillna(train_age_median)\n",
    "train_x['Embarked'] = train_x['Embarked'].fillna('S')\n",
    "\n",
    "# test 결측값 채우기\n",
    "test_age_median = test_x['Age'].median()  # 중간값\n",
    "test_x['Age'] = test_x['Age'].fillna(test_age_median)\n",
    "\n",
    "test_x['Fare'] = test_x['Fare'].fillna(test_x['Fare'].describe()[5])\n",
    "\n",
    "# 더미 컬럼 생성\n",
    "train_x_dummy = pd.get_dummies(train_x, columns=['Sex','Embarked'])\n",
    "test_x_dummy = pd.get_dummies(test_x, columns=['Sex','Embarked'])\n",
    "\n",
    "# one-hot\n",
    "train_y_onehot = np_utils.to_categorical(train_y)\n",
    "train_x_dummy_arr = train_x_dummy.values.astype('float32')\n",
    "\n",
    "train_x_dummy_arr"
   ]
  },
  {
   "cell_type": "code",
   "execution_count": 78,
   "metadata": {},
   "outputs": [
    {
     "name": "stdout",
     "output_type": "stream",
     "text": [
      "Epoch 1/10\n",
      "28/28 [==============================] - 1s 2ms/step - loss: 0.6276 - recall_7: 0.3714\n",
      "Epoch 2/10\n",
      "28/28 [==============================] - 0s 2ms/step - loss: 0.6222 - recall_7: 0.3767\n",
      "Epoch 3/10\n",
      "28/28 [==============================] - 0s 2ms/step - loss: 0.6090 - recall_7: 0.3884\n",
      "Epoch 4/10\n",
      "28/28 [==============================] - 0s 2ms/step - loss: 0.6210 - recall_7: 0.3765\n",
      "Epoch 5/10\n",
      "28/28 [==============================] - 0s 2ms/step - loss: 0.6409 - recall_7: 0.3588\n",
      "Epoch 6/10\n",
      "28/28 [==============================] - 0s 2ms/step - loss: 0.6132 - recall_7: 0.3858\n",
      "Epoch 7/10\n",
      "28/28 [==============================] - 0s 2ms/step - loss: 0.6063 - recall_7: 0.3901\n",
      "Epoch 8/10\n",
      "28/28 [==============================] - 0s 2ms/step - loss: 0.6100 - recall_7: 0.3890\n",
      "Epoch 9/10\n",
      "28/28 [==============================] - 0s 2ms/step - loss: 0.6172 - recall_7: 0.3810\n",
      "Epoch 10/10\n",
      "28/28 [==============================] - 0s 2ms/step - loss: 0.6102 - recall_7: 0.3883\n"
     ]
    }
   ],
   "source": [
    "# 2. 모델 생성\n",
    "model = tf.keras.Sequential()\n",
    "model.add(layers.Dense(64, activation='relu'))\n",
    "model.add(layers.Dense(64, activation='relu'))\n",
    "model.add(layers.Dense(2, activation='softmax'))\n",
    "\n",
    "# 3. 컴파일\n",
    "# model.compile(optimizer='rmsprop', loss='categotical_croosentropy', metrics=['accuracy'])\n",
    "model.compile(optimizer='sgd', loss='mse', metrics=[tf.keras.metrics.Recall()])\n",
    "\n",
    "# 4. fit()\n",
    "mycall = tf.keras.callbacks.EarlyStopping(monitor='loss', patience=2, verbose=1, mode='auto')\n",
    "model.fit(train_x_dummy_arr, train_y_onehot, epochs=10, batch_size=32, callbacks=[mycall])\n",
    "\n",
    "# 5. 저장\n",
    "model.save('res.h5')"
   ]
  }
 ],
 "metadata": {
  "kernelspec": {
   "display_name": "Python 3",
   "language": "python",
   "name": "python3"
  },
  "language_info": {
   "codemirror_mode": {
    "name": "ipython",
    "version": 3
   },
   "file_extension": ".py",
   "mimetype": "text/x-python",
   "name": "python",
   "nbconvert_exporter": "python",
   "pygments_lexer": "ipython3",
   "version": "3.8.5"
  }
 },
 "nbformat": 4,
 "nbformat_minor": 4
}
