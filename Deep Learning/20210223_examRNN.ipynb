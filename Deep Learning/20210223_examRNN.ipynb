{
 "cells": [
  {
   "cell_type": "code",
   "execution_count": 1,
   "metadata": {},
   "outputs": [],
   "source": [
    "import tensorflow as tf\n",
    "from tensorflow import keras\n",
    "import numpy as np"
   ]
  },
  {
   "cell_type": "code",
   "execution_count": 2,
   "metadata": {},
   "outputs": [
    {
     "name": "stdout",
     "output_type": "stream",
     "text": [
      "2.4.1\n"
     ]
    }
   ],
   "source": [
    "# 01. 텐서 버전 확인\n",
    "\n",
    "print(tf.__version__)"
   ]
  },
  {
   "cell_type": "code",
   "execution_count": 13,
   "metadata": {},
   "outputs": [],
   "source": [
    "# 02. imdb 에서 데이터를 10000개만 로드 (영화 리뷰, 가장 많이 등장하는 단어)\n",
    "\n",
    "# imdb = keras.datasets.imdb\n",
    "(train_data, train_labels), (test_data, test_labels) = imdb.load_data(num_words=10000)\n"
   ]
  },
  {
   "cell_type": "code",
   "execution_count": 14,
   "metadata": {},
   "outputs": [
    {
     "name": "stdout",
     "output_type": "stream",
     "text": [
      "훈련 샘플 : 25000, 훈련 레이블 : 25000\n",
      "\n",
      " [1, 14, 22, 16, 43, 530, 973, 1622, 1385, 65, 458, 4468, 66, 3941, 4, 173, 36, 256, 5, 25, 100, 43, 838, 112, 50, 670, 2, 9, 35, 480, 284, 5, 150, 4, 172, 112, 167, 2, 336, 385, 39, 4, 172, 4536, 1111, 17, 546, 38, 13, 447, 4, 192, 50, 16, 6, 147, 2025, 19, 14, 22, 4, 1920, 4613, 469, 4, 22, 71, 87, 12, 16, 43, 530, 38, 76, 15, 13, 1247, 4, 22, 17, 515, 17, 12, 16, 626, 18, 2, 5, 62, 386, 12, 8, 316, 8, 106, 5, 4, 2223, 5244, 16, 480, 66, 3785, 33, 4, 130, 12, 16, 38, 619, 5, 25, 124, 51, 36, 135, 48, 25, 1415, 33, 6, 22, 12, 215, 28, 77, 52, 5, 14, 407, 16, 82, 2, 8, 4, 107, 117, 5952, 15, 256, 4, 2, 7, 3766, 5, 723, 36, 71, 43, 530, 476, 26, 400, 317, 46, 7, 4, 2, 1029, 13, 104, 88, 4, 381, 15, 297, 98, 32, 2071, 56, 26, 141, 6, 194, 7486, 18, 4, 226, 22, 21, 134, 476, 26, 480, 5, 144, 30, 5535, 18, 51, 36, 28, 224, 92, 25, 104, 4, 226, 65, 16, 38, 1334, 88, 12, 16, 283, 5, 16, 4472, 113, 103, 32, 15, 16, 5345, 19, 178, 32] \n",
      "\n",
      "218\n",
      "189\n"
     ]
    }
   ],
   "source": [
    "# 03. 훈련 데이터와 훈련 데이터 레이블을 출력\n",
    "\n",
    "print(\"훈련 샘플 : {}, 훈련 레이블 : {}\".format(len(train_data), len(train_labels)))\n",
    "print('\\n',train_data[0],'\\n')\n",
    "\n",
    "# 04. 첫번째 영화리뷰와 두번째 영화 리뷰의 길이가 다른 것을 확인\n",
    "print(len(train_data[0]))\n",
    "print(len(train_data[1]))"
   ]
  },
  {
   "cell_type": "code",
   "execution_count": 15,
   "metadata": {},
   "outputs": [
    {
     "name": "stdout",
     "output_type": "stream",
     "text": [
      "<START> this film was just brilliant casting location scenery story direction everyone's really suited the part they played and you could just imagine being there robert <UNK> is an amazing actor and now the same being director <UNK> father came from the same scottish island as myself so i loved the fact there was a real connection with this film the witty remarks throughout the film were great it was just brilliant so much that i bought the film as soon as it was released for <UNK> and would recommend it to everyone to watch and the fly fishing was amazing really cried at the end it was so sad and you know what they say if you cry at a film it must have been good and this definitely was also <UNK> to the two little boy's that played the <UNK> of norman and paul they were just brilliant children are often left out of the <UNK> list i think because the stars that play them all grown up are such a big profile for the whole film but these children are amazing and should be praised for what they have done don't you think the whole story was so lovely because it was true and was someone's life after all that was shared with us all\n"
     ]
    }
   ],
   "source": [
    "# 05. 내용을 확인\n",
    "\n",
    "word_index = imdb.get_word_index( path = 'imdb_word_index.json' )\n",
    "\n",
    "# word_index.items()  # 아이템 출력 확인\n",
    "# 사용자 사전형으로 저장\n",
    "word_index = { k : (v+3) for k, v in word_index.items() }\n",
    "word_index\n",
    "\n",
    "word_index[\"<PAD>\"] = 0\n",
    "word_index[\"<START>\"] = 1\n",
    "word_index[\"<UNK>\"] = 2\n",
    "word_index[\"<UNUSED>\"] = 3\n",
    "\n",
    "# 06. 데이터의 내용을 확인\n",
    "reverse_word_index = dict( [ (value, key) for (key, value) in word_index.items() ] )\n",
    "reverse_word_index\n",
    "\n",
    "# 숫자로 가져온 데이터(train_data)를 디코드해서 내용 보기\n",
    "def decode_review(text):\n",
    "    return ' '.join( [ reverse_word_index.get(i, '?') for i in text ] )\n",
    "\n",
    "print(decode_review(train_data[0]))"
   ]
  },
  {
   "cell_type": "code",
   "execution_count": 16,
   "metadata": {},
   "outputs": [
    {
     "name": "stdout",
     "output_type": "stream",
     "text": [
      "256\n",
      "256\n",
      "<START> this film was just brilliant casting location scenery story direction everyone's really suited the part they played and you could just imagine being there robert <UNK> is an amazing actor and now the same being director <UNK> father came from the same scottish island as myself so i loved the fact there was a real connection with this film the witty remarks throughout the film were great it was just brilliant so much that i bought the film as soon as it was released for <UNK> and would recommend it to everyone to watch and the fly fishing was amazing really cried at the end it was so sad and you know what they say if you cry at a film it must have been good and this definitely was also <UNK> to the two little boy's that played the <UNK> of norman and paul they were just brilliant children are often left out of the <UNK> list i think because the stars that play them all grown up are such a big profile for the whole film but these children are amazing and should be praised for what they have done don't you think the whole story was so lovely because it was true and was someone's life after all that was shared with us all <PAD> <PAD> <PAD> <PAD> <PAD> <PAD> <PAD> <PAD> <PAD> <PAD> <PAD> <PAD> <PAD> <PAD> <PAD> <PAD> <PAD> <PAD> <PAD> <PAD> <PAD> <PAD> <PAD> <PAD> <PAD> <PAD> <PAD> <PAD> <PAD> <PAD> <PAD> <PAD> <PAD> <PAD> <PAD> <PAD> <PAD> <PAD>\n"
     ]
    }
   ],
   "source": [
    "# 07. print(len(train_data[0])) print(len(train_data[1])) 218, 189 \n",
    "#   -> 내용의 길이가 다르다. 256으로 맞추고 남은 부분은 0으로 채우자\n",
    "\n",
    "train_data = keras.preprocessing.sequence.pad_sequences(\n",
    "    train_data, maxlen=256, padding='post', value = word_index[\"<PAD>\"]\n",
    ")\n",
    "\n",
    "test_data = keras.preprocessing.sequence.pad_sequences(\n",
    "    test_data, maxlen=256, padding='post', value = word_index[\"<PAD>\"]\n",
    ")\n",
    "\n",
    "# 길이 확인\n",
    "print(len(train_data[0])) \n",
    "print(len(train_data[1]))\n",
    "\n",
    "# 데이터 확인\n",
    "# print(train_data[0])\n",
    "# print(train_data[1])\n",
    "print(decode_review(train_data[0]))"
   ]
  },
  {
   "cell_type": "code",
   "execution_count": 17,
   "metadata": {},
   "outputs": [
    {
     "name": "stdout",
     "output_type": "stream",
     "text": [
      "Model: \"sequential_1\"\n",
      "_________________________________________________________________\n",
      "Layer (type)                 Output Shape              Param #   \n",
      "=================================================================\n",
      "embedding_1 (Embedding)      (None, None, 16)          160000    \n",
      "_________________________________________________________________\n",
      "global_average_pooling1d_1 ( (None, 16)                0         \n",
      "_________________________________________________________________\n",
      "dense_2 (Dense)              (None, 16)                272       \n",
      "_________________________________________________________________\n",
      "dense_3 (Dense)              (None, 1)                 17        \n",
      "=================================================================\n",
      "Total params: 160,289\n",
      "Trainable params: 160,289\n",
      "Non-trainable params: 0\n",
      "_________________________________________________________________\n"
     ]
    }
   ],
   "source": [
    "# 08. 모델 생성\n",
    "\n",
    "vocab_size = 10000\n",
    "model = keras.Sequential()\n",
    "model.add( keras.layers.Embedding(vocab_size, 16, input_shape=(None,)))\n",
    "model.add( keras.layers.GlobalAveragePooling1D() )\n",
    "model.add( keras.layers.Dense(16, activation='relu'))\n",
    "model.add( keras.layers.Dense(1, activation='sigmoid'))\n",
    "\n",
    "model.summary()\n",
    "\n",
    "model.compile(optimizer='adam', loss='binary_crossentropy', metrics=['accuracy'])\n",
    "\n",
    "# model.save('RNNmodel.h5')"
   ]
  },
  {
   "cell_type": "markdown",
   "metadata": {},
   "source": [
    "GlobalAveragePooling1D()\n",
    "\n",
    "6*6 경우\n",
    "\n",
    "h = 6\n",
    "w = 6\n",
    "d = 3\n",
    "-> 6*6  6*6  6*6  \n",
    "\n",
    "에서 1차원으로 리턴받아 평균 : GlobalAveragePooling1D()\n",
    "\n",
    "->\n",
    "h = 1\n",
    "w = 1\n",
    "d = 3\n"
   ]
  },
  {
   "cell_type": "code",
   "execution_count": 18,
   "metadata": {},
   "outputs": [
    {
     "name": "stdout",
     "output_type": "stream",
     "text": [
      "Epoch 1/40\n",
      "30/30 [==============================] - 3s 48ms/step - loss: 0.6927 - accuracy: 0.5127 - val_loss: 0.6908 - val_accuracy: 0.5881\n",
      "Epoch 2/40\n",
      "30/30 [==============================] - 1s 33ms/step - loss: 0.6893 - accuracy: 0.6175 - val_loss: 0.6846 - val_accuracy: 0.7085\n",
      "Epoch 3/40\n",
      "30/30 [==============================] - 1s 36ms/step - loss: 0.6806 - accuracy: 0.7261 - val_loss: 0.6714 - val_accuracy: 0.7380\n",
      "Epoch 4/40\n",
      "30/30 [==============================] - 1s 35ms/step - loss: 0.6634 - accuracy: 0.7522 - val_loss: 0.6490 - val_accuracy: 0.7579\n",
      "Epoch 5/40\n",
      "30/30 [==============================] - 1s 35ms/step - loss: 0.6348 - accuracy: 0.7720 - val_loss: 0.6167 - val_accuracy: 0.7752\n",
      "Epoch 6/40\n",
      "30/30 [==============================] - 1s 35ms/step - loss: 0.5972 - accuracy: 0.8032 - val_loss: 0.5767 - val_accuracy: 0.7970\n",
      "Epoch 7/40\n",
      "30/30 [==============================] - 1s 35ms/step - loss: 0.5523 - accuracy: 0.8230 - val_loss: 0.5321 - val_accuracy: 0.8145\n",
      "Epoch 8/40\n",
      "30/30 [==============================] - 1s 34ms/step - loss: 0.5033 - accuracy: 0.8399 - val_loss: 0.4882 - val_accuracy: 0.8302\n",
      "Epoch 9/40\n",
      "30/30 [==============================] - 1s 34ms/step - loss: 0.4520 - accuracy: 0.8548 - val_loss: 0.4490 - val_accuracy: 0.8399\n",
      "Epoch 10/40\n",
      "30/30 [==============================] - 1s 37ms/step - loss: 0.4124 - accuracy: 0.8658 - val_loss: 0.4157 - val_accuracy: 0.8502\n",
      "Epoch 11/40\n",
      "30/30 [==============================] - 1s 37ms/step - loss: 0.3779 - accuracy: 0.8775 - val_loss: 0.3890 - val_accuracy: 0.8573\n",
      "Epoch 12/40\n",
      "30/30 [==============================] - 1s 35ms/step - loss: 0.3466 - accuracy: 0.8899 - val_loss: 0.3675 - val_accuracy: 0.8625\n",
      "Epoch 13/40\n",
      "30/30 [==============================] - 1s 36ms/step - loss: 0.3216 - accuracy: 0.8921 - val_loss: 0.3504 - val_accuracy: 0.8681\n",
      "Epoch 14/40\n",
      "30/30 [==============================] - 1s 35ms/step - loss: 0.3042 - accuracy: 0.8931 - val_loss: 0.3379 - val_accuracy: 0.8688\n",
      "Epoch 15/40\n",
      "30/30 [==============================] - 1s 36ms/step - loss: 0.2814 - accuracy: 0.9024 - val_loss: 0.3264 - val_accuracy: 0.8755\n",
      "Epoch 16/40\n",
      "30/30 [==============================] - 1s 33ms/step - loss: 0.2617 - accuracy: 0.9089 - val_loss: 0.3180 - val_accuracy: 0.8749\n",
      "Epoch 17/40\n",
      "30/30 [==============================] - 1s 36ms/step - loss: 0.2531 - accuracy: 0.9109 - val_loss: 0.3107 - val_accuracy: 0.8793\n",
      "Epoch 18/40\n",
      "30/30 [==============================] - 1s 35ms/step - loss: 0.2343 - accuracy: 0.9229 - val_loss: 0.3045 - val_accuracy: 0.8806\n",
      "Epoch 19/40\n",
      "30/30 [==============================] - 1s 34ms/step - loss: 0.2239 - accuracy: 0.9214 - val_loss: 0.2997 - val_accuracy: 0.8805\n",
      "Epoch 20/40\n",
      "30/30 [==============================] - 1s 35ms/step - loss: 0.2132 - accuracy: 0.9273 - val_loss: 0.2969 - val_accuracy: 0.8817\n",
      "Epoch 21/40\n",
      "30/30 [==============================] - 1s 35ms/step - loss: 0.2035 - accuracy: 0.9308 - val_loss: 0.2931 - val_accuracy: 0.8823\n",
      "Epoch 22/40\n",
      "30/30 [==============================] - 1s 34ms/step - loss: 0.1935 - accuracy: 0.9353 - val_loss: 0.2902 - val_accuracy: 0.8841\n",
      "Epoch 23/40\n",
      "30/30 [==============================] - 1s 35ms/step - loss: 0.1833 - accuracy: 0.9401 - val_loss: 0.2889 - val_accuracy: 0.8839\n",
      "Epoch 24/40\n",
      "30/30 [==============================] - 1s 34ms/step - loss: 0.1746 - accuracy: 0.9442 - val_loss: 0.2871 - val_accuracy: 0.8836\n",
      "Epoch 25/40\n",
      "30/30 [==============================] - 1s 33ms/step - loss: 0.1691 - accuracy: 0.9467 - val_loss: 0.2861 - val_accuracy: 0.8848\n",
      "Epoch 26/40\n",
      "30/30 [==============================] - 1s 35ms/step - loss: 0.1625 - accuracy: 0.9499 - val_loss: 0.2860 - val_accuracy: 0.8848\n",
      "Epoch 27/40\n",
      "30/30 [==============================] - 1s 37ms/step - loss: 0.1577 - accuracy: 0.9511 - val_loss: 0.2874 - val_accuracy: 0.8827\n",
      "Epoch 28/40\n",
      "30/30 [==============================] - 1s 34ms/step - loss: 0.1533 - accuracy: 0.9523 - val_loss: 0.2861 - val_accuracy: 0.8861\n",
      "Epoch 29/40\n",
      "30/30 [==============================] - 1s 36ms/step - loss: 0.1403 - accuracy: 0.9576 - val_loss: 0.2875 - val_accuracy: 0.8849\n",
      "Epoch 30/40\n",
      "30/30 [==============================] - 1s 34ms/step - loss: 0.1387 - accuracy: 0.9595 - val_loss: 0.2884 - val_accuracy: 0.8849\n",
      "Epoch 31/40\n",
      "30/30 [==============================] - 1s 33ms/step - loss: 0.1346 - accuracy: 0.9591 - val_loss: 0.2894 - val_accuracy: 0.8871\n",
      "Epoch 32/40\n",
      "30/30 [==============================] - 1s 34ms/step - loss: 0.1261 - accuracy: 0.9625 - val_loss: 0.2907 - val_accuracy: 0.8858\n",
      "Epoch 33/40\n",
      "30/30 [==============================] - 1s 34ms/step - loss: 0.1211 - accuracy: 0.9651 - val_loss: 0.2926 - val_accuracy: 0.8851\n",
      "Epoch 34/40\n",
      "30/30 [==============================] - 1s 33ms/step - loss: 0.1142 - accuracy: 0.9693 - val_loss: 0.2943 - val_accuracy: 0.8864\n",
      "Epoch 35/40\n",
      "30/30 [==============================] - 1s 34ms/step - loss: 0.1150 - accuracy: 0.9666 - val_loss: 0.2966 - val_accuracy: 0.8869\n",
      "Epoch 36/40\n",
      "30/30 [==============================] - 1s 34ms/step - loss: 0.1085 - accuracy: 0.9702 - val_loss: 0.2991 - val_accuracy: 0.8858\n",
      "Epoch 37/40\n",
      "30/30 [==============================] - 1s 33ms/step - loss: 0.1037 - accuracy: 0.9717 - val_loss: 0.3014 - val_accuracy: 0.8840\n",
      "Epoch 38/40\n",
      "30/30 [==============================] - 1s 35ms/step - loss: 0.1014 - accuracy: 0.9731 - val_loss: 0.3045 - val_accuracy: 0.8842\n",
      "Epoch 39/40\n",
      "30/30 [==============================] - 1s 36ms/step - loss: 0.0990 - accuracy: 0.9750 - val_loss: 0.3078 - val_accuracy: 0.8832\n",
      "Epoch 40/40\n",
      "30/30 [==============================] - 1s 37ms/step - loss: 0.0953 - accuracy: 0.9756 - val_loss: 0.3104 - val_accuracy: 0.8829\n",
      "782/782 - 1s - loss: 0.3302 - accuracy: 0.8726\n",
      "[0.3302253484725952, 0.8726000189781189]\n"
     ]
    },
    {
     "data": {
      "text/plain": [
       "'\\n- 결과 -\\n782/782 - 1s - loss: 0.4902 - accuracy: 0.8580\\n[0.4901551604270935, 0.8579999804496765]\\n'"
      ]
     },
     "execution_count": 18,
     "metadata": {},
     "output_type": "execute_result"
    }
   ],
   "source": [
    "# 09. 훈련\n",
    "\n",
    "x_val = train_data[:10000]\n",
    "partial_x_train = train_data[10000:]\n",
    "\n",
    "y_val = train_labels[:10000]\n",
    "partial_y_train = train_labels[10000:]\n",
    "\n",
    "history = model.fit( partial_x_train,\n",
    "                     partial_y_train,\n",
    "                     epochs = 40,\n",
    "                     batch_size = 512,\n",
    "                     validation_data = (x_val, y_val),\n",
    "                     verbose = 1                   )\n",
    "\n",
    "results = model.evaluate(test_data, test_labels, verbose=2)\n",
    "print(results)\n",
    "\n",
    "'''\n",
    "- 결과 -\n",
    "782/782 - 1s - loss: 0.4902 - accuracy: 0.8580\n",
    "[0.4901551604270935, 0.8579999804496765]\n",
    "'''"
   ]
  },
  {
   "cell_type": "code",
   "execution_count": 19,
   "metadata": {},
   "outputs": [
    {
     "data": {
      "text/plain": [
       "<matplotlib.legend.Legend at 0x203490c8bb0>"
      ]
     },
     "execution_count": 19,
     "metadata": {},
     "output_type": "execute_result"
    },
    {
     "data": {
      "image/png": "[encoded data removed]",
      "text/plain": [
       "<Figure size 432x288 with 1 Axes>"
      ]
     },
     "metadata": {
      "needs_background": "light"
     },
     "output_type": "display_data"
    }
   ],
   "source": [
    "# 10. 시각화\n",
    "import matplotlib.pyplot as plt\n",
    "\n",
    "history_dict = history.history\n",
    "history_dict.keys()\n",
    "\n",
    "acc = history_dict['accuracy']\n",
    "val_acc = history_dict['val_accuracy']\n",
    "loss = history_dict['loss']\n",
    "val_loss = history_dict['val_loss']\n",
    "\n",
    "epochs = range( 1, len(acc) + 1 )\n",
    "# 파란색 점 bo\n",
    "plt.plot(epochs, loss, 'bo', label='Training loss')\n",
    "\n",
    "# 파란색 실선 b\n",
    "plt.plot(epochs, val_loss, 'b', label='Validation loss')\n",
    "\n",
    "plt.title(\"Training & validation\")\n",
    "plt.xlabel('Epoch')\n",
    "plt.ylabel('Loss')\n",
    "plt.legend()\n"
   ]
  },
  {
   "cell_type": "code",
   "execution_count": 20,
   "metadata": {},
   "outputs": [
    {
     "data": {
      "text/plain": [
       "<matplotlib.legend.Legend at 0x203490e92b0>"
      ]
     },
     "execution_count": 20,
     "metadata": {},
     "output_type": "execute_result"
    },
    {
     "data": {
      "image/png": "[encoded data removed]",
      "text/plain": [
       "<Figure size 432x288 with 1 Axes>"
      ]
     },
     "metadata": {
      "needs_background": "light"
     },
     "output_type": "display_data"
    }
   ],
   "source": [
    "# 정답률\n",
    "\n",
    "# 파란색 점 bo\n",
    "plt.plot(epochs, acc, 'bo', label='Training acc')\n",
    "\n",
    "# 파란색 실선 b\n",
    "plt.plot(epochs, val_acc, 'b', label='Validation acc')\n",
    "\n",
    "plt.title(\"Training & validation\")\n",
    "plt.xlabel('Epoch')\n",
    "plt.ylabel('Accuracy')\n",
    "plt.legend()"
   ]
  }
 ],
 "metadata": {
  "kernelspec": {
   "display_name": "Python 3",
   "language": "python",
   "name": "python3"
  },
  "language_info": {
   "codemirror_mode": {
    "name": "ipython",
    "version": 3
   },
   "file_extension": ".py",
   "mimetype": "text/x-python",
   "name": "python",
   "nbconvert_exporter": "python",
   "pygments_lexer": "ipython3",
   "version": "3.8.5"
  }
 },
 "nbformat": 4,
 "nbformat_minor": 4
}
