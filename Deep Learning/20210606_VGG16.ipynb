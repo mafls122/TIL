{
  "nbformat": 4,
  "nbformat_minor": 0,
  "metadata": {
    "colab": {
      "name": "20210606_VGG16.ipynb",
      "provenance": [],
      "collapsed_sections": []
    },
    "kernelspec": {
      "name": "python3",
      "display_name": "Python 3"
    },
    "language_info": {
      "name": "python"
    }
  },
  "cells": [
    {
      "cell_type": "markdown",
      "metadata": {
        "id": "kuGEFEvgsnMO"
      },
      "source": [
        "## VGG16 모델 사용해보기"
      ]
    },
    {
      "cell_type": "code",
      "metadata": {
        "id": "TfQMelkqiWRv"
      },
      "source": [
        "import cv2\n",
        "from tensorflow.keras.applications import VGG16\n",
        "from tensorflow.python.keras.preprocessing.image import img_to_array\n",
        "from tensorflow.python.keras.applications.vgg16 import preprocess_input, decode_predictions"
      ],
      "execution_count": 52,
      "outputs": []
    },
    {
      "cell_type": "code",
      "metadata": {
        "id": "lmM5hbCRiXnx"
      },
      "source": [
        "model = VGG16()"
      ],
      "execution_count": 53,
      "outputs": []
    },
    {
      "cell_type": "code",
      "metadata": {
        "colab": {
          "base_uri": "https://localhost:8080/"
        },
        "id": "O53ql0XjiYjH",
        "outputId": "e0989f17-9beb-4edb-c91e-90459e5f7222"
      },
      "source": [
        "model.summary()"
      ],
      "execution_count": 54,
      "outputs": [
        {
          "output_type": "stream",
          "text": [
            "Model: \"vgg16\"\n",
            "_________________________________________________________________\n",
            "Layer (type)                 Output Shape              Param #   \n",
            "=================================================================\n",
            "input_2 (InputLayer)         [(None, 224, 224, 3)]     0         \n",
            "_________________________________________________________________\n",
            "block1_conv1 (Conv2D)        (None, 224, 224, 64)      1792      \n",
            "_________________________________________________________________\n",
            "block1_conv2 (Conv2D)        (None, 224, 224, 64)      36928     \n",
            "_________________________________________________________________\n",
            "block1_pool (MaxPooling2D)   (None, 112, 112, 64)      0         \n",
            "_________________________________________________________________\n",
            "block2_conv1 (Conv2D)        (None, 112, 112, 128)     73856     \n",
            "_________________________________________________________________\n",
            "block2_conv2 (Conv2D)        (None, 112, 112, 128)     147584    \n",
            "_________________________________________________________________\n",
            "block2_pool (MaxPooling2D)   (None, 56, 56, 128)       0         \n",
            "_________________________________________________________________\n",
            "block3_conv1 (Conv2D)        (None, 56, 56, 256)       295168    \n",
            "_________________________________________________________________\n",
            "block3_conv2 (Conv2D)        (None, 56, 56, 256)       590080    \n",
            "_________________________________________________________________\n",
            "block3_conv3 (Conv2D)        (None, 56, 56, 256)       590080    \n",
            "_________________________________________________________________\n",
            "block3_pool (MaxPooling2D)   (None, 28, 28, 256)       0         \n",
            "_________________________________________________________________\n",
            "block4_conv1 (Conv2D)        (None, 28, 28, 512)       1180160   \n",
            "_________________________________________________________________\n",
            "block4_conv2 (Conv2D)        (None, 28, 28, 512)       2359808   \n",
            "_________________________________________________________________\n",
            "block4_conv3 (Conv2D)        (None, 28, 28, 512)       2359808   \n",
            "_________________________________________________________________\n",
            "block4_pool (MaxPooling2D)   (None, 14, 14, 512)       0         \n",
            "_________________________________________________________________\n",
            "block5_conv1 (Conv2D)        (None, 14, 14, 512)       2359808   \n",
            "_________________________________________________________________\n",
            "block5_conv2 (Conv2D)        (None, 14, 14, 512)       2359808   \n",
            "_________________________________________________________________\n",
            "block5_conv3 (Conv2D)        (None, 14, 14, 512)       2359808   \n",
            "_________________________________________________________________\n",
            "block5_pool (MaxPooling2D)   (None, 7, 7, 512)         0         \n",
            "_________________________________________________________________\n",
            "flatten (Flatten)            (None, 25088)             0         \n",
            "_________________________________________________________________\n",
            "fc1 (Dense)                  (None, 4096)              102764544 \n",
            "_________________________________________________________________\n",
            "fc2 (Dense)                  (None, 4096)              16781312  \n",
            "_________________________________________________________________\n",
            "predictions (Dense)          (None, 1000)              4097000   \n",
            "=================================================================\n",
            "Total params: 138,357,544\n",
            "Trainable params: 138,357,544\n",
            "Non-trainable params: 0\n",
            "_________________________________________________________________\n"
          ],
          "name": "stdout"
        }
      ]
    },
    {
      "cell_type": "code",
      "metadata": {
        "colab": {
          "base_uri": "https://localhost:8080/"
        },
        "id": "Oaltd0lWnefB",
        "outputId": "1b367b2d-7071-4832-96b3-413a8b74112a"
      },
      "source": [
        "from google.colab import drive\n",
        "drive.mount('/gdrive', force_remount=True)"
      ],
      "execution_count": 26,
      "outputs": [
        {
          "output_type": "stream",
          "text": [
            "Mounted at /gdrive\n"
          ],
          "name": "stdout"
        }
      ]
    },
    {
      "cell_type": "code",
      "metadata": {
        "colab": {
          "base_uri": "https://localhost:8080/"
        },
        "id": "C0heTYEVkycC",
        "outputId": "cc125f3e-e0f2-41bb-8a41-b515430a38ce"
      },
      "source": [
        "# 이미지 불러오기 \n",
        "image = cv2.imread(\"/gdrive/My Drive/Colab Notebooks/dog.jpg\")\n",
        "\n",
        "# 이미지 전처리(자료형 변경)\n",
        "image = img_to_array(image)\n",
        "image = image.reshape((1, image.shape[0],image.shape[1],image.shape[2]))\n",
        "\n",
        "# 모델에 넣어준다.\n",
        "image = preprocess_input(image)  \n",
        "print(image.shape)\n"
      ],
      "execution_count": 55,
      "outputs": [
        {
          "output_type": "stream",
          "text": [
            "(1, 224, 224, 3)\n"
          ],
          "name": "stdout"
        }
      ]
    },
    {
      "cell_type": "code",
      "metadata": {
        "colab": {
          "base_uri": "https://localhost:8080/"
        },
        "id": "QqN4qYWGpDTI",
        "outputId": "5dd943f4-caf3-406d-caf6-59a3eefe0190"
      },
      "source": [
        "# 예측(predict)\n",
        "res = model.predict(image)\n",
        "# 디코딩\n",
        "label = decode_predictions(res)\n",
        "print(label)\n",
        "label = label[0][0]\n",
        "\n",
        "# 출력\n",
        "print()\n",
        "print(\"%s (%.2f%%)\" % (label[1], label[2]*100))\n",
        "print()\n",
        "for i in label:\n",
        "  print(i)\n"
      ],
      "execution_count": 56,
      "outputs": [
        {
          "output_type": "stream",
          "text": [
            "[[('n02112018', 'Pomeranian', 0.4872106), ('n02085620', 'Chihuahua', 0.20540786), ('n02086079', 'Pekinese', 0.05818518), ('n02113624', 'toy_poodle', 0.03475231), ('n02111889', 'Samoyed', 0.03151224)]]\n",
            "\n",
            "Pomeranian (48.72%)\n",
            "\n",
            "n02112018\n",
            "Pomeranian\n",
            "0.4872106\n"
          ],
          "name": "stdout"
        }
      ]
    }
  ]
}