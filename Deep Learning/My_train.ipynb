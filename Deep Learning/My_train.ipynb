{
 "cells": [
  {
   "cell_type": "code",
   "execution_count": 1,
   "metadata": {},
   "outputs": [],
   "source": [
    "import numpy as np\n",
    "import matplotlib\n",
    "import matplotlib.pyplot as plt\n",
    "import tensorflow as tf\n",
    "import tensorflow.keras as keras\n",
    "import extra_keras_datasets.emnist as emnist\n",
    "from tensorflow.keras.layers import Flatten, Dense\n",
    "from tensorflow.keras.layers import Conv2D, MaxPooling2D\n",
    "from tensorflow.keras.layers import BatchNormalization, Dropout\n",
    "#!pip install extra_keras_datasets"
   ]
  },
  {
   "cell_type": "code",
   "execution_count": 2,
   "metadata": {},
   "outputs": [
    {
     "name": "stderr",
     "output_type": "stream",
     "text": [
      "INFO:root:Loading dataset = emnist\n"
     ]
    },
    {
     "name": "stdout",
     "output_type": "stream",
     "text": [
      "numpy               : 1.19.2\n",
      "matplotlib          : 3.3.2\n",
      "tensorflow          : 2.4.1\n",
      "tensorflow.keras    : 2.4.0\n",
      "Downloading data from http://www.itl.nist.gov/iaui/vip/cs_links/EMNIST/matlab.zip\n",
      "743907328/743900280 [==============================] - 466s 1us/step\n"
     ]
    },
    {
     "name": "stderr",
     "output_type": "stream",
     "text": [
      "WARNING:root:Please cite the following paper when using or referencing this Extra Keras Dataset:\n",
      "WARNING:root:Cohen, G., Afshar, S., Tapson, J., & van Schaik, A. (2017). EMNIST: an extension of MNIST to handwritten letters. Retrieved from http://arxiv.org/abs/1702.05373\n"
     ]
    },
    {
     "name": "stdout",
     "output_type": "stream",
     "text": [
      "t_images    : uint8, (124800, 28, 28)\n",
      "t_labels    : uint8, (124800,)\n",
      "v_images    : uint8, (20800, 28, 28)\n",
      "v_labels    : uint8, (20800,)\n"
     ]
    },
    {
     "data": {
      "image/png": "[encoded data removed]",
      "text/plain": [
       "<Figure size 432x288 with 2 Axes>"
      ]
     },
     "metadata": {
      "needs_background": "light"
     },
     "output_type": "display_data"
    }
   ],
   "source": [
    "def show_version(pkg):\n",
    "    print(\"{0:20}: {1}\".format(pkg.__name__, pkg.__version__))\n",
    "show_version(np)\n",
    "show_version(matplotlib)\n",
    "show_version(tf)\n",
    "show_version(keras)\n",
    "\n",
    "#Step:1-3\n",
    "# EMNIST-Letters  : https://www.nist.gov/itl/products-and-services/emnist-dataset\n",
    "(t_images, t_labels), (v_images, v_labels) = emnist.load_data(type=\"letters\")\n",
    "\n",
    "def show_data_info(label, data):\n",
    "    print(\"{:12}: {}, {}\".format(label, data.dtype, data.shape))\n",
    "    \n",
    "def compatible_image(img):\n",
    "    if img.ndim == 3 and img.shape[2] == 1:\n",
    "        img = img.reshape(img.shape[0], img.shape[1])\n",
    "    return img\n",
    "\n",
    "def show_image(img):\n",
    "    plt.rcParams[\"font.size\"] = 10\n",
    "    plt.figure()\n",
    "    plt.imshow(compatible_image(img))\n",
    "    plt.colorbar()\n",
    "    plt.grid(False)\n",
    "    plt.show()\n",
    "    \n",
    "# Step: 1-4\n",
    "# 28*28 픽셀 이미지 데이터 훈련 데이터 124800, 평가데이터 20800\n",
    "# 27의 분류, 0~26 정답레이블 1=A, 2=B,,,, 26=Z\n",
    "show_data_info(\"t_images\", t_images) # 3차원 데이터\n",
    "show_data_info(\"t_labels\", t_labels)\n",
    "show_data_info(\"v_images\", v_images)\n",
    "show_data_info(\"v_labels\", v_labels)\n",
    "show_image(t_images[0])"
   ]
  },
  {
   "cell_type": "code",
   "execution_count": 3,
   "metadata": {},
   "outputs": [
    {
     "name": "stdout",
     "output_type": "stream",
     "text": [
      "t_images    : float32, (124800, 28, 28, 1)\n",
      "v_images    : float32, (20800, 28, 28, 1)\n"
     ]
    },
    {
     "data": {
      "image/png": "[encoded data removed]",
      "text/plain": [
       "<Figure size 432x288 with 2 Axes>"
      ]
     },
     "metadata": {
      "needs_background": "light"
     },
     "output_type": "display_data"
    }
   ],
   "source": [
    "# step 1-5\n",
    "# 1. 이미지가 3차원(124800, 28, 28), CNN에서는 4차원으로 변환 필요\n",
    "# -> (124800, 28, 28, 1) -> 회색으로 사용하겠다\n",
    "\n",
    "def adjust_image(img):\n",
    "    img = img.astype('float32')\n",
    "    img = img/255.0\n",
    "    img = img.reshape(-1, 28, 28, 1) #3D -> 4D\n",
    "    return img\n",
    "\n",
    "t_images = adjust_image(t_images)\n",
    "v_images = adjust_image(v_images)\n",
    "\n",
    "show_data_info(\"t_images\", t_images) \n",
    "show_data_info(\"v_images\", v_images)\n",
    "show_image(t_images[0])\n",
    "\n",
    "    "
   ]
  },
  {
   "cell_type": "code",
   "execution_count": 7,
   "metadata": {},
   "outputs": [
    {
     "name": "stdout",
     "output_type": "stream",
     "text": [
      "Model: \"sequential_3\"\n",
      "_________________________________________________________________\n",
      "Layer (type)                 Output Shape              Param #   \n",
      "=================================================================\n",
      "conv2d_16 (Conv2D)           (None, 26, 26, 32)        320       \n",
      "_________________________________________________________________\n",
      "conv2d_17 (Conv2D)           (None, 24, 24, 32)        9248      \n",
      "_________________________________________________________________\n",
      "conv2d_18 (Conv2D)           (None, 22, 22, 32)        9248      \n",
      "_________________________________________________________________\n",
      "max_pooling2d_8 (MaxPooling2 (None, 11, 11, 32)        0         \n",
      "_________________________________________________________________\n",
      "dropout_6 (Dropout)          (None, 11, 11, 32)        0         \n",
      "_________________________________________________________________\n",
      "conv2d_19 (Conv2D)           (None, 9, 9, 64)          18496     \n",
      "_________________________________________________________________\n",
      "conv2d_20 (Conv2D)           (None, 7, 7, 64)          36928     \n",
      "_________________________________________________________________\n",
      "conv2d_21 (Conv2D)           (None, 5, 5, 64)          36928     \n",
      "_________________________________________________________________\n",
      "max_pooling2d_9 (MaxPooling2 (None, 2, 2, 64)          0         \n",
      "_________________________________________________________________\n",
      "dropout_7 (Dropout)          (None, 2, 2, 64)          0         \n",
      "_________________________________________________________________\n",
      "flatten_3 (Flatten)          (None, 256)               0         \n",
      "_________________________________________________________________\n",
      "dense_6 (Dense)              (None, 128)               32896     \n",
      "_________________________________________________________________\n",
      "dropout_8 (Dropout)          (None, 128)               0         \n",
      "_________________________________________________________________\n",
      "dense_7 (Dense)              (None, 27)                3483      \n",
      "=================================================================\n",
      "Total params: 147,547\n",
      "Trainable params: 147,547\n",
      "Non-trainable params: 0\n",
      "_________________________________________________________________\n"
     ]
    }
   ],
   "source": [
    "# step 1-6 모델 정의\n",
    "# 순차 모델 Conv2D 3개 -> MaxPooling2D() -> Dropout ->> Flatten ->\n",
    "\n",
    "# 모델 생성\n",
    "from keras import layers\n",
    "from keras import models\n",
    "from keras import optimizers\n",
    "\n",
    "model = models.Sequential()\n",
    "\n",
    "model.add(layers.Conv2D(32, (3,3), activation='relu', input_shape=(28,28,1)))\n",
    "model.add(layers.Conv2D(32, (3,3), activation='relu'))\n",
    "model.add(layers.Conv2D(32, (3,3), activation='relu'))\n",
    "model.add(layers.MaxPooling2D((2,2)))\n",
    "model.add((layers.Dropout(0.4)))\n",
    "\n",
    "model.add(layers.Conv2D(64, (3,3), activation='relu'))\n",
    "model.add(layers.Conv2D(64, (3,3), activation='relu'))\n",
    "model.add(layers.Conv2D(64, (3,3), activation='relu'))\n",
    "model.add(layers.MaxPooling2D((2,2)))\n",
    "model.add((layers.Dropout(0.4)))\n",
    "\n",
    "# 1차원으로 생성\n",
    "model.add(layers.Flatten())\n",
    "\n",
    "model.add(layers.Dense(128, activation='relu'))\n",
    "model.add((layers.Dropout(0.4)))\n",
    "model.add(layers.Dense(27, activation='softmax'))\n",
    "\n",
    "# step 1-7\n",
    "opt = keras.optimizers.Adam()\n",
    "loss = keras.losses.SparseCategoricalCrossentropy()\n",
    "model.compile(optimizer=opt, loss=loss, metrics=['accuracy'])\n",
    "\n",
    "# 모델정보 확인\n",
    "model.summary()\n",
    "\n"
   ]
  },
  {
   "cell_type": "code",
   "execution_count": 9,
   "metadata": {},
   "outputs": [
    {
     "name": "stdout",
     "output_type": "stream",
     "text": [
      "Epoch 1/20\n",
      "975/975 - 180s - loss: 1.0546 - accuracy: 0.6752 - val_loss: 0.3168 - val_accuracy: 0.8953\n",
      "Epoch 2/20\n",
      "975/975 - 185s - loss: 0.4412 - accuracy: 0.8602 - val_loss: 0.2452 - val_accuracy: 0.9184\n",
      "Epoch 3/20\n",
      "975/975 - 188s - loss: 0.3549 - accuracy: 0.8886 - val_loss: 0.2141 - val_accuracy: 0.9283\n",
      "Epoch 4/20\n",
      "975/975 - 190s - loss: 0.3109 - accuracy: 0.9005 - val_loss: 0.2027 - val_accuracy: 0.9323\n",
      "Epoch 5/20\n",
      "975/975 - 189s - loss: 0.2847 - accuracy: 0.9085 - val_loss: 0.1934 - val_accuracy: 0.9369\n",
      "Epoch 6/20\n",
      "975/975 - 190s - loss: 0.2671 - accuracy: 0.9150 - val_loss: 0.1931 - val_accuracy: 0.9357\n",
      "Epoch 7/20\n",
      "975/975 - 191s - loss: 0.2541 - accuracy: 0.9182 - val_loss: 0.1843 - val_accuracy: 0.9375\n",
      "Epoch 8/20\n",
      "975/975 - 187s - loss: 0.2445 - accuracy: 0.9207 - val_loss: 0.1777 - val_accuracy: 0.9411\n",
      "Epoch 9/20\n",
      "975/975 - 186s - loss: 0.2358 - accuracy: 0.9237 - val_loss: 0.1813 - val_accuracy: 0.9407\n",
      "Epoch 10/20\n",
      "975/975 - 187s - loss: 0.2293 - accuracy: 0.9262 - val_loss: 0.1759 - val_accuracy: 0.9422\n",
      "Epoch 11/20\n",
      "975/975 - 186s - loss: 0.2227 - accuracy: 0.9273 - val_loss: 0.1749 - val_accuracy: 0.9423\n",
      "Epoch 12/20\n",
      "975/975 - 186s - loss: 0.2180 - accuracy: 0.9281 - val_loss: 0.1745 - val_accuracy: 0.9430\n",
      "Epoch 13/20\n",
      "975/975 - 193s - loss: 0.2134 - accuracy: 0.9309 - val_loss: 0.1727 - val_accuracy: 0.9444\n",
      "Epoch 14/20\n",
      "975/975 - 195s - loss: 0.2077 - accuracy: 0.9312 - val_loss: 0.1719 - val_accuracy: 0.9437\n",
      "Epoch 15/20\n",
      "975/975 - 203s - loss: 0.2051 - accuracy: 0.9313 - val_loss: 0.1736 - val_accuracy: 0.9432\n",
      "Epoch 16/20\n",
      "975/975 - 214s - loss: 0.2023 - accuracy: 0.9333 - val_loss: 0.1712 - val_accuracy: 0.9447\n",
      "Epoch 17/20\n",
      "975/975 - 217s - loss: 0.2003 - accuracy: 0.9332 - val_loss: 0.1703 - val_accuracy: 0.9442\n",
      "Epoch 18/20\n",
      "975/975 - 225s - loss: 0.1961 - accuracy: 0.9353 - val_loss: 0.1703 - val_accuracy: 0.9446\n",
      "Epoch 19/20\n",
      "975/975 - 227s - loss: 0.1944 - accuracy: 0.9349 - val_loss: 0.1682 - val_accuracy: 0.9450\n",
      "Epoch 20/20\n",
      "975/975 - 222s - loss: 0.1923 - accuracy: 0.9361 - val_loss: 0.1670 - val_accuracy: 0.9459\n"
     ]
    }
   ],
   "source": [
    "# step 1-8\n",
    "history = model.fit(\n",
    "    t_images,\n",
    "    t_labels,\n",
    "    epochs=20,\n",
    "    batch_size=128,\n",
    "    validation_data=(v_images,v_labels), #검증용 데이터 전달\n",
    "    verbose=2\n",
    ")"
   ]
  },
  {
   "cell_type": "code",
   "execution_count": 10,
   "metadata": {},
   "outputs": [
    {
     "data": {
      "image/png": "[encoded data removed]",
      "text/plain": [
       "<Figure size 720x360 with 2 Axes>"
      ]
     },
     "metadata": {
      "needs_background": "light"
     },
     "output_type": "display_data"
    }
   ],
   "source": [
    "# step 1-9\n",
    "# 파란색이 훈련데이터, 빨간색이 검증 데이터\n",
    "\n",
    "def show_history(history):\n",
    "    plt.rcParams['font.size']=10\n",
    "    fig, ax = plt.subplots(1,2, figsize=(10,5))\n",
    "    t_col = '#03F'\n",
    "    v_col = '#F33'\n",
    "    \n",
    "    ax[0].set_title(\"Accuracy\", fontsize=14)\n",
    "    ax[0].plot(history.history[\"accuracy\"], color=t_col, label=\"accuracy\")\n",
    "    ax[0].plot(history.history[\"val_accuracy\"], color=v_col, label=\"val_accuracy\")\n",
    "    ax[1].set_title(\"Loss\", fontsize=14)\n",
    "    ax[1].plot(history.history[\"loss\"], color=t_col, label=\"loss\")\n",
    "    ax[1].plot(history.history[\"val_loss\"], color=v_col, label=\"val_loss\")\n",
    "    x_pos = np.arange(0, len(history.epoch), 2)\n",
    "    for x in ax:\n",
    "        x.set_xticks(x_pos)\n",
    "        x.set_xticklabels(x_pos + 1)\n",
    "        x.grid(True)\n",
    "        x.legend(fontsize=12)\n",
    "    plt.show()\n",
    "    \n",
    "show_history(history)"
   ]
  },
  {
   "cell_type": "code",
   "execution_count": 11,
   "metadata": {},
   "outputs": [],
   "source": [
    "# step 1-10\n",
    "\n",
    "model.save('my-model.h5')\n"
   ]
  }
 ],
 "metadata": {
  "kernelspec": {
   "display_name": "Python 3",
   "language": "python",
   "name": "python3"
  },
  "language_info": {
   "codemirror_mode": {
    "name": "ipython",
    "version": 3
   },
   "file_extension": ".py",
   "mimetype": "text/x-python",
   "name": "python",
   "nbconvert_exporter": "python",
   "pygments_lexer": "ipython3",
   "version": "3.8.5"
  }
 },
 "nbformat": 4,
 "nbformat_minor": 4
}
