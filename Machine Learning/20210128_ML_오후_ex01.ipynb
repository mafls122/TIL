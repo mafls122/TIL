{
 "cells": [
  {
   "cell_type": "code",
   "execution_count": 19,
   "metadata": {},
   "outputs": [
    {
     "data": {
      "text/plain": [
       "0    0\n",
       "1    1\n",
       "2    1\n",
       "3    1\n",
       "4    0\n",
       "Name: survived, dtype: int64"
      ]
     },
     "execution_count": 19,
     "metadata": {},
     "output_type": "execute_result"
    }
   ],
   "source": [
    "# 1단계\n",
    "from sklearn.metrics import *\n",
    "import matplotlib.pyplot as plt\n",
    "import numpy as np\n",
    "import pandas as pd\n",
    "import seaborn as sns\n",
    "\n",
    "# 1. 데이터 로드\n",
    "df = sns.load_dataset('titanic')\n",
    "\n",
    "# 2. 5개의 내용 확인\n",
    "df.head()\n",
    "\n",
    "# 3. 결손값 유무 확인\n",
    "df.isnull().sum()\n",
    "\n",
    "# 4. deck 변수 결손치열, alive(중복 데이터)를 제외하자\n",
    "drop_list = [\"deck\",\"alive\"]\n",
    "df = df.drop(drop_list, axis=1)\n",
    "\n",
    "# 5. 결손치가 있는 행을 삭제해서 표시\n",
    "df = df.dropna()\n",
    "df.isnull().sum()\n",
    "\n",
    "# 6. 데이터 분할 survived (대상) : 특징이 되는 데이터(Feature Selection) : X\n",
    "X = df.drop(\"survived\", axis =1)\n",
    "Y = df[\"survived\"]\n",
    "\n",
    "# 7. X 데이터의 더미화 확인\n",
    "X = pd.get_dummies(X)  # 가상 변수를 만들어 범주안에 0 또는 1의 값 지정\n",
    "X.head()\n",
    "Y.head()"
   ]
  },
  {
   "cell_type": "code",
   "execution_count": 21,
   "metadata": {},
   "outputs": [
    {
     "name": "stdout",
     "output_type": "stream",
     "text": [
      "(712, 21)\n",
      "(356, 21)\n",
      "(356, 21)\n",
      "(712,)\n",
      "(356,)\n",
      "(356,)\n"
     ]
    }
   ],
   "source": [
    "# 2단계 분류 학습 시작\n",
    "from sklearn.model_selection import train_test_split\n",
    "\n",
    "X_train, X_test, Y_train, Y_test = train_test_split(X,Y, test_size=0.5, random_state=0)\n",
    "\n",
    "# 데이터의 크기 확인\n",
    "print(X.shape)\n",
    "print(X_train.shape)\n",
    "print(X_test.shape)\n",
    "print(Y.shape)\n",
    "print(Y_train.shape)\n",
    "print(Y_test.shape)"
   ]
  },
  {
   "cell_type": "code",
   "execution_count": 26,
   "metadata": {},
   "outputs": [
    {
     "name": "stdout",
     "output_type": "stream",
     "text": [
      "[1 0 1 0 0 0 1 0 0 1 1 1 1 0 0 1 0 1 0 0 0 1 1 1 0 0 0 0 0 1 0 0 0 1 1 1 1\n",
      " 0 0 1 0 0 0 0 0 0 1 0 0 1 1 1 1 0 1 1 0 0 1 0 0 0 0 1 0 0 1 0 1 1 0 1 1 0\n",
      " 0 0 1 0 0 0 0 1 0 1 1 0 0 0 1 0 0 0 0 1 1 0 1 1 0 0 0 1 0 0 0 0 0 0 0 0 0\n",
      " 1 1 1 0 0 0 0 0 0 0 0 0 1 0 0 0 0 1 1 0 1 1 1 1 1 1 0 0 0 1 0 1 1 1 0 0 0\n",
      " 0 0 0 0 1 1 1 0 0 1 1 1 1 0 1 0 0 0 0 0 0 0 1 1 1 0 1 1 1 0 0 0 0 0 0 0 0\n",
      " 1 0 0 0 1 0 1 1 0 1 1 0 0 1 1 0 1 0 1 0 0 0 0 0 0 1 0 1 0 0 0 1 1 0 1 1 0\n",
      " 0 1 0 0 0 0 0 0 0 0 0 0 0 1 1 0 0 1 1 0 0 0 0 0 1 0 0 0 1 0 0 1 0 1 0 0 1\n",
      " 1 1 1 1 0 1 1 1 0 0 1 0 1 1 0 1 0 0 0 0 0 0 1 1 1 1 0 0 0 0 0 0 0 0 1 1 0\n",
      " 0 1 0 1 0 0 0 0 0 1 0 1 0 0 0 1 0 0 0 0 0 0 0 0 0 0 1 1 0 1 1 1 0 0 0 0 0\n",
      " 0 1 0 0 1 1 1 1 0 1 0 0 1 1 0 1 0 1 0 1 1 0 0]\n"
     ]
    }
   ],
   "source": [
    "# 3단계 로지스틱 회귀 모델의 인스턴스를 만들고 훈련데이터로 학습을 시키자\n",
    "# 1000번 반복해서 학습 sklearn.linear_model.LogistricRegression\n",
    "from sklearn.linear_model import LogisticRegression\n",
    "\n",
    "ir = LogisticRegression(max_iter=1000, random_state=0) # 1000번을 반복해서 판정을 한다.\n",
    "ir.fit(X_train, Y_train) #학습을 한다\n",
    "\n",
    "# 4단계 학습 데이터 판정 결과를 test 데이터로 확인하자\n",
    "y_pred = ir.predict(X_test)\n",
    "print(y_pred)\n"
   ]
  },
  {
   "cell_type": "code",
   "execution_count": 33,
   "metadata": {},
   "outputs": [
    {
     "name": "stdout",
     "output_type": "stream",
     "text": [
      "confusion_matrix :  [[179  31]\n",
      " [ 40 106]]\n",
      "accuracy :  0.800561797752809\n",
      "precision :  0.7737226277372263\n",
      "recall :  0.726027397260274\n",
      "f1 score :  0.7491166077738517\n"
     ]
    }
   ],
   "source": [
    "# 5단계 지표를 산출하자 \n",
    "#  -> 4단계에서 구현한 예측치 y_pred와 test데이터의 실제 값을 사용해서 평가 지표를 구현할 수 있다.\n",
    "# Kaggle의 titanic 데이터를 이용해서 생존 여부를 나타내는 survived 값을 예측하기 위한 \n",
    "# Logistic 회귀 모델을 구현하자\n",
    "from sklearn.metrics import *\n",
    "\n",
    "print('confusion_matrix : ', confusion_matrix(Y_test, y_pred))\n",
    "print('accuracy : ', accuracy_score(Y_test, y_pred))\n",
    "print('precision : ', precision_score(Y_test, y_pred))\n",
    "print('recall : ', recall_score(Y_test, y_pred))\n",
    "print('f1 score : ', f1_score(Y_test, y_pred))"
   ]
  },
  {
   "cell_type": "code",
   "execution_count": 35,
   "metadata": {},
   "outputs": [
    {
     "name": "stdout",
     "output_type": "stream",
     "text": [
      "[[0.48061197 0.51938803]\n",
      " [0.80028107 0.19971893]\n",
      " [0.02380526 0.97619474]\n",
      " [0.85349269 0.14650731]\n",
      " [0.94115893 0.05884107]]\n"
     ]
    }
   ],
   "source": [
    "# 번외1. Log loss 기법 : 확률을 입력으로 분류하는 기법의 성능 평가\n",
    "# 먼저 모델에서 Y가 0인 확률을 예측해서 확인\n",
    "# 로지스틱 회귀모델에서 대상을 0과 1로 분류되는 확률을 각각 출력 하고 싶을 경우 predict_proba()\n",
    "\n",
    "# 모델에서 Y가 0인 확률을 예측해서 확인\n",
    "probs = ir.predict_proba(X_test)\n",
    "print(probs[:5])"
   ]
  },
  {
   "cell_type": "markdown",
   "metadata": {},
   "source": [
    "ROC 곡선과 PR 곡선은 데이터가 Positive일 확률 모델에서 예측하여 positive일 경우가 높다고 예측하고 순서대로 정렬한다.\n",
    "예측한 확률에서 positive일 경우의 판정기준(임계값)을 깃점으로 FPR, TPR이 어떻게 변화하는지를 확인하는 것이 ROC 곡선 적합율(precision)와 재현율(recall, TPR)의 변화를 나타낸 것이 PR곡선이다."
   ]
  },
  {
   "cell_type": "code",
   "execution_count": 40,
   "metadata": {},
   "outputs": [
    {
     "data": {
      "text/html": [
       "<div>\n",
       "<style scoped>\n",
       "    .dataframe tbody tr th:only-of-type {\n",
       "        vertical-align: middle;\n",
       "    }\n",
       "\n",
       "    .dataframe tbody tr th {\n",
       "        vertical-align: top;\n",
       "    }\n",
       "\n",
       "    .dataframe thead th {\n",
       "        text-align: right;\n",
       "    }\n",
       "</style>\n",
       "<table border=\"1\" class=\"dataframe\">\n",
       "  <thead>\n",
       "    <tr style=\"text-align: right;\">\n",
       "      <th></th>\n",
       "      <th>0</th>\n",
       "      <th>1</th>\n",
       "      <th>2</th>\n",
       "    </tr>\n",
       "  </thead>\n",
       "  <tbody>\n",
       "    <tr>\n",
       "      <th>0</th>\n",
       "      <td>0.000000</td>\n",
       "      <td>0.000000</td>\n",
       "      <td>1.994756</td>\n",
       "    </tr>\n",
       "    <tr>\n",
       "      <th>1</th>\n",
       "      <td>0.000000</td>\n",
       "      <td>0.006849</td>\n",
       "      <td>0.994756</td>\n",
       "    </tr>\n",
       "    <tr>\n",
       "      <th>2</th>\n",
       "      <td>0.000000</td>\n",
       "      <td>0.027397</td>\n",
       "      <td>0.983053</td>\n",
       "    </tr>\n",
       "    <tr>\n",
       "      <th>3</th>\n",
       "      <td>0.004762</td>\n",
       "      <td>0.027397</td>\n",
       "      <td>0.982462</td>\n",
       "    </tr>\n",
       "    <tr>\n",
       "      <th>4</th>\n",
       "      <td>0.004762</td>\n",
       "      <td>0.136986</td>\n",
       "      <td>0.956457</td>\n",
       "    </tr>\n",
       "    <tr>\n",
       "      <th>...</th>\n",
       "      <td>...</td>\n",
       "      <td>...</td>\n",
       "      <td>...</td>\n",
       "    </tr>\n",
       "    <tr>\n",
       "      <th>100</th>\n",
       "      <td>0.871429</td>\n",
       "      <td>0.986301</td>\n",
       "      <td>0.062995</td>\n",
       "    </tr>\n",
       "    <tr>\n",
       "      <th>101</th>\n",
       "      <td>0.871429</td>\n",
       "      <td>0.993151</td>\n",
       "      <td>0.062939</td>\n",
       "    </tr>\n",
       "    <tr>\n",
       "      <th>102</th>\n",
       "      <td>0.914286</td>\n",
       "      <td>0.993151</td>\n",
       "      <td>0.054308</td>\n",
       "    </tr>\n",
       "    <tr>\n",
       "      <th>103</th>\n",
       "      <td>0.914286</td>\n",
       "      <td>1.000000</td>\n",
       "      <td>0.054110</td>\n",
       "    </tr>\n",
       "    <tr>\n",
       "      <th>104</th>\n",
       "      <td>1.000000</td>\n",
       "      <td>1.000000</td>\n",
       "      <td>0.008209</td>\n",
       "    </tr>\n",
       "  </tbody>\n",
       "</table>\n",
       "<p>105 rows × 3 columns</p>\n",
       "</div>"
      ],
      "text/plain": [
       "            0         1         2\n",
       "0    0.000000  0.000000  1.994756\n",
       "1    0.000000  0.006849  0.994756\n",
       "2    0.000000  0.027397  0.983053\n",
       "3    0.004762  0.027397  0.982462\n",
       "4    0.004762  0.136986  0.956457\n",
       "..        ...       ...       ...\n",
       "100  0.871429  0.986301  0.062995\n",
       "101  0.871429  0.993151  0.062939\n",
       "102  0.914286  0.993151  0.054308\n",
       "103  0.914286  1.000000  0.054110\n",
       "104  1.000000  1.000000  0.008209\n",
       "\n",
       "[105 rows x 3 columns]"
      ]
     },
     "execution_count": 40,
     "metadata": {},
     "output_type": "execute_result"
    }
   ],
   "source": [
    "# 번외2. ROC 곡선, PR 곡선, 각각의 AUC 산출\n",
    "from sklearn.metrics import *\n",
    "\n",
    "#테스트 데이터가 클래스 1에 속하는 확률을 예측하고 그 확률에서 FPR, TPR, 임계값을 계산해보자\n",
    "Y_score = ir.predict_proba(X_test)[:,1]\n",
    "fpr, tpr, thresholds = roc_curve(Y_test, Y_score)\n",
    "\n",
    "#값을 테이블로 확인\n",
    "df = pd.DataFrame([ fpr,tpr,thresholds ])\n",
    "df.T"
   ]
  },
  {
   "cell_type": "code",
   "execution_count": 43,
   "metadata": {},
   "outputs": [
    {
     "data": {
      "image/png": "[encoded data removed]",
      "text/plain": [
       "<Figure size 432x288 with 1 Axes>"
      ]
     },
     "metadata": {
      "needs_background": "light"
     },
     "output_type": "display_data"
    }
   ],
   "source": [
    "# 번외3. plot 해보자\n",
    "plt.plot(fpr,tpr, label='roc curve (AUC =%.3f)' %auc(fpr,tpr))\n",
    "plt.plot([0,0,1],[0,1,1], linestyle='--', label = 'ideal line')\n",
    "plt.plot([0,1],[0,1], linestyle='--', label = 'random prediction')\n",
    "plt.legend()\n",
    "plt.xlabel('FPR : False positive rate')\n",
    "plt.ylabel('TPR : True positive rate')\n",
    "plt.show()"
   ]
  },
  {
   "cell_type": "code",
   "execution_count": 46,
   "metadata": {},
   "outputs": [
    {
     "data": {
      "image/png": "[encoded data removed]",
      "text/plain": [
       "<Figure size 432x288 with 1 Axes>"
      ]
     },
     "metadata": {
      "needs_background": "light"
     },
     "output_type": "display_data"
    }
   ],
   "source": [
    "# 번외4. PR 곡선\n",
    "\n",
    "probas_pred = ir.predict_proba(X_test)[:,1]\n",
    "precision, recall, thresholds = precision_recall_curve(Y_test, probas_pred)\n",
    "\n",
    "plt.plot(recall,precision, label='precision recall curve(AUC =%.3f)' %auc(recall, precision))\n",
    "plt.plot([0,1],[0,1], linestyle='--', label = 'ideal line')\n",
    "plt.legend()\n",
    "plt.xlabel('recall')\n",
    "plt.ylabel('precision')\n",
    "plt.show()"
   ]
  }
 ],
 "metadata": {
  "kernelspec": {
   "display_name": "Python 3",
   "language": "python",
   "name": "python3"
  },
  "language_info": {
   "codemirror_mode": {
    "name": "ipython",
    "version": 3
   },
   "file_extension": ".py",
   "mimetype": "text/x-python",
   "name": "python",
   "nbconvert_exporter": "python",
   "pygments_lexer": "ipython3",
   "version": "3.8.5"
  }
 },
 "nbformat": 4,
 "nbformat_minor": 4
}
