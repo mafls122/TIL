{
  "nbformat": 4,
  "nbformat_minor": 0,
  "metadata": {
    "colab": {
      "name": "20210526_ML.ipynb",
      "provenance": [],
      "collapsed_sections": []
    },
    "kernelspec": {
      "name": "python3",
      "display_name": "Python 3"
    },
    "language_info": {
      "name": "python"
    },
    "accelerator": "GPU",
    "widgets": {
      "application/vnd.jupyter.widget-state+json": {
        "5c258375bccf4242800bb26eb471ca8d": {
          "model_module": "@jupyter-widgets/controls",
          "model_name": "HBoxModel",
          "state": {
            "_view_name": "HBoxView",
            "_dom_classes": [],
            "_model_name": "HBoxModel",
            "_view_module": "@jupyter-widgets/controls",
            "_model_module_version": "1.5.0",
            "_view_count": null,
            "_view_module_version": "1.5.0",
            "box_style": "",
            "layout": "IPY_MODEL_cae7f092b0b744feb10cd24be66f79ed",
            "_model_module": "@jupyter-widgets/controls",
            "children": [
              "IPY_MODEL_1249e2bdb3804fc08d54c9438a5fe0c9",
              "IPY_MODEL_bfb0ced5c5dd4278906ebf05a0d19f6d"
            ]
          }
        },
        "cae7f092b0b744feb10cd24be66f79ed": {
          "model_module": "@jupyter-widgets/base",
          "model_name": "LayoutModel",
          "state": {
            "_view_name": "LayoutView",
            "grid_template_rows": null,
            "right": null,
            "justify_content": null,
            "_view_module": "@jupyter-widgets/base",
            "overflow": null,
            "_model_module_version": "1.2.0",
            "_view_count": null,
            "flex_flow": null,
            "width": null,
            "min_width": null,
            "border": null,
            "align_items": null,
            "bottom": null,
            "_model_module": "@jupyter-widgets/base",
            "top": null,
            "grid_column": null,
            "overflow_y": null,
            "overflow_x": null,
            "grid_auto_flow": null,
            "grid_area": null,
            "grid_template_columns": null,
            "flex": null,
            "_model_name": "LayoutModel",
            "justify_items": null,
            "grid_row": null,
            "max_height": null,
            "align_content": null,
            "visibility": null,
            "align_self": null,
            "height": null,
            "min_height": null,
            "padding": null,
            "grid_auto_rows": null,
            "grid_gap": null,
            "max_width": null,
            "order": null,
            "_view_module_version": "1.2.0",
            "grid_template_areas": null,
            "object_position": null,
            "object_fit": null,
            "grid_auto_columns": null,
            "margin": null,
            "display": null,
            "left": null
          }
        },
        "1249e2bdb3804fc08d54c9438a5fe0c9": {
          "model_module": "@jupyter-widgets/controls",
          "model_name": "FloatProgressModel",
          "state": {
            "_view_name": "ProgressView",
            "style": "IPY_MODEL_96b0f8801efa42a5bc6908af26c8a8c5",
            "_dom_classes": [],
            "description": "Dl Completed...: 100%",
            "_model_name": "FloatProgressModel",
            "bar_style": "success",
            "max": 1,
            "_view_module": "@jupyter-widgets/controls",
            "_model_module_version": "1.5.0",
            "value": 1,
            "_view_count": null,
            "_view_module_version": "1.5.0",
            "orientation": "horizontal",
            "min": 0,
            "description_tooltip": null,
            "_model_module": "@jupyter-widgets/controls",
            "layout": "IPY_MODEL_3c77006adc1148ceb837db6f0719f141"
          }
        },
        "bfb0ced5c5dd4278906ebf05a0d19f6d": {
          "model_module": "@jupyter-widgets/controls",
          "model_name": "HTMLModel",
          "state": {
            "_view_name": "HTMLView",
            "style": "IPY_MODEL_9fa08111fabf427cbe4d6a612f6adc69",
            "_dom_classes": [],
            "description": "",
            "_model_name": "HTMLModel",
            "placeholder": "​",
            "_view_module": "@jupyter-widgets/controls",
            "_model_module_version": "1.5.0",
            "value": " 1/1 [00:00&lt;00:00,  1.14 url/s]",
            "_view_count": null,
            "_view_module_version": "1.5.0",
            "description_tooltip": null,
            "_model_module": "@jupyter-widgets/controls",
            "layout": "IPY_MODEL_8d9df595b4314baf85cc1aa3734427c6"
          }
        },
        "96b0f8801efa42a5bc6908af26c8a8c5": {
          "model_module": "@jupyter-widgets/controls",
          "model_name": "ProgressStyleModel",
          "state": {
            "_view_name": "StyleView",
            "_model_name": "ProgressStyleModel",
            "description_width": "initial",
            "_view_module": "@jupyter-widgets/base",
            "_model_module_version": "1.5.0",
            "_view_count": null,
            "_view_module_version": "1.2.0",
            "bar_color": null,
            "_model_module": "@jupyter-widgets/controls"
          }
        },
        "3c77006adc1148ceb837db6f0719f141": {
          "model_module": "@jupyter-widgets/base",
          "model_name": "LayoutModel",
          "state": {
            "_view_name": "LayoutView",
            "grid_template_rows": null,
            "right": null,
            "justify_content": null,
            "_view_module": "@jupyter-widgets/base",
            "overflow": null,
            "_model_module_version": "1.2.0",
            "_view_count": null,
            "flex_flow": null,
            "width": null,
            "min_width": null,
            "border": null,
            "align_items": null,
            "bottom": null,
            "_model_module": "@jupyter-widgets/base",
            "top": null,
            "grid_column": null,
            "overflow_y": null,
            "overflow_x": null,
            "grid_auto_flow": null,
            "grid_area": null,
            "grid_template_columns": null,
            "flex": null,
            "_model_name": "LayoutModel",
            "justify_items": null,
            "grid_row": null,
            "max_height": null,
            "align_content": null,
            "visibility": null,
            "align_self": null,
            "height": null,
            "min_height": null,
            "padding": null,
            "grid_auto_rows": null,
            "grid_gap": null,
            "max_width": null,
            "order": null,
            "_view_module_version": "1.2.0",
            "grid_template_areas": null,
            "object_position": null,
            "object_fit": null,
            "grid_auto_columns": null,
            "margin": null,
            "display": null,
            "left": null
          }
        },
        "9fa08111fabf427cbe4d6a612f6adc69": {
          "model_module": "@jupyter-widgets/controls",
          "model_name": "DescriptionStyleModel",
          "state": {
            "_view_name": "StyleView",
            "_model_name": "DescriptionStyleModel",
            "description_width": "",
            "_view_module": "@jupyter-widgets/base",
            "_model_module_version": "1.5.0",
            "_view_count": null,
            "_view_module_version": "1.2.0",
            "_model_module": "@jupyter-widgets/controls"
          }
        },
        "8d9df595b4314baf85cc1aa3734427c6": {
          "model_module": "@jupyter-widgets/base",
          "model_name": "LayoutModel",
          "state": {
            "_view_name": "LayoutView",
            "grid_template_rows": null,
            "right": null,
            "justify_content": null,
            "_view_module": "@jupyter-widgets/base",
            "overflow": null,
            "_model_module_version": "1.2.0",
            "_view_count": null,
            "flex_flow": null,
            "width": null,
            "min_width": null,
            "border": null,
            "align_items": null,
            "bottom": null,
            "_model_module": "@jupyter-widgets/base",
            "top": null,
            "grid_column": null,
            "overflow_y": null,
            "overflow_x": null,
            "grid_auto_flow": null,
            "grid_area": null,
            "grid_template_columns": null,
            "flex": null,
            "_model_name": "LayoutModel",
            "justify_items": null,
            "grid_row": null,
            "max_height": null,
            "align_content": null,
            "visibility": null,
            "align_self": null,
            "height": null,
            "min_height": null,
            "padding": null,
            "grid_auto_rows": null,
            "grid_gap": null,
            "max_width": null,
            "order": null,
            "_view_module_version": "1.2.0",
            "grid_template_areas": null,
            "object_position": null,
            "object_fit": null,
            "grid_auto_columns": null,
            "margin": null,
            "display": null,
            "left": null
          }
        },
        "023406ac3b444accb4c7c9b518b24cf2": {
          "model_module": "@jupyter-widgets/controls",
          "model_name": "HBoxModel",
          "state": {
            "_view_name": "HBoxView",
            "_dom_classes": [],
            "_model_name": "HBoxModel",
            "_view_module": "@jupyter-widgets/controls",
            "_model_module_version": "1.5.0",
            "_view_count": null,
            "_view_module_version": "1.5.0",
            "box_style": "",
            "layout": "IPY_MODEL_8f7032bf4dd3483fb239c0e1162c6a20",
            "_model_module": "@jupyter-widgets/controls",
            "children": [
              "IPY_MODEL_a9df0b096c0046cd88587230b6e995c0",
              "IPY_MODEL_481673c5c3c84441ace7b5d4809b72a7"
            ]
          }
        },
        "8f7032bf4dd3483fb239c0e1162c6a20": {
          "model_module": "@jupyter-widgets/base",
          "model_name": "LayoutModel",
          "state": {
            "_view_name": "LayoutView",
            "grid_template_rows": null,
            "right": null,
            "justify_content": null,
            "_view_module": "@jupyter-widgets/base",
            "overflow": null,
            "_model_module_version": "1.2.0",
            "_view_count": null,
            "flex_flow": null,
            "width": null,
            "min_width": null,
            "border": null,
            "align_items": null,
            "bottom": null,
            "_model_module": "@jupyter-widgets/base",
            "top": null,
            "grid_column": null,
            "overflow_y": null,
            "overflow_x": null,
            "grid_auto_flow": null,
            "grid_area": null,
            "grid_template_columns": null,
            "flex": null,
            "_model_name": "LayoutModel",
            "justify_items": null,
            "grid_row": null,
            "max_height": null,
            "align_content": null,
            "visibility": null,
            "align_self": null,
            "height": null,
            "min_height": null,
            "padding": null,
            "grid_auto_rows": null,
            "grid_gap": null,
            "max_width": null,
            "order": null,
            "_view_module_version": "1.2.0",
            "grid_template_areas": null,
            "object_position": null,
            "object_fit": null,
            "grid_auto_columns": null,
            "margin": null,
            "display": null,
            "left": null
          }
        },
        "a9df0b096c0046cd88587230b6e995c0": {
          "model_module": "@jupyter-widgets/controls",
          "model_name": "FloatProgressModel",
          "state": {
            "_view_name": "ProgressView",
            "style": "IPY_MODEL_7fd619128ebb450b913523d578da1b04",
            "_dom_classes": [],
            "description": "Dl Size...: ",
            "_model_name": "FloatProgressModel",
            "bar_style": "success",
            "max": 1,
            "_view_module": "@jupyter-widgets/controls",
            "_model_module_version": "1.5.0",
            "value": 0,
            "_view_count": null,
            "_view_module_version": "1.5.0",
            "orientation": "horizontal",
            "min": 0,
            "description_tooltip": null,
            "_model_module": "@jupyter-widgets/controls",
            "layout": "IPY_MODEL_0e4101b289924586a98f72f07a7687f0"
          }
        },
        "481673c5c3c84441ace7b5d4809b72a7": {
          "model_module": "@jupyter-widgets/controls",
          "model_name": "HTMLModel",
          "state": {
            "_view_name": "HTMLView",
            "style": "IPY_MODEL_5ac3ad99eb6e49d4a02b167c51f7ed76",
            "_dom_classes": [],
            "description": "",
            "_model_name": "HTMLModel",
            "placeholder": "​",
            "_view_module": "@jupyter-widgets/controls",
            "_model_module_version": "1.5.0",
            "value": " 0/0 [00:00&lt;?, ? MiB/s]",
            "_view_count": null,
            "_view_module_version": "1.5.0",
            "description_tooltip": null,
            "_model_module": "@jupyter-widgets/controls",
            "layout": "IPY_MODEL_23a900db620c4f8c9a7b0463b4a23f04"
          }
        },
        "7fd619128ebb450b913523d578da1b04": {
          "model_module": "@jupyter-widgets/controls",
          "model_name": "ProgressStyleModel",
          "state": {
            "_view_name": "StyleView",
            "_model_name": "ProgressStyleModel",
            "description_width": "initial",
            "_view_module": "@jupyter-widgets/base",
            "_model_module_version": "1.5.0",
            "_view_count": null,
            "_view_module_version": "1.2.0",
            "bar_color": null,
            "_model_module": "@jupyter-widgets/controls"
          }
        },
        "0e4101b289924586a98f72f07a7687f0": {
          "model_module": "@jupyter-widgets/base",
          "model_name": "LayoutModel",
          "state": {
            "_view_name": "LayoutView",
            "grid_template_rows": null,
            "right": null,
            "justify_content": null,
            "_view_module": "@jupyter-widgets/base",
            "overflow": null,
            "_model_module_version": "1.2.0",
            "_view_count": null,
            "flex_flow": null,
            "width": null,
            "min_width": null,
            "border": null,
            "align_items": null,
            "bottom": null,
            "_model_module": "@jupyter-widgets/base",
            "top": null,
            "grid_column": null,
            "overflow_y": null,
            "overflow_x": null,
            "grid_auto_flow": null,
            "grid_area": null,
            "grid_template_columns": null,
            "flex": null,
            "_model_name": "LayoutModel",
            "justify_items": null,
            "grid_row": null,
            "max_height": null,
            "align_content": null,
            "visibility": null,
            "align_self": null,
            "height": null,
            "min_height": null,
            "padding": null,
            "grid_auto_rows": null,
            "grid_gap": null,
            "max_width": null,
            "order": null,
            "_view_module_version": "1.2.0",
            "grid_template_areas": null,
            "object_position": null,
            "object_fit": null,
            "grid_auto_columns": null,
            "margin": null,
            "display": null,
            "left": null
          }
        },
        "5ac3ad99eb6e49d4a02b167c51f7ed76": {
          "model_module": "@jupyter-widgets/controls",
          "model_name": "DescriptionStyleModel",
          "state": {
            "_view_name": "StyleView",
            "_model_name": "DescriptionStyleModel",
            "description_width": "",
            "_view_module": "@jupyter-widgets/base",
            "_model_module_version": "1.5.0",
            "_view_count": null,
            "_view_module_version": "1.2.0",
            "_model_module": "@jupyter-widgets/controls"
          }
        },
        "23a900db620c4f8c9a7b0463b4a23f04": {
          "model_module": "@jupyter-widgets/base",
          "model_name": "LayoutModel",
          "state": {
            "_view_name": "LayoutView",
            "grid_template_rows": null,
            "right": null,
            "justify_content": null,
            "_view_module": "@jupyter-widgets/base",
            "overflow": null,
            "_model_module_version": "1.2.0",
            "_view_count": null,
            "flex_flow": null,
            "width": null,
            "min_width": null,
            "border": null,
            "align_items": null,
            "bottom": null,
            "_model_module": "@jupyter-widgets/base",
            "top": null,
            "grid_column": null,
            "overflow_y": null,
            "overflow_x": null,
            "grid_auto_flow": null,
            "grid_area": null,
            "grid_template_columns": null,
            "flex": null,
            "_model_name": "LayoutModel",
            "justify_items": null,
            "grid_row": null,
            "max_height": null,
            "align_content": null,
            "visibility": null,
            "align_self": null,
            "height": null,
            "min_height": null,
            "padding": null,
            "grid_auto_rows": null,
            "grid_gap": null,
            "max_width": null,
            "order": null,
            "_view_module_version": "1.2.0",
            "grid_template_areas": null,
            "object_position": null,
            "object_fit": null,
            "grid_auto_columns": null,
            "margin": null,
            "display": null,
            "left": null
          }
        },
        "93d88a3691cc4d14a3982633ee0d8aeb": {
          "model_module": "@jupyter-widgets/controls",
          "model_name": "HBoxModel",
          "state": {
            "_view_name": "HBoxView",
            "_dom_classes": [],
            "_model_name": "HBoxModel",
            "_view_module": "@jupyter-widgets/controls",
            "_model_module_version": "1.5.0",
            "_view_count": null,
            "_view_module_version": "1.5.0",
            "box_style": "",
            "layout": "IPY_MODEL_90b9ed7f8ebb466f87bcb4b91686cbfc",
            "_model_module": "@jupyter-widgets/controls",
            "children": [
              "IPY_MODEL_03eaef2222b94e2196f5359a965b4aa3",
              "IPY_MODEL_915a072682fd49ee9fa62def3cba12e6"
            ]
          }
        },
        "90b9ed7f8ebb466f87bcb4b91686cbfc": {
          "model_module": "@jupyter-widgets/base",
          "model_name": "LayoutModel",
          "state": {
            "_view_name": "LayoutView",
            "grid_template_rows": null,
            "right": null,
            "justify_content": null,
            "_view_module": "@jupyter-widgets/base",
            "overflow": null,
            "_model_module_version": "1.2.0",
            "_view_count": null,
            "flex_flow": null,
            "width": null,
            "min_width": null,
            "border": null,
            "align_items": null,
            "bottom": null,
            "_model_module": "@jupyter-widgets/base",
            "top": null,
            "grid_column": null,
            "overflow_y": null,
            "overflow_x": null,
            "grid_auto_flow": null,
            "grid_area": null,
            "grid_template_columns": null,
            "flex": null,
            "_model_name": "LayoutModel",
            "justify_items": null,
            "grid_row": null,
            "max_height": null,
            "align_content": null,
            "visibility": null,
            "align_self": null,
            "height": null,
            "min_height": null,
            "padding": null,
            "grid_auto_rows": null,
            "grid_gap": null,
            "max_width": null,
            "order": null,
            "_view_module_version": "1.2.0",
            "grid_template_areas": null,
            "object_position": null,
            "object_fit": null,
            "grid_auto_columns": null,
            "margin": null,
            "display": null,
            "left": null
          }
        },
        "03eaef2222b94e2196f5359a965b4aa3": {
          "model_module": "@jupyter-widgets/controls",
          "model_name": "FloatProgressModel",
          "state": {
            "_view_name": "ProgressView",
            "style": "IPY_MODEL_ba46bd404791425d9814ca9061eb1bd2",
            "_dom_classes": [],
            "description": "",
            "_model_name": "FloatProgressModel",
            "bar_style": "info",
            "max": 1,
            "_view_module": "@jupyter-widgets/controls",
            "_model_module_version": "1.5.0",
            "value": 1,
            "_view_count": null,
            "_view_module_version": "1.5.0",
            "orientation": "horizontal",
            "min": 0,
            "description_tooltip": null,
            "_model_module": "@jupyter-widgets/controls",
            "layout": "IPY_MODEL_974168b6f6134ee8a5e70253a1822712"
          }
        },
        "915a072682fd49ee9fa62def3cba12e6": {
          "model_module": "@jupyter-widgets/controls",
          "model_name": "HTMLModel",
          "state": {
            "_view_name": "HTMLView",
            "style": "IPY_MODEL_ecb1ecc57c674618b4c58d1336d93814",
            "_dom_classes": [],
            "description": "",
            "_model_name": "HTMLModel",
            "placeholder": "​",
            "_view_module": "@jupyter-widgets/controls",
            "_model_module_version": "1.5.0",
            "value": " 150/0 [00:00&lt;00:00, 1017.73 examples/s]",
            "_view_count": null,
            "_view_module_version": "1.5.0",
            "description_tooltip": null,
            "_model_module": "@jupyter-widgets/controls",
            "layout": "IPY_MODEL_9938009aacbf418fb1ffbb86bb091d25"
          }
        },
        "ba46bd404791425d9814ca9061eb1bd2": {
          "model_module": "@jupyter-widgets/controls",
          "model_name": "ProgressStyleModel",
          "state": {
            "_view_name": "StyleView",
            "_model_name": "ProgressStyleModel",
            "description_width": "initial",
            "_view_module": "@jupyter-widgets/base",
            "_model_module_version": "1.5.0",
            "_view_count": null,
            "_view_module_version": "1.2.0",
            "bar_color": null,
            "_model_module": "@jupyter-widgets/controls"
          }
        },
        "974168b6f6134ee8a5e70253a1822712": {
          "model_module": "@jupyter-widgets/base",
          "model_name": "LayoutModel",
          "state": {
            "_view_name": "LayoutView",
            "grid_template_rows": null,
            "right": null,
            "justify_content": null,
            "_view_module": "@jupyter-widgets/base",
            "overflow": null,
            "_model_module_version": "1.2.0",
            "_view_count": null,
            "flex_flow": null,
            "width": null,
            "min_width": null,
            "border": null,
            "align_items": null,
            "bottom": null,
            "_model_module": "@jupyter-widgets/base",
            "top": null,
            "grid_column": null,
            "overflow_y": null,
            "overflow_x": null,
            "grid_auto_flow": null,
            "grid_area": null,
            "grid_template_columns": null,
            "flex": null,
            "_model_name": "LayoutModel",
            "justify_items": null,
            "grid_row": null,
            "max_height": null,
            "align_content": null,
            "visibility": null,
            "align_self": null,
            "height": null,
            "min_height": null,
            "padding": null,
            "grid_auto_rows": null,
            "grid_gap": null,
            "max_width": null,
            "order": null,
            "_view_module_version": "1.2.0",
            "grid_template_areas": null,
            "object_position": null,
            "object_fit": null,
            "grid_auto_columns": null,
            "margin": null,
            "display": null,
            "left": null
          }
        },
        "ecb1ecc57c674618b4c58d1336d93814": {
          "model_module": "@jupyter-widgets/controls",
          "model_name": "DescriptionStyleModel",
          "state": {
            "_view_name": "StyleView",
            "_model_name": "DescriptionStyleModel",
            "description_width": "",
            "_view_module": "@jupyter-widgets/base",
            "_model_module_version": "1.5.0",
            "_view_count": null,
            "_view_module_version": "1.2.0",
            "_model_module": "@jupyter-widgets/controls"
          }
        },
        "9938009aacbf418fb1ffbb86bb091d25": {
          "model_module": "@jupyter-widgets/base",
          "model_name": "LayoutModel",
          "state": {
            "_view_name": "LayoutView",
            "grid_template_rows": null,
            "right": null,
            "justify_content": null,
            "_view_module": "@jupyter-widgets/base",
            "overflow": null,
            "_model_module_version": "1.2.0",
            "_view_count": null,
            "flex_flow": null,
            "width": null,
            "min_width": null,
            "border": null,
            "align_items": null,
            "bottom": null,
            "_model_module": "@jupyter-widgets/base",
            "top": null,
            "grid_column": null,
            "overflow_y": null,
            "overflow_x": null,
            "grid_auto_flow": null,
            "grid_area": null,
            "grid_template_columns": null,
            "flex": null,
            "_model_name": "LayoutModel",
            "justify_items": null,
            "grid_row": null,
            "max_height": null,
            "align_content": null,
            "visibility": null,
            "align_self": null,
            "height": null,
            "min_height": null,
            "padding": null,
            "grid_auto_rows": null,
            "grid_gap": null,
            "max_width": null,
            "order": null,
            "_view_module_version": "1.2.0",
            "grid_template_areas": null,
            "object_position": null,
            "object_fit": null,
            "grid_auto_columns": null,
            "margin": null,
            "display": null,
            "left": null
          }
        },
        "d23f8b63d18a4069a15077d3a1e7a7d3": {
          "model_module": "@jupyter-widgets/controls",
          "model_name": "HBoxModel",
          "state": {
            "_view_name": "HBoxView",
            "_dom_classes": [],
            "_model_name": "HBoxModel",
            "_view_module": "@jupyter-widgets/controls",
            "_model_module_version": "1.5.0",
            "_view_count": null,
            "_view_module_version": "1.5.0",
            "box_style": "",
            "layout": "IPY_MODEL_e19b3577f16d47d18fb0c3ebd94685b1",
            "_model_module": "@jupyter-widgets/controls",
            "children": [
              "IPY_MODEL_03744de063984ef2b19298715dbdf945",
              "IPY_MODEL_c9d068cb0da746c4a6f8aea29e8ebdcd"
            ]
          }
        },
        "e19b3577f16d47d18fb0c3ebd94685b1": {
          "model_module": "@jupyter-widgets/base",
          "model_name": "LayoutModel",
          "state": {
            "_view_name": "LayoutView",
            "grid_template_rows": null,
            "right": null,
            "justify_content": null,
            "_view_module": "@jupyter-widgets/base",
            "overflow": null,
            "_model_module_version": "1.2.0",
            "_view_count": null,
            "flex_flow": null,
            "width": null,
            "min_width": null,
            "border": null,
            "align_items": null,
            "bottom": null,
            "_model_module": "@jupyter-widgets/base",
            "top": null,
            "grid_column": null,
            "overflow_y": null,
            "overflow_x": null,
            "grid_auto_flow": null,
            "grid_area": null,
            "grid_template_columns": null,
            "flex": null,
            "_model_name": "LayoutModel",
            "justify_items": null,
            "grid_row": null,
            "max_height": null,
            "align_content": null,
            "visibility": null,
            "align_self": null,
            "height": null,
            "min_height": null,
            "padding": null,
            "grid_auto_rows": null,
            "grid_gap": null,
            "max_width": null,
            "order": null,
            "_view_module_version": "1.2.0",
            "grid_template_areas": null,
            "object_position": null,
            "object_fit": null,
            "grid_auto_columns": null,
            "margin": null,
            "display": null,
            "left": null
          }
        },
        "03744de063984ef2b19298715dbdf945": {
          "model_module": "@jupyter-widgets/controls",
          "model_name": "FloatProgressModel",
          "state": {
            "_view_name": "ProgressView",
            "style": "IPY_MODEL_17b10b6b1ae54b8f811c1bd977702fa4",
            "_dom_classes": [],
            "description": "  0%",
            "_model_name": "FloatProgressModel",
            "bar_style": "danger",
            "max": 150,
            "_view_module": "@jupyter-widgets/controls",
            "_model_module_version": "1.5.0",
            "value": 0,
            "_view_count": null,
            "_view_module_version": "1.5.0",
            "orientation": "horizontal",
            "min": 0,
            "description_tooltip": null,
            "_model_module": "@jupyter-widgets/controls",
            "layout": "IPY_MODEL_1b1a0eb2d37f4b179844885e44575768"
          }
        },
        "c9d068cb0da746c4a6f8aea29e8ebdcd": {
          "model_module": "@jupyter-widgets/controls",
          "model_name": "HTMLModel",
          "state": {
            "_view_name": "HTMLView",
            "style": "IPY_MODEL_02353da0230b47b69b8db69a8fc89efd",
            "_dom_classes": [],
            "description": "",
            "_model_name": "HTMLModel",
            "placeholder": "​",
            "_view_module": "@jupyter-widgets/controls",
            "_model_module_version": "1.5.0",
            "value": " 0/150 [00:00&lt;?, ? examples/s]",
            "_view_count": null,
            "_view_module_version": "1.5.0",
            "description_tooltip": null,
            "_model_module": "@jupyter-widgets/controls",
            "layout": "IPY_MODEL_074bb73ae12f4f5fa8f7292323e444ab"
          }
        },
        "17b10b6b1ae54b8f811c1bd977702fa4": {
          "model_module": "@jupyter-widgets/controls",
          "model_name": "ProgressStyleModel",
          "state": {
            "_view_name": "StyleView",
            "_model_name": "ProgressStyleModel",
            "description_width": "initial",
            "_view_module": "@jupyter-widgets/base",
            "_model_module_version": "1.5.0",
            "_view_count": null,
            "_view_module_version": "1.2.0",
            "bar_color": null,
            "_model_module": "@jupyter-widgets/controls"
          }
        },
        "1b1a0eb2d37f4b179844885e44575768": {
          "model_module": "@jupyter-widgets/base",
          "model_name": "LayoutModel",
          "state": {
            "_view_name": "LayoutView",
            "grid_template_rows": null,
            "right": null,
            "justify_content": null,
            "_view_module": "@jupyter-widgets/base",
            "overflow": null,
            "_model_module_version": "1.2.0",
            "_view_count": null,
            "flex_flow": null,
            "width": null,
            "min_width": null,
            "border": null,
            "align_items": null,
            "bottom": null,
            "_model_module": "@jupyter-widgets/base",
            "top": null,
            "grid_column": null,
            "overflow_y": null,
            "overflow_x": null,
            "grid_auto_flow": null,
            "grid_area": null,
            "grid_template_columns": null,
            "flex": null,
            "_model_name": "LayoutModel",
            "justify_items": null,
            "grid_row": null,
            "max_height": null,
            "align_content": null,
            "visibility": null,
            "align_self": null,
            "height": null,
            "min_height": null,
            "padding": null,
            "grid_auto_rows": null,
            "grid_gap": null,
            "max_width": null,
            "order": null,
            "_view_module_version": "1.2.0",
            "grid_template_areas": null,
            "object_position": null,
            "object_fit": null,
            "grid_auto_columns": null,
            "margin": null,
            "display": null,
            "left": null
          }
        },
        "02353da0230b47b69b8db69a8fc89efd": {
          "model_module": "@jupyter-widgets/controls",
          "model_name": "DescriptionStyleModel",
          "state": {
            "_view_name": "StyleView",
            "_model_name": "DescriptionStyleModel",
            "description_width": "",
            "_view_module": "@jupyter-widgets/base",
            "_model_module_version": "1.5.0",
            "_view_count": null,
            "_view_module_version": "1.2.0",
            "_model_module": "@jupyter-widgets/controls"
          }
        },
        "074bb73ae12f4f5fa8f7292323e444ab": {
          "model_module": "@jupyter-widgets/base",
          "model_name": "LayoutModel",
          "state": {
            "_view_name": "LayoutView",
            "grid_template_rows": null,
            "right": null,
            "justify_content": null,
            "_view_module": "@jupyter-widgets/base",
            "overflow": null,
            "_model_module_version": "1.2.0",
            "_view_count": null,
            "flex_flow": null,
            "width": null,
            "min_width": null,
            "border": null,
            "align_items": null,
            "bottom": null,
            "_model_module": "@jupyter-widgets/base",
            "top": null,
            "grid_column": null,
            "overflow_y": null,
            "overflow_x": null,
            "grid_auto_flow": null,
            "grid_area": null,
            "grid_template_columns": null,
            "flex": null,
            "_model_name": "LayoutModel",
            "justify_items": null,
            "grid_row": null,
            "max_height": null,
            "align_content": null,
            "visibility": null,
            "align_self": null,
            "height": null,
            "min_height": null,
            "padding": null,
            "grid_auto_rows": null,
            "grid_gap": null,
            "max_width": null,
            "order": null,
            "_view_module_version": "1.2.0",
            "grid_template_areas": null,
            "object_position": null,
            "object_fit": null,
            "grid_auto_columns": null,
            "margin": null,
            "display": null,
            "left": null
          }
        }
      }
    }
  },
  "cells": [
    {
      "cell_type": "code",
      "metadata": {
        "id": "0xrNiA3sAwqp"
      },
      "source": [
        "Iris 꽃 분류\n",
        "\n",
        "* Fully Connected Layer (Dense)를 활용한 분류 모델 (Classification)\n",
        "* tensorflow-datasets 를 활용한 데이터 전처리"
      ],
      "execution_count": null,
      "outputs": []
    },
    {
      "cell_type": "code",
      "metadata": {
        "id": "ldrg41Wj-vX9"
      },
      "source": [
        "# 필요 모듈 임포트\n",
        "import numpy as np\n",
        "import tensorflow as tf\n",
        "import tensorflow_datasets as tfds\n",
        "\n",
        "from tensorflow.keras.layers import Dense\n",
        "from tensorflow.keras.models import Sequential\n",
        "from tensorflow.keras.callbacks import ModelCheckpoint"
      ],
      "execution_count": 2,
      "outputs": []
    },
    {
      "cell_type": "code",
      "metadata": {
        "colab": {
          "base_uri": "https://localhost:8080/",
          "height": 239,
          "referenced_widgets": [
            "5c258375bccf4242800bb26eb471ca8d",
            "cae7f092b0b744feb10cd24be66f79ed",
            "1249e2bdb3804fc08d54c9438a5fe0c9",
            "bfb0ced5c5dd4278906ebf05a0d19f6d",
            "96b0f8801efa42a5bc6908af26c8a8c5",
            "3c77006adc1148ceb837db6f0719f141",
            "9fa08111fabf427cbe4d6a612f6adc69",
            "8d9df595b4314baf85cc1aa3734427c6",
            "023406ac3b444accb4c7c9b518b24cf2",
            "8f7032bf4dd3483fb239c0e1162c6a20",
            "a9df0b096c0046cd88587230b6e995c0",
            "481673c5c3c84441ace7b5d4809b72a7",
            "7fd619128ebb450b913523d578da1b04",
            "0e4101b289924586a98f72f07a7687f0",
            "5ac3ad99eb6e49d4a02b167c51f7ed76",
            "23a900db620c4f8c9a7b0463b4a23f04",
            "93d88a3691cc4d14a3982633ee0d8aeb",
            "90b9ed7f8ebb466f87bcb4b91686cbfc",
            "03eaef2222b94e2196f5359a965b4aa3",
            "915a072682fd49ee9fa62def3cba12e6",
            "ba46bd404791425d9814ca9061eb1bd2",
            "974168b6f6134ee8a5e70253a1822712",
            "ecb1ecc57c674618b4c58d1336d93814",
            "9938009aacbf418fb1ffbb86bb091d25",
            "d23f8b63d18a4069a15077d3a1e7a7d3",
            "e19b3577f16d47d18fb0c3ebd94685b1",
            "03744de063984ef2b19298715dbdf945",
            "c9d068cb0da746c4a6f8aea29e8ebdcd",
            "17b10b6b1ae54b8f811c1bd977702fa4",
            "1b1a0eb2d37f4b179844885e44575768",
            "02353da0230b47b69b8db69a8fc89efd",
            "074bb73ae12f4f5fa8f7292323e444ab"
          ]
        },
        "id": "nL3cr7De_YVS",
        "outputId": "0c40bf35-1918-4d35-bfe0-3f94a3e818da"
      },
      "source": [
        "# 데이터 셋 로드 및 분할\n",
        "train_dataset = tfds.load('iris', split='train[:80%]')\n",
        "valid_dataset = tfds.load('iris', split='train[80%:]')"
      ],
      "execution_count": 3,
      "outputs": [
        {
          "output_type": "stream",
          "text": [
            "\u001b[1mDownloading and preparing dataset iris/2.0.0 (download: 4.44 KiB, generated: Unknown size, total: 4.44 KiB) to /root/tensorflow_datasets/iris/2.0.0...\u001b[0m\n"
          ],
          "name": "stdout"
        },
        {
          "output_type": "display_data",
          "data": {
            "application/vnd.jupyter.widget-view+json": {
              "model_id": "5c258375bccf4242800bb26eb471ca8d",
              "version_minor": 0,
              "version_major": 2
            },
            "text/plain": [
              "HBox(children=(FloatProgress(value=1.0, bar_style='info', description='Dl Completed...', max=1.0, style=Progre…"
            ]
          },
          "metadata": {
            "tags": []
          }
        },
        {
          "output_type": "display_data",
          "data": {
            "application/vnd.jupyter.widget-view+json": {
              "model_id": "023406ac3b444accb4c7c9b518b24cf2",
              "version_minor": 0,
              "version_major": 2
            },
            "text/plain": [
              "HBox(children=(FloatProgress(value=1.0, bar_style='info', description='Dl Size...', max=1.0, style=ProgressSty…"
            ]
          },
          "metadata": {
            "tags": []
          }
        },
        {
          "output_type": "stream",
          "text": [
            "\n",
            "\n",
            "\n",
            "\n"
          ],
          "name": "stdout"
        },
        {
          "output_type": "display_data",
          "data": {
            "application/vnd.jupyter.widget-view+json": {
              "model_id": "93d88a3691cc4d14a3982633ee0d8aeb",
              "version_minor": 0,
              "version_major": 2
            },
            "text/plain": [
              "HBox(children=(FloatProgress(value=1.0, bar_style='info', max=1.0), HTML(value='')))"
            ]
          },
          "metadata": {
            "tags": []
          }
        },
        {
          "output_type": "stream",
          "text": [
            "\rShuffling and writing examples to /root/tensorflow_datasets/iris/2.0.0.incompleteHLGSUX/iris-train.tfrecord\n"
          ],
          "name": "stdout"
        },
        {
          "output_type": "display_data",
          "data": {
            "application/vnd.jupyter.widget-view+json": {
              "model_id": "d23f8b63d18a4069a15077d3a1e7a7d3",
              "version_minor": 0,
              "version_major": 2
            },
            "text/plain": [
              "HBox(children=(FloatProgress(value=0.0, max=150.0), HTML(value='')))"
            ]
          },
          "metadata": {
            "tags": []
          }
        },
        {
          "output_type": "stream",
          "text": [
            "\u001b[1mDataset iris downloaded and prepared to /root/tensorflow_datasets/iris/2.0.0. Subsequent calls will reuse this data.\u001b[0m\n",
            "\r"
          ],
          "name": "stdout"
        }
      ]
    },
    {
      "cell_type": "code",
      "metadata": {
        "colab": {
          "base_uri": "https://localhost:8080/"
        },
        "id": "wuPSQKB9_iAe",
        "outputId": "a64f30d3-a973-4c80-d471-fd91b43bc6cf"
      },
      "source": [
        "# 데이터 확인 방법\n",
        "for data in train_dataset.take(10):\n",
        "    print(data)"
      ],
      "execution_count": 6,
      "outputs": [
        {
          "output_type": "stream",
          "text": [
            "{'features': <tf.Tensor: shape=(4,), dtype=float32, numpy=array([5.1, 3.4, 1.5, 0.2], dtype=float32)>, 'label': <tf.Tensor: shape=(), dtype=int64, numpy=0>}\n",
            "{'features': <tf.Tensor: shape=(4,), dtype=float32, numpy=array([7.7, 3. , 6.1, 2.3], dtype=float32)>, 'label': <tf.Tensor: shape=(), dtype=int64, numpy=2>}\n",
            "{'features': <tf.Tensor: shape=(4,), dtype=float32, numpy=array([5.7, 2.8, 4.5, 1.3], dtype=float32)>, 'label': <tf.Tensor: shape=(), dtype=int64, numpy=1>}\n",
            "{'features': <tf.Tensor: shape=(4,), dtype=float32, numpy=array([6.8, 3.2, 5.9, 2.3], dtype=float32)>, 'label': <tf.Tensor: shape=(), dtype=int64, numpy=2>}\n",
            "{'features': <tf.Tensor: shape=(4,), dtype=float32, numpy=array([5.2, 3.4, 1.4, 0.2], dtype=float32)>, 'label': <tf.Tensor: shape=(), dtype=int64, numpy=0>}\n",
            "{'features': <tf.Tensor: shape=(4,), dtype=float32, numpy=array([5.6, 2.9, 3.6, 1.3], dtype=float32)>, 'label': <tf.Tensor: shape=(), dtype=int64, numpy=1>}\n",
            "{'features': <tf.Tensor: shape=(4,), dtype=float32, numpy=array([5.5, 2.6, 4.4, 1.2], dtype=float32)>, 'label': <tf.Tensor: shape=(), dtype=int64, numpy=1>}\n",
            "{'features': <tf.Tensor: shape=(4,), dtype=float32, numpy=array([5.5, 2.4, 3.7, 1. ], dtype=float32)>, 'label': <tf.Tensor: shape=(), dtype=int64, numpy=1>}\n",
            "{'features': <tf.Tensor: shape=(4,), dtype=float32, numpy=array([4.6, 3.4, 1.4, 0.3], dtype=float32)>, 'label': <tf.Tensor: shape=(), dtype=int64, numpy=0>}\n",
            "{'features': <tf.Tensor: shape=(4,), dtype=float32, numpy=array([7.7, 2.8, 6.7, 2. ], dtype=float32)>, 'label': <tf.Tensor: shape=(), dtype=int64, numpy=2>}\n"
          ],
          "name": "stdout"
        }
      ]
    },
    {
      "cell_type": "code",
      "metadata": {
        "id": "TtrylrlS_sFH"
      },
      "source": [
        "# 전처리 함수\n",
        "def preprocess(data):\n",
        "    x = data['features']\n",
        "    y = data['label']\n",
        "    y = tf.one_hot(y, 3)\n",
        "    return x, y"
      ],
      "execution_count": 7,
      "outputs": []
    },
    {
      "cell_type": "code",
      "metadata": {
        "id": "VFkw8l9S_wWQ"
      },
      "source": [
        "# 배치사이즈 지정\n",
        "batch_size=10"
      ],
      "execution_count": 8,
      "outputs": []
    },
    {
      "cell_type": "code",
      "metadata": {
        "id": "RTTcAw7J_yh_"
      },
      "source": [
        "train_data = train_dataset.map(preprocess).batch(batch_size)\n",
        "valid_data = valid_dataset.map(preprocess).batch(batch_size)"
      ],
      "execution_count": 9,
      "outputs": []
    },
    {
      "cell_type": "code",
      "metadata": {
        "id": "U81VALHo_1iX"
      },
      "source": [
        "# 모델 정의\n",
        "model = tf.keras.models.Sequential([\n",
        "    # input_shape는 X의 feature 갯수가 4개 이므로 (4, )로 지정합니다.\n",
        "    Dense(512, activation='relu', input_shape=(4,)),\n",
        "    Dense(256, activation='relu'),\n",
        "    Dense(128, activation='relu'),\n",
        "    Dense(64, activation='relu'),\n",
        "    Dense(32, activation='relu'),\n",
        "    # Classification을 위한 Softmax, 클래스 갯수 = 3개\n",
        "    Dense(3, activation='softmax'),\n",
        "])"
      ],
      "execution_count": 11,
      "outputs": []
    },
    {
      "cell_type": "code",
      "metadata": {
        "colab": {
          "base_uri": "https://localhost:8080/"
        },
        "id": "mdFh0eAD_4pR",
        "outputId": "acc4a53a-5a12-4920-814b-8b8762ae45ed"
      },
      "source": [
        "# 모델 확인\n",
        "model.summary()"
      ],
      "execution_count": 12,
      "outputs": [
        {
          "output_type": "stream",
          "text": [
            "Model: \"sequential_1\"\n",
            "_________________________________________________________________\n",
            "Layer (type)                 Output Shape              Param #   \n",
            "=================================================================\n",
            "dense_6 (Dense)              (None, 512)               2560      \n",
            "_________________________________________________________________\n",
            "dense_7 (Dense)              (None, 256)               131328    \n",
            "_________________________________________________________________\n",
            "dense_8 (Dense)              (None, 128)               32896     \n",
            "_________________________________________________________________\n",
            "dense_9 (Dense)              (None, 64)                8256      \n",
            "_________________________________________________________________\n",
            "dense_10 (Dense)             (None, 32)                2080      \n",
            "_________________________________________________________________\n",
            "dense_11 (Dense)             (None, 3)                 99        \n",
            "=================================================================\n",
            "Total params: 177,219\n",
            "Trainable params: 177,219\n",
            "Non-trainable params: 0\n",
            "_________________________________________________________________\n"
          ],
          "name": "stdout"
        }
      ]
    },
    {
      "cell_type": "code",
      "metadata": {
        "id": "AkGNu5-8_8_5"
      },
      "source": [
        "# 모델 컴파일\n",
        "model.compile(optimizer='adam', loss='categorical_crossentropy', metrics=['acc'])"
      ],
      "execution_count": 13,
      "outputs": []
    },
    {
      "cell_type": "code",
      "metadata": {
        "id": "cULipPAp__mX"
      },
      "source": [
        "# 모델 체크포인트\n",
        "checkpoint_path = \"my_checkpoint.ckpt\"\n",
        "checkpoint = ModelCheckpoint(filepath=checkpoint_path, \n",
        "                             save_weights_only=True, \n",
        "                             save_best_only=True, \n",
        "                             monitor='val_loss', \n",
        "                             verbose=1)"
      ],
      "execution_count": 14,
      "outputs": []
    },
    {
      "cell_type": "code",
      "metadata": {
        "colab": {
          "base_uri": "https://localhost:8080/"
        },
        "id": "Ir75fkL9AB5C",
        "outputId": "deba11a6-06aa-49b6-c073-69cd89634067"
      },
      "source": [
        "# 모델 학습\n",
        "model.fit(train_data,\n",
        "          validation_data=(valid_data),\n",
        "          epochs=20,\n",
        "          callbacks=[checkpoint],\n",
        "          )"
      ],
      "execution_count": 15,
      "outputs": [
        {
          "output_type": "stream",
          "text": [
            "Epoch 1/20\n",
            "12/12 [==============================] - 3s 26ms/step - loss: 0.9205 - acc: 0.5667 - val_loss: 0.6994 - val_acc: 0.7000\n",
            "\n",
            "Epoch 00001: val_loss improved from inf to 0.69938, saving model to my_checkpoint.ckpt\n",
            "Epoch 2/20\n",
            "12/12 [==============================] - 0s 10ms/step - loss: 0.5677 - acc: 0.7917 - val_loss: 0.4809 - val_acc: 0.7000\n",
            "\n",
            "Epoch 00002: val_loss improved from 0.69938 to 0.48087, saving model to my_checkpoint.ckpt\n",
            "Epoch 3/20\n",
            "12/12 [==============================] - 0s 11ms/step - loss: 0.3111 - acc: 0.9083 - val_loss: 0.2623 - val_acc: 0.9333\n",
            "\n",
            "Epoch 00003: val_loss improved from 0.48087 to 0.26233, saving model to my_checkpoint.ckpt\n",
            "Epoch 4/20\n",
            "12/12 [==============================] - 0s 11ms/step - loss: 0.2546 - acc: 0.8833 - val_loss: 0.3182 - val_acc: 0.8667\n",
            "\n",
            "Epoch 00004: val_loss did not improve from 0.26233\n",
            "Epoch 5/20\n",
            "12/12 [==============================] - 0s 10ms/step - loss: 0.1448 - acc: 0.9333 - val_loss: 0.1812 - val_acc: 0.9333\n",
            "\n",
            "Epoch 00005: val_loss improved from 0.26233 to 0.18122, saving model to my_checkpoint.ckpt\n",
            "Epoch 6/20\n",
            "12/12 [==============================] - 0s 11ms/step - loss: 0.2113 - acc: 0.9167 - val_loss: 0.1766 - val_acc: 0.9000\n",
            "\n",
            "Epoch 00006: val_loss improved from 0.18122 to 0.17656, saving model to my_checkpoint.ckpt\n",
            "Epoch 7/20\n",
            "12/12 [==============================] - 0s 10ms/step - loss: 0.0912 - acc: 0.9667 - val_loss: 0.2029 - val_acc: 0.9000\n",
            "\n",
            "Epoch 00007: val_loss did not improve from 0.17656\n",
            "Epoch 8/20\n",
            "12/12 [==============================] - 0s 10ms/step - loss: 0.0724 - acc: 0.9833 - val_loss: 0.1691 - val_acc: 0.9667\n",
            "\n",
            "Epoch 00008: val_loss improved from 0.17656 to 0.16910, saving model to my_checkpoint.ckpt\n",
            "Epoch 9/20\n",
            "12/12 [==============================] - 0s 11ms/step - loss: 0.1054 - acc: 0.9583 - val_loss: 0.1720 - val_acc: 0.9333\n",
            "\n",
            "Epoch 00009: val_loss did not improve from 0.16910\n",
            "Epoch 10/20\n",
            "12/12 [==============================] - 0s 11ms/step - loss: 0.0674 - acc: 0.9667 - val_loss: 0.1825 - val_acc: 0.9000\n",
            "\n",
            "Epoch 00010: val_loss did not improve from 0.16910\n",
            "Epoch 11/20\n",
            "12/12 [==============================] - 0s 11ms/step - loss: 0.0795 - acc: 0.9583 - val_loss: 0.1784 - val_acc: 0.9333\n",
            "\n",
            "Epoch 00011: val_loss did not improve from 0.16910\n",
            "Epoch 12/20\n",
            "12/12 [==============================] - 0s 12ms/step - loss: 0.0739 - acc: 0.9583 - val_loss: 0.1787 - val_acc: 0.9333\n",
            "\n",
            "Epoch 00012: val_loss did not improve from 0.16910\n",
            "Epoch 13/20\n",
            "12/12 [==============================] - 0s 12ms/step - loss: 0.0739 - acc: 0.9583 - val_loss: 0.1739 - val_acc: 0.9667\n",
            "\n",
            "Epoch 00013: val_loss did not improve from 0.16910\n",
            "Epoch 14/20\n",
            "12/12 [==============================] - 0s 11ms/step - loss: 0.0751 - acc: 0.9583 - val_loss: 0.1677 - val_acc: 0.9667\n",
            "\n",
            "Epoch 00014: val_loss improved from 0.16910 to 0.16773, saving model to my_checkpoint.ckpt\n",
            "Epoch 15/20\n",
            "12/12 [==============================] - 0s 11ms/step - loss: 0.0759 - acc: 0.9667 - val_loss: 0.1597 - val_acc: 0.9667\n",
            "\n",
            "Epoch 00015: val_loss improved from 0.16773 to 0.15970, saving model to my_checkpoint.ckpt\n",
            "Epoch 16/20\n",
            "12/12 [==============================] - 0s 11ms/step - loss: 0.0805 - acc: 0.9583 - val_loss: 0.1517 - val_acc: 0.9667\n",
            "\n",
            "Epoch 00016: val_loss improved from 0.15970 to 0.15167, saving model to my_checkpoint.ckpt\n",
            "Epoch 17/20\n",
            "12/12 [==============================] - 0s 11ms/step - loss: 0.0834 - acc: 0.9583 - val_loss: 0.1432 - val_acc: 0.9333\n",
            "\n",
            "Epoch 00017: val_loss improved from 0.15167 to 0.14325, saving model to my_checkpoint.ckpt\n",
            "Epoch 18/20\n",
            "12/12 [==============================] - 0s 12ms/step - loss: 0.0936 - acc: 0.9583 - val_loss: 0.1401 - val_acc: 0.9333\n",
            "\n",
            "Epoch 00018: val_loss improved from 0.14325 to 0.14009, saving model to my_checkpoint.ckpt\n",
            "Epoch 19/20\n",
            "12/12 [==============================] - 0s 11ms/step - loss: 0.1043 - acc: 0.9583 - val_loss: 0.1497 - val_acc: 0.9333\n",
            "\n",
            "Epoch 00019: val_loss did not improve from 0.14009\n",
            "Epoch 20/20\n",
            "12/12 [==============================] - 0s 10ms/step - loss: 0.1467 - acc: 0.9417 - val_loss: 0.1658 - val_acc: 0.9333\n",
            "\n",
            "Epoch 00020: val_loss did not improve from 0.14009\n"
          ],
          "name": "stdout"
        },
        {
          "output_type": "execute_result",
          "data": {
            "text/plain": [
              "<tensorflow.python.keras.callbacks.History at 0x7faf20428850>"
            ]
          },
          "metadata": {
            "tags": []
          },
          "execution_count": 15
        }
      ]
    },
    {
      "cell_type": "code",
      "metadata": {
        "colab": {
          "base_uri": "https://localhost:8080/"
        },
        "id": "pVKzJlAMAJin",
        "outputId": "1a8ab13b-cbd6-48c3-e6a3-17b8ef1fe776"
      },
      "source": [
        "# 가중치 로드\n",
        "model.load_weights(checkpoint_path)"
      ],
      "execution_count": 16,
      "outputs": [
        {
          "output_type": "execute_result",
          "data": {
            "text/plain": [
              "<tensorflow.python.training.tracking.util.CheckpointLoadStatus at 0x7faf20217f50>"
            ]
          },
          "metadata": {
            "tags": []
          },
          "execution_count": 16
        }
      ]
    }
  ]
}