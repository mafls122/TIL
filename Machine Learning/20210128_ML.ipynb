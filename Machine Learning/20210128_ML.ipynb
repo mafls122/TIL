{
 "cells": [
  {
   "cell_type": "code",
   "execution_count": 2,
   "metadata": {},
   "outputs": [
    {
     "name": "stdout",
     "output_type": "stream",
     "text": [
      "[0 1 2 3 4 5 6 7 8 9]\n",
      "[0 1 2 3 4 5 6]\n",
      "[7 8 9]\n"
     ]
    }
   ],
   "source": [
    "#train_test_split\n",
    "import numpy as np\n",
    "from sklearn.model_selection import *\n",
    "\n",
    "a = np.arange(10)\n",
    "print(a)\n",
    "\n",
    "#매개인수 shuffle = False 셔플되지 않고 처음부터 순서대로 분할\n",
    "# shuffle -> 무작위로 섞는것\n",
    "a_train, a_test = train_test_split(a, shuffle=False)\n",
    "print(a_train)\n",
    "print(a_test)"
   ]
  },
  {
   "cell_type": "code",
   "execution_count": 5,
   "metadata": {},
   "outputs": [
    {
     "name": "stdout",
     "output_type": "stream",
     "text": [
      "[9 1 6 7 3 0 5]\n",
      "[2 8 4]\n"
     ]
    }
   ],
   "source": [
    "#난수 시드를 지정 : 매개인수 random_state -> 고정(항상 같은 방식) 분할\n",
    "a_train, a_test = train_test_split(a, random_state=0)\n",
    "print(a_train)\n",
    "print(a_test)"
   ]
  },
  {
   "cell_type": "code",
   "execution_count": 12,
   "metadata": {},
   "outputs": [
    {
     "name": "stdout",
     "output_type": "stream",
     "text": [
      "[[ 0 10]\n",
      " [ 1 11]\n",
      " [ 2 12]\n",
      " [ 3 13]\n",
      " [ 4 14]\n",
      " [ 5 15]\n",
      " [ 6 16]\n",
      " [ 7 17]\n",
      " [ 8 18]\n",
      " [ 9 19]]\n",
      "\n",
      "\n",
      "[0 1 2 3 4 5 6 7 8 9]\n"
     ]
    }
   ],
   "source": [
    "# 여러개 차원 데이터를 분할\n",
    "\n",
    "x = np.arange(20).reshape(2,10).T\n",
    "print(x)\n",
    "\n",
    "print(\"\\n\")\n",
    "\n",
    "y = np.arange(10)\n",
    "print(y)\n"
   ]
  },
  {
   "cell_type": "code",
   "execution_count": 14,
   "metadata": {},
   "outputs": [
    {
     "name": "stdout",
     "output_type": "stream",
     "text": [
      "[[ 8 18]\n",
      " [ 4 14]\n",
      " [ 1 11]\n",
      " [ 2 12]\n",
      " [ 9 19]\n",
      " [ 7 17]\n",
      " [ 0 10]]\n",
      "[[ 5 15]\n",
      " [ 6 16]\n",
      " [ 3 13]]\n",
      "\n",
      "\n",
      "[8 4 1 2 9 7 0]\n",
      "[5 6 3]\n"
     ]
    }
   ],
   "source": [
    "x_train, x_test, y_train, y_test = train_test_split(x,y)\n",
    "print(x_train)\n",
    "print(x_test)\n",
    "\n",
    "print(\"\\n\")\n",
    "print(y_train)\n",
    "print(y_test)"
   ]
  },
  {
   "cell_type": "code",
   "execution_count": 17,
   "metadata": {},
   "outputs": [
    {
     "name": "stdout",
     "output_type": "stream",
     "text": [
      "[ 0 10 20 30 40 50 60 70 80 90]\n",
      "[50 30 90 20 80 40 70]\n",
      "[ 0 10 60]\n"
     ]
    }
   ],
   "source": [
    "z = np.arange(10)*10\n",
    "print(z)\n",
    "\n",
    "x_train, x_test, y_train, y_test,z_train, z_test = train_test_split(x,y,z)\n",
    "print(z_train)\n",
    "print(z_test)"
   ]
  },
  {
   "cell_type": "code",
   "execution_count": 18,
   "metadata": {},
   "outputs": [
    {
     "data": {
      "text/plain": [
       "((10, 2), (10,), (10,))"
      ]
     },
     "execution_count": 18,
     "metadata": {},
     "output_type": "execute_result"
    }
   ],
   "source": [
    "x.shape, y.shape, z.shape  #첫번째 차원의 크기가 반드시 일치하여야 한다"
   ]
  },
  {
   "cell_type": "code",
   "execution_count": 21,
   "metadata": {},
   "outputs": [
    {
     "name": "stdout",
     "output_type": "stream",
     "text": [
      "[4 0 2 7 5 8 1]\n",
      "[6 9 3]\n"
     ]
    }
   ],
   "source": [
    "a = np.arange(10)\n",
    "a.shape\n",
    "\n",
    "z_train, z_test, a_train, a_test = train_test_split(z,a)\n",
    "print(a_train)\n",
    "print(a_test)"
   ]
  },
  {
   "cell_type": "code",
   "execution_count": 25,
   "metadata": {},
   "outputs": [
    {
     "name": "stdout",
     "output_type": "stream",
     "text": [
      "[0 0 0 0 0 1 1 1 1 1]\n",
      "\n",
      "\n",
      "[0 1 0 0 0 0 1 1]\n",
      "[1 1]\n"
     ]
    }
   ],
   "source": [
    "# stratify : 두 값을 분류(클래스 2개로 분류) 정답 레이블은 0,1로 구현\n",
    "# 테스트 데이터에서 데이터가 포함되지 않을 경우 훈련과 테스트의 비율 결과이기 때문에\n",
    "# 해당 데이터값의 비율이 일치하도록 분할 시켜준다.\n",
    "\n",
    "#지도학습을 위해 데이터를 분할할 경우 훈련과 테스트 정답라벨의 비율은\n",
    "#원본 데이터의 정답 라벨의 비율과 일치하는 것이 좋다\n",
    "\n",
    "y = np.array([0]*5 + [1]*5)\n",
    "print(y)\n",
    "print(\"\\n\")\n",
    "x_train, x_test, y_train, y_test = train_test_split(x,y,test_size=0.2, random_state=100)\n",
    "print(y_train)\n",
    "print(y_test)  # 0이 포함되지 않는다."
   ]
  },
  {
   "cell_type": "code",
   "execution_count": 26,
   "metadata": {},
   "outputs": [
    {
     "name": "stdout",
     "output_type": "stream",
     "text": [
      "[1 1 0 0 0 1 1 0]\n",
      "[1 0]\n"
     ]
    }
   ],
   "source": [
    "x_train, x_test, y_train, y_test = train_test_split(x,y,test_size=0.2, random_state=100, stratify=y)\n",
    "print(y_train)\n",
    "print(y_test)  # 0이 포함된다"
   ]
  },
  {
   "cell_type": "code",
   "execution_count": 27,
   "metadata": {},
   "outputs": [
    {
     "name": "stdout",
     "output_type": "stream",
     "text": [
      "(150, 4)\n",
      "['sepal length (cm)', 'sepal width (cm)', 'petal length (cm)', 'petal width (cm)']\n",
      "[0 0 0 0 0 0 0 0 0 0 0 0 0 0 0 0 0 0 0 0 0 0 0 0 0 0 0 0 0 0 0 0 0 0 0 0 0\n",
      " 0 0 0 0 0 0 0 0 0 0 0 0 0 1 1 1 1 1 1 1 1 1 1 1 1 1 1 1 1 1 1 1 1 1 1 1 1\n",
      " 1 1 1 1 1 1 1 1 1 1 1 1 1 1 1 1 1 1 1 1 1 1 1 1 1 1 2 2 2 2 2 2 2 2 2 2 2\n",
      " 2 2 2 2 2 2 2 2 2 2 2 2 2 2 2 2 2 2 2 2 2 2 2 2 2 2 2 2 2 2 2 2 2 2 2 2 2\n",
      " 2 2]\n",
      "['setosa' 'versicolor' 'virginica']\n"
     ]
    }
   ],
   "source": [
    "from sklearn import datasets\n",
    "\n",
    "data = datasets.load_iris()\n",
    "print(data.data.shape)\n",
    "print(data.feature_names)\n",
    "print(data.target) # 범주형 변수\n",
    "print(data.target_names)"
   ]
  },
  {
   "cell_type": "code",
   "execution_count": 39,
   "metadata": {},
   "outputs": [
    {
     "name": "stdout",
     "output_type": "stream",
     "text": [
      "(150, 4)\n",
      "[[5.1 3.5 1.4 0.2]\n",
      " [4.9 3.  1.4 0.2]\n",
      " [4.7 3.2 1.3 0.2]\n",
      " [4.6 3.1 1.5 0.2]\n",
      " [5.  3.6 1.4 0.2]]\n",
      "\n",
      "\n",
      "(150,)\n",
      "[0 0 0 0 0 0 0 0 0 0 0 0 0 0 0 0 0 0 0 0 0 0 0 0 0 0 0 0 0 0 0 0 0 0 0 0 0\n",
      " 0 0 0 0 0 0 0 0 0 0 0 0 0 1 1 1 1 1 1 1 1 1 1 1 1 1 1 1 1 1 1 1 1 1 1 1 1\n",
      " 1 1 1 1 1 1 1 1 1 1 1 1 1 1 1 1 1 1 1 1 1 1 1 1 1 1 2 2 2 2 2 2 2 2 2 2 2\n",
      " 2 2 2 2 2 2 2 2 2 2 2 2 2 2 2 2 2 2 2 2 2 2 2 2 2 2 2 2 2 2 2 2 2 2 2 2 2\n",
      " 2 2]\n",
      "\n",
      "\n",
      "(112, 4)\n",
      "(38, 4)\n",
      "y값 테스트\n",
      "(112,)\n",
      "(38,)\n"
     ]
    }
   ],
   "source": [
    "# feature_names : 붓꽃 ['sepal length : 꽃 받침 조각의 길이',\n",
    "#                     'sepal width : 꽃 받침 조각의 폭', 'petal length : 꽃잎의 길이',\n",
    "#                      'petal width : 꽃잎의 폭']\n",
    "\n",
    "import numpy as np\n",
    "from sklearn.model_selection import train_test_split\n",
    "from sklearn.datasets import *\n",
    "\n",
    "data = load_iris()\n",
    "x =data['data']\n",
    "y = data['target']\n",
    "print(x.shape)\n",
    "# 입력값 슬라이싱\n",
    "print(x[:5])\n",
    "print(\"\\n\")\n",
    "print(y.shape)\n",
    "print(y)  # 정답 라벨값\n",
    "print(\"\\n\")\n",
    "# 학습과 테스트 데이터 분할 test_size, train_size의 기본 설정은 25% : 75%\n",
    "x_train, x_test, y_train, y_test = train_test_split(x,y,random_state=0)\n",
    "print(x_train.shape)\n",
    "print(x_test.shape)\n",
    "print('y값 테스트')\n",
    "print(y_train.shape)\n",
    "print(y_test.shape)\n"
   ]
  },
  {
   "cell_type": "code",
   "execution_count": 43,
   "metadata": {},
   "outputs": [
    {
     "name": "stdout",
     "output_type": "stream",
     "text": [
      "[2 1 0 2 0 2 0 1 1 1 2 1 1 1 1 0 1 1 0 0 2 1 0 0 2 0 0 1 1 0 2 1 0 2 2 1 0\n",
      " 1]\n",
      "13\n",
      "16\n",
      "9\n"
     ]
    }
   ],
   "source": [
    "#테스트의 정답라벨을 확인해보자\n",
    "print(y_test)\n",
    "print((y_test ==0).sum())\n",
    "print((y_test ==1).sum())\n",
    "print((y_test ==2).sum())"
   ]
  },
  {
   "cell_type": "code",
   "execution_count": 44,
   "metadata": {
    "scrolled": true
   },
   "outputs": [
    {
     "name": "stdout",
     "output_type": "stream",
     "text": [
      "[0 0 0 0 1 1 1 0 1 2 2 2 1 2 1 0 0 2 0 1 2 1 1 0 2 0 0 1 2 1 0 1 2 2 0 1 2\n",
      " 2]\n",
      "13\n",
      "13\n",
      "12\n"
     ]
    }
   ],
   "source": [
    "#테스트의 정답라벨을 균등해서 확인 해보자\n",
    "x_train, x_test, y_train, y_test = train_test_split(x,y,random_state=0, stratify=y)\n",
    "print(y_test)\n",
    "print((y_test ==0).sum())\n",
    "print((y_test ==1).sum())\n",
    "print((y_test ==2).sum())"
   ]
  },
  {
   "cell_type": "code",
   "execution_count": 47,
   "metadata": {},
   "outputs": [
    {
     "data": {
      "text/plain": [
       "0      0\n",
       "1      0\n",
       "2      0\n",
       "3      0\n",
       "4      0\n",
       "      ..\n",
       "145    2\n",
       "146    2\n",
       "147    2\n",
       "148    2\n",
       "149    2\n",
       "Length: 150, dtype: int32"
      ]
     },
     "execution_count": 47,
     "metadata": {},
     "output_type": "execute_result"
    }
   ],
   "source": [
    "# 판다스를 이용하여 데이터를 분할하자\n",
    "import numpy as np\n",
    "from sklearn.model_selection import train_test_split\n",
    "from sklearn.datasets import *\n",
    "import pandas as pd\n",
    "\n",
    "data = load_iris()\n",
    "x_df = pd.DataFrame(data['data'],columns=data['feature_names'])\n",
    "x_df\n",
    "\n",
    "y_s = pd.Series(data['target'])\n",
    "y_s"
   ]
  },
  {
   "cell_type": "code",
   "execution_count": 50,
   "metadata": {},
   "outputs": [
    {
     "name": "stdout",
     "output_type": "stream",
     "text": [
      "<class 'pandas.core.frame.DataFrame'>\n",
      "2    40\n",
      "1    40\n",
      "0    40\n",
      "dtype: int64\n",
      "2    10\n",
      "1    10\n",
      "0    10\n",
      "dtype: int64\n"
     ]
    }
   ],
   "source": [
    "x_train_df, x_test_df, y_train_s, y_test_s = train_test_split(x_df, y_s, test_size=0.2, random_state=0, stratify=y_s)\n",
    "print(type(x_train_df))  #<class 'pandas.core.frame.DataFrame'>\n",
    "\n",
    "print(y_train_s.value_counts())\n",
    "print(y_test_s.value_counts())"
   ]
  },
  {
   "cell_type": "code",
   "execution_count": 6,
   "metadata": {},
   "outputs": [
    {
     "name": "stdout",
     "output_type": "stream",
     "text": [
      "(array([0.  , 0.  , 0.25, 0.25, 0.5 , 0.5 , 1.  ]), array([0.  , 0.25, 0.25, 0.5 , 0.5 , 1.  , 1.  ]), array([1.9, 0.9, 0.8, 0.7, 0.6, 0.4, 0.2])) <class 'tuple'> 3\n",
      "\n",
      "\n",
      "[0.   0.   0.25 0.25 0.5  0.5  1.  ]\n",
      "[0.   0.25 0.25 0.5  0.5  1.   1.  ]\n",
      "[1.9 0.9 0.8 0.7 0.6 0.4 0.2]\n"
     ]
    },
    {
     "data": {
      "image/png": "[encoded data removed]",
      "text/plain": [
       "<Figure size 432x288 with 1 Axes>"
      ]
     },
     "metadata": {
      "needs_background": "light"
     },
     "output_type": "display_data"
    }
   ],
   "source": [
    "# 1. roc_curve() 함수를 사용해보자\n",
    "from sklearn.metrics import roc_curve\n",
    "import matplotlib.pyplot as plt\n",
    "\n",
    "y_true = [ 0,0,0,0,1,1,1,1 ]\n",
    "y_score = [ 0.2, 0.3, 0.6, 0.8, 0.4, 0.5, 0.7, 0.9 ]\n",
    "\n",
    "roc = roc_curve(y_true, y_score)\n",
    "print(roc, type(roc), len(roc))\n",
    "print('\\n')\n",
    "\n",
    "fpr, tpr, thresholds = roc_curve(y_true, y_score)\n",
    "print(fpr)  # (TN + FP) / FP\n",
    "print(tpr)  # (TP + FN) / TP\n",
    "print(thresholds)\n",
    "\n",
    "plt.plot(fpr,tpr,marker='o')\n",
    "plt.xlabel=('FPR : False positive rate')  # 오답비율\n",
    "plt.ylabel=('TPR : True positive rate')   # 정답비율\n",
    "plt.grid()"
   ]
  },
  {
   "cell_type": "code",
   "execution_count": 7,
   "metadata": {},
   "outputs": [
    {
     "name": "stdout",
     "output_type": "stream",
     "text": [
      "(array([0.  , 0.  , 0.25, 0.25, 0.5 , 0.5 , 1.  ]), array([0.  , 0.25, 0.25, 0.5 , 0.5 , 1.  , 1.  ]), array([1.9, 0.9, 0.8, 0.7, 0.6, 0.4, 0.2])) <class 'tuple'> 3\n",
      "\n",
      "\n",
      "[0.   0.   0.25 0.25 0.5  0.5  0.5  0.75 1.  ]\n",
      "[0.   0.25 0.25 0.5  0.5  0.75 1.   1.   1.  ]\n",
      "[1.9 0.9 0.8 0.7 0.6 0.5 0.4 0.3 0.2]\n"
     ]
    },
    {
     "data": {
      "image/png": "[encoded data removed]",
      "text/plain": [
       "<Figure size 432x288 with 1 Axes>"
      ]
     },
     "metadata": {
      "needs_background": "light"
     },
     "output_type": "display_data"
    }
   ],
   "source": [
    "# 1. roc_curve() 함수를 사용해보자\n",
    "from sklearn.metrics import roc_curve\n",
    "import matplotlib.pyplot as plt\n",
    "\n",
    "y_true = [ 0,0,0,0,1,1,1,1 ]\n",
    "y_score = [ 0.2, 0.3, 0.6, 0.8, 0.4, 0.5, 0.7, 0.9 ]\n",
    "\n",
    "roc = roc_curve(y_true, y_score)\n",
    "print(roc, type(roc), len(roc))\n",
    "print('\\n')\n",
    "\n",
    "fpr, tpr, thresholds = roc_curve(y_true, y_score, drop_intermediate=False)  #drop_intermediate=False\n",
    "print(fpr)  # (TN + FP) / FP\n",
    "print(tpr)  # (TP + FN) / TP\n",
    "print(thresholds)\n",
    "\n",
    "plt.plot(fpr,tpr,marker='o')\n",
    "plt.xlabel=('FPR : False positive rate')  # 오답비율\n",
    "plt.ylabel=('TPR : True positive rate')   # 정답비율\n",
    "plt.grid()"
   ]
  },
  {
   "cell_type": "code",
   "execution_count": 23,
   "metadata": {},
   "outputs": [
    {
     "name": "stdout",
     "output_type": "stream",
     "text": [
      "[False False  True  True False  True  True  True]\n",
      "[0 0 1 1 0 1 1 1]\n",
      "0.5\n",
      "0.75\n",
      "0.2\n",
      "[1 1 1 1 1 1 1 1]\n",
      "1.0\n"
     ]
    }
   ],
   "source": [
    "from sklearn.metrics import roc_curve, recall_score, confusion_matrix\n",
    "import matplotlib.pyplot as plt\n",
    "import numpy as np\n",
    "import pandas as pd\n",
    "\n",
    "y_true = np.array([ 0,0,0,0,1,1,1,1 ])\n",
    "y_score =np.array([ 0.2, 0.3, 0.6, 0.8, 0.4, 0.5, 0.7, 0.9 ])\n",
    "\n",
    "print(y_score >= 0.5) # 예측률 한계값을 0.5로 비교확인\n",
    "print((y_score >= 0.5).astype(int)) # 정수 0,1로 변경 astype\n",
    "\n",
    "# 임의 함수\n",
    "def fpr_score(y_true, y_pred):\n",
    "    tn, fp, fn, tp = confusion_matrix(y_true, y_pred).flatten()\n",
    "    return fp / (tn+fp)\n",
    "\n",
    "print(fpr_score(y_true, y_score >=0.5))   # 0.5\n",
    "\n",
    "print(recall_score(y_true, y_score>=0.5))  # 0.75\n",
    "\n",
    "th_min = min(y_score)\n",
    "print(th_min)\n",
    "print((y_score>=th_min).astype(int))\n",
    "\n",
    "print(fpr_score(y_true, y_score>=th_min))  # 1.0"
   ]
  },
  {
   "cell_type": "code",
   "execution_count": 32,
   "metadata": {},
   "outputs": [
    {
     "name": "stdout",
     "output_type": "stream",
     "text": [
      "1.9\n",
      "[0 0 0 0 0 0 0 0]\n",
      "0.0\n",
      "   true  score   TPR   FPR\n",
      "0     0    0.2  1.00  1.00\n",
      "1     0    0.3  1.00  0.75\n",
      "2     0    0.6  0.50  0.50\n",
      "3     0    0.8  0.25  0.25\n",
      "4     1    0.4  1.00  0.50\n",
      "5     1    0.5  0.75  0.50\n",
      "6     1    0.7  0.50  0.25\n",
      "7     1    0.9  0.25  0.00\n",
      "   true  score   TPR   FPR\n",
      "7     1    0.9  0.25  0.00\n",
      "3     0    0.8  0.25  0.25\n",
      "6     1    0.7  0.50  0.25\n",
      "2     0    0.6  0.50  0.50\n",
      "5     1    0.5  0.75  0.50\n",
      "4     1    0.4  1.00  0.50\n",
      "1     0    0.3  1.00  0.75\n",
      "0     0    0.2  1.00  1.00\n"
     ]
    }
   ],
   "source": [
    "th_max = max(y_score) + 1\n",
    "print(th_max)\n",
    "print((y_score>=th_max).astype(int))\n",
    "\n",
    "print(fpr_score(y_true, y_score>=th_max))  \n",
    "\n",
    "df = pd.DataFrame({'true':y_true, 'score':y_score})\n",
    "df['TPR'] = df.apply(lambda row: recall_score(y_true, y_score >= row['score']), axis=1)\n",
    "df['FPR'] = df.apply(lambda row: fpr_score(y_true, y_score >= row['score']), axis=1)\n",
    "\n",
    "print(df)\n",
    "\n",
    "print(df.sort_values('score', ascending=False)) # score 내림차순 정렬\n"
   ]
  },
  {
   "cell_type": "code",
   "execution_count": 36,
   "metadata": {},
   "outputs": [
    {
     "data": {
      "text/html": [
       "<div>\n",
       "<style scoped>\n",
       "    .dataframe tbody tr th:only-of-type {\n",
       "        vertical-align: middle;\n",
       "    }\n",
       "\n",
       "    .dataframe tbody tr th {\n",
       "        vertical-align: top;\n",
       "    }\n",
       "\n",
       "    .dataframe thead th {\n",
       "        text-align: right;\n",
       "    }\n",
       "</style>\n",
       "<table border=\"1\" class=\"dataframe\">\n",
       "  <thead>\n",
       "    <tr style=\"text-align: right;\">\n",
       "      <th></th>\n",
       "      <th>th</th>\n",
       "      <th>tpr</th>\n",
       "      <th>fpr</th>\n",
       "    </tr>\n",
       "  </thead>\n",
       "  <tbody>\n",
       "    <tr>\n",
       "      <th>0</th>\n",
       "      <td>1.9</td>\n",
       "      <td>0.00</td>\n",
       "      <td>0.00</td>\n",
       "    </tr>\n",
       "    <tr>\n",
       "      <th>1</th>\n",
       "      <td>0.9</td>\n",
       "      <td>0.25</td>\n",
       "      <td>0.00</td>\n",
       "    </tr>\n",
       "    <tr>\n",
       "      <th>2</th>\n",
       "      <td>0.8</td>\n",
       "      <td>0.25</td>\n",
       "      <td>0.25</td>\n",
       "    </tr>\n",
       "    <tr>\n",
       "      <th>3</th>\n",
       "      <td>0.7</td>\n",
       "      <td>0.50</td>\n",
       "      <td>0.25</td>\n",
       "    </tr>\n",
       "    <tr>\n",
       "      <th>4</th>\n",
       "      <td>0.6</td>\n",
       "      <td>0.50</td>\n",
       "      <td>0.50</td>\n",
       "    </tr>\n",
       "    <tr>\n",
       "      <th>5</th>\n",
       "      <td>0.5</td>\n",
       "      <td>0.75</td>\n",
       "      <td>0.50</td>\n",
       "    </tr>\n",
       "    <tr>\n",
       "      <th>6</th>\n",
       "      <td>0.4</td>\n",
       "      <td>1.00</td>\n",
       "      <td>0.50</td>\n",
       "    </tr>\n",
       "    <tr>\n",
       "      <th>7</th>\n",
       "      <td>0.3</td>\n",
       "      <td>1.00</td>\n",
       "      <td>0.75</td>\n",
       "    </tr>\n",
       "    <tr>\n",
       "      <th>8</th>\n",
       "      <td>0.2</td>\n",
       "      <td>1.00</td>\n",
       "      <td>1.00</td>\n",
       "    </tr>\n",
       "  </tbody>\n",
       "</table>\n",
       "</div>"
      ],
      "text/plain": [
       "    th   tpr   fpr\n",
       "0  1.9  0.00  0.00\n",
       "1  0.9  0.25  0.00\n",
       "2  0.8  0.25  0.25\n",
       "3  0.7  0.50  0.25\n",
       "4  0.6  0.50  0.50\n",
       "5  0.5  0.75  0.50\n",
       "6  0.4  1.00  0.50\n",
       "7  0.3  1.00  0.75\n",
       "8  0.2  1.00  1.00"
      ]
     },
     "execution_count": 36,
     "metadata": {},
     "output_type": "execute_result"
    }
   ],
   "source": [
    "# 연산 후 판다스로 보기\n",
    "y_true = [ 0,0,0,0,1,1,1,1 ]\n",
    "y_score = [ 0.2, 0.3, 0.6, 0.8, 0.4, 0.5, 0.7, 0.9 ]\n",
    "\n",
    "fpr, tpr, th = roc_curve(y_true, y_score, drop_intermediate=False)\n",
    "df_res = pd.DataFrame({'th':th, 'tpr':tpr, 'fpr':fpr})\n",
    "df_res"
   ]
  }
 ],
 "metadata": {
  "kernelspec": {
   "display_name": "Python 3",
   "language": "python",
   "name": "python3"
  },
  "language_info": {
   "codemirror_mode": {
    "name": "ipython",
    "version": 3
   },
   "file_extension": ".py",
   "mimetype": "text/x-python",
   "name": "python",
   "nbconvert_exporter": "python",
   "pygments_lexer": "ipython3",
   "version": "3.8.5"
  }
 },
 "nbformat": 4,
 "nbformat_minor": 4
}
