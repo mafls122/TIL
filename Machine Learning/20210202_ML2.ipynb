{
 "cells": [
  {
   "cell_type": "markdown",
   "metadata": {},
   "source": [
    "K-NN ( k-nearest neighbor algorithm)\n",
    "\n",
    "- 특징 공간에서 가장 가까운 훈련 예에 따라 분류하는 방법이며 패턴 인식과 회귀 분석에 사용 된다.\n",
    "- 분류 및 회귀에 사용하는 알고리즘\n",
    "- 연동원리 : n차원에 대한 백터로 특수 공간을 생성하면 데이터 간의 거리가 생긴다.\n",
    "             유클리드 공식으로 거리 계산 -> \n",
    "             분류에서 목적 변수가 알 수 없는 데이터가 있을 경우 -> \n",
    "             그 데이터의 목적변수를 특수공간에 가장 가까운 다른 테이터의 목적 변수가 많은 곳으로 결정된다.\n",
    "             \n",
    "회귀일 경우 - 알 수 없는 데이터가 있을때, 그 데이터의 목적변수를 특수공간에 가장 가까운 다른 데이터의 목적 변수의 \"평균\"을 목적 데이터로 결정된다.\n",
    "          "
   ]
  },
  {
   "cell_type": "code",
   "execution_count": 11,
   "metadata": {
    "scrolled": true
   },
   "outputs": [
    {
     "name": "stdout",
     "output_type": "stream",
     "text": [
      "   sepal length (cm)  sepal width (cm)  petal length (cm)  petal width (cm)\n",
      "0                5.1               3.5                1.4               0.2\n",
      "1                4.9               3.0                1.4               0.2\n",
      "2                4.7               3.2                1.3               0.2\n",
      "3                4.6               3.1                1.5               0.2\n",
      "4                5.0               3.6                1.4               0.2\n",
      "[0 0 0 0 0 0 0 0 0 0 0 0 0 0 0 0 0 0 0 0 0 0 0 0 0 0 0 0 0 0 0 0 0 0 0 0 0\n",
      " 0 0 0 0 0 0 0 0 0 0 0 0 0 1 1 1 1 1 1 1 1 1 1 1 1 1 1 1 1 1 1 1 1 1 1 1 1\n",
      " 1 1 1 1 1 1 1 1 1 1 1 1 1 1 1 1 1 1 1 1 1 1 1 1 1 1 2 2 2 2 2 2 2 2 2 2 2\n",
      " 2 2 2 2 2 2 2 2 2 2 2 2 2 2 2 2 2 2 2 2 2 2 2 2 2 2 2 2 2 2 2 2 2 2 2 2 2\n",
      " 2 2]\n",
      "     Species\n",
      "0          0\n",
      "1          0\n",
      "2          0\n",
      "3          0\n",
      "4          0\n",
      "..       ...\n",
      "145        2\n",
      "146        2\n",
      "147        2\n",
      "148        2\n",
      "149        2\n",
      "\n",
      "[150 rows x 1 columns]\n"
     ]
    }
   ],
   "source": [
    "# exam02. K-NN으로 분류하자\n",
    "from sklearn.neighbors import KNeighborsClassifier\n",
    "from sklearn.datasets import load_iris\n",
    "from sklearn.model_selection import train_test_split\n",
    "import pandas as pd\n",
    "import numpy as np\n",
    "\n",
    "iris = load_iris()\n",
    "iris_df = pd.DataFrame(iris.data, columns = iris.feature_names)\n",
    "iris_target_data = pd.DataFrame(iris.target, columns=['Species'])\n",
    "print(iris_df.head())\n",
    "print(iris.target)  # 정답라벨\n",
    "print(iris_target_data)\n"
   ]
  },
  {
   "cell_type": "code",
   "execution_count": 15,
   "metadata": {
    "scrolled": true
   },
   "outputs": [
    {
     "name": "stdout",
     "output_type": "stream",
     "text": [
      "0.9736842105263158\n"
     ]
    },
    {
     "name": "stderr",
     "output_type": "stream",
     "text": [
      "<ipython-input-15-90da80108470>:6: DataConversionWarning: A column-vector y was passed when a 1d array was expected. Please change the shape of y to (n_samples, ), for example using ravel().\n",
      "  knn.fit(X_train, y_train)\n"
     ]
    }
   ],
   "source": [
    "# 데이터 분할\n",
    "X_train, X_test, y_train, y_test = train_test_split(iris_df, iris_target_data, test_size=0.25, random_state=0)\n",
    "\n",
    "# 분류 모델\n",
    "knn = KNeighborsClassifier(n_neighbors=6)\n",
    "knn.fit(X_train, y_train)\n",
    "y_pred = knn.predict(X_test)\n",
    "print(metrics.accuracy_score(y_test,y_pred)) # 정확도 예측"
   ]
  },
  {
   "cell_type": "code",
   "execution_count": 19,
   "metadata": {},
   "outputs": [
    {
     "name": "stderr",
     "output_type": "stream",
     "text": [
      "<ipython-input-19-3cea4b5b86f4>:12: DataConversionWarning: A column-vector y was passed when a 1d array was expected. Please change the shape of y to (n_samples, ), for example using ravel().\n",
      "  knn.fit(X_train, y_train)\n",
      "<ipython-input-19-3cea4b5b86f4>:12: DataConversionWarning: A column-vector y was passed when a 1d array was expected. Please change the shape of y to (n_samples, ), for example using ravel().\n",
      "  knn.fit(X_train, y_train)\n",
      "<ipython-input-19-3cea4b5b86f4>:12: DataConversionWarning: A column-vector y was passed when a 1d array was expected. Please change the shape of y to (n_samples, ), for example using ravel().\n",
      "  knn.fit(X_train, y_train)\n",
      "<ipython-input-19-3cea4b5b86f4>:12: DataConversionWarning: A column-vector y was passed when a 1d array was expected. Please change the shape of y to (n_samples, ), for example using ravel().\n",
      "  knn.fit(X_train, y_train)\n",
      "<ipython-input-19-3cea4b5b86f4>:12: DataConversionWarning: A column-vector y was passed when a 1d array was expected. Please change the shape of y to (n_samples, ), for example using ravel().\n",
      "  knn.fit(X_train, y_train)\n",
      "<ipython-input-19-3cea4b5b86f4>:12: DataConversionWarning: A column-vector y was passed when a 1d array was expected. Please change the shape of y to (n_samples, ), for example using ravel().\n",
      "  knn.fit(X_train, y_train)\n",
      "<ipython-input-19-3cea4b5b86f4>:12: DataConversionWarning: A column-vector y was passed when a 1d array was expected. Please change the shape of y to (n_samples, ), for example using ravel().\n",
      "  knn.fit(X_train, y_train)\n",
      "<ipython-input-19-3cea4b5b86f4>:12: DataConversionWarning: A column-vector y was passed when a 1d array was expected. Please change the shape of y to (n_samples, ), for example using ravel().\n",
      "  knn.fit(X_train, y_train)\n",
      "<ipython-input-19-3cea4b5b86f4>:12: DataConversionWarning: A column-vector y was passed when a 1d array was expected. Please change the shape of y to (n_samples, ), for example using ravel().\n",
      "  knn.fit(X_train, y_train)\n",
      "<ipython-input-19-3cea4b5b86f4>:12: DataConversionWarning: A column-vector y was passed when a 1d array was expected. Please change the shape of y to (n_samples, ), for example using ravel().\n",
      "  knn.fit(X_train, y_train)\n",
      "<ipython-input-19-3cea4b5b86f4>:12: DataConversionWarning: A column-vector y was passed when a 1d array was expected. Please change the shape of y to (n_samples, ), for example using ravel().\n",
      "  knn.fit(X_train, y_train)\n",
      "<ipython-input-19-3cea4b5b86f4>:12: DataConversionWarning: A column-vector y was passed when a 1d array was expected. Please change the shape of y to (n_samples, ), for example using ravel().\n",
      "  knn.fit(X_train, y_train)\n",
      "<ipython-input-19-3cea4b5b86f4>:12: DataConversionWarning: A column-vector y was passed when a 1d array was expected. Please change the shape of y to (n_samples, ), for example using ravel().\n",
      "  knn.fit(X_train, y_train)\n",
      "<ipython-input-19-3cea4b5b86f4>:12: DataConversionWarning: A column-vector y was passed when a 1d array was expected. Please change the shape of y to (n_samples, ), for example using ravel().\n",
      "  knn.fit(X_train, y_train)\n",
      "<ipython-input-19-3cea4b5b86f4>:12: DataConversionWarning: A column-vector y was passed when a 1d array was expected. Please change the shape of y to (n_samples, ), for example using ravel().\n",
      "  knn.fit(X_train, y_train)\n",
      "<ipython-input-19-3cea4b5b86f4>:12: DataConversionWarning: A column-vector y was passed when a 1d array was expected. Please change the shape of y to (n_samples, ), for example using ravel().\n",
      "  knn.fit(X_train, y_train)\n",
      "<ipython-input-19-3cea4b5b86f4>:12: DataConversionWarning: A column-vector y was passed when a 1d array was expected. Please change the shape of y to (n_samples, ), for example using ravel().\n",
      "  knn.fit(X_train, y_train)\n",
      "<ipython-input-19-3cea4b5b86f4>:12: DataConversionWarning: A column-vector y was passed when a 1d array was expected. Please change the shape of y to (n_samples, ), for example using ravel().\n",
      "  knn.fit(X_train, y_train)\n",
      "<ipython-input-19-3cea4b5b86f4>:12: DataConversionWarning: A column-vector y was passed when a 1d array was expected. Please change the shape of y to (n_samples, ), for example using ravel().\n",
      "  knn.fit(X_train, y_train)\n",
      "<ipython-input-19-3cea4b5b86f4>:12: DataConversionWarning: A column-vector y was passed when a 1d array was expected. Please change the shape of y to (n_samples, ), for example using ravel().\n",
      "  knn.fit(X_train, y_train)\n",
      "<ipython-input-19-3cea4b5b86f4>:12: DataConversionWarning: A column-vector y was passed when a 1d array was expected. Please change the shape of y to (n_samples, ), for example using ravel().\n",
      "  knn.fit(X_train, y_train)\n",
      "<ipython-input-19-3cea4b5b86f4>:12: DataConversionWarning: A column-vector y was passed when a 1d array was expected. Please change the shape of y to (n_samples, ), for example using ravel().\n",
      "  knn.fit(X_train, y_train)\n",
      "<ipython-input-19-3cea4b5b86f4>:12: DataConversionWarning: A column-vector y was passed when a 1d array was expected. Please change the shape of y to (n_samples, ), for example using ravel().\n",
      "  knn.fit(X_train, y_train)\n",
      "<ipython-input-19-3cea4b5b86f4>:12: DataConversionWarning: A column-vector y was passed when a 1d array was expected. Please change the shape of y to (n_samples, ), for example using ravel().\n",
      "  knn.fit(X_train, y_train)\n",
      "<ipython-input-19-3cea4b5b86f4>:12: DataConversionWarning: A column-vector y was passed when a 1d array was expected. Please change the shape of y to (n_samples, ), for example using ravel().\n",
      "  knn.fit(X_train, y_train)\n",
      "<ipython-input-19-3cea4b5b86f4>:12: DataConversionWarning: A column-vector y was passed when a 1d array was expected. Please change the shape of y to (n_samples, ), for example using ravel().\n",
      "  knn.fit(X_train, y_train)\n",
      "<ipython-input-19-3cea4b5b86f4>:12: DataConversionWarning: A column-vector y was passed when a 1d array was expected. Please change the shape of y to (n_samples, ), for example using ravel().\n",
      "  knn.fit(X_train, y_train)\n",
      "<ipython-input-19-3cea4b5b86f4>:12: DataConversionWarning: A column-vector y was passed when a 1d array was expected. Please change the shape of y to (n_samples, ), for example using ravel().\n",
      "  knn.fit(X_train, y_train)\n",
      "<ipython-input-19-3cea4b5b86f4>:12: DataConversionWarning: A column-vector y was passed when a 1d array was expected. Please change the shape of y to (n_samples, ), for example using ravel().\n",
      "  knn.fit(X_train, y_train)\n",
      "<ipython-input-19-3cea4b5b86f4>:12: DataConversionWarning: A column-vector y was passed when a 1d array was expected. Please change the shape of y to (n_samples, ), for example using ravel().\n",
      "  knn.fit(X_train, y_train)\n",
      "<ipython-input-19-3cea4b5b86f4>:12: DataConversionWarning: A column-vector y was passed when a 1d array was expected. Please change the shape of y to (n_samples, ), for example using ravel().\n",
      "  knn.fit(X_train, y_train)\n",
      "<ipython-input-19-3cea4b5b86f4>:12: DataConversionWarning: A column-vector y was passed when a 1d array was expected. Please change the shape of y to (n_samples, ), for example using ravel().\n",
      "  knn.fit(X_train, y_train)\n",
      "<ipython-input-19-3cea4b5b86f4>:12: DataConversionWarning: A column-vector y was passed when a 1d array was expected. Please change the shape of y to (n_samples, ), for example using ravel().\n",
      "  knn.fit(X_train, y_train)\n",
      "<ipython-input-19-3cea4b5b86f4>:12: DataConversionWarning: A column-vector y was passed when a 1d array was expected. Please change the shape of y to (n_samples, ), for example using ravel().\n",
      "  knn.fit(X_train, y_train)\n",
      "<ipython-input-19-3cea4b5b86f4>:12: DataConversionWarning: A column-vector y was passed when a 1d array was expected. Please change the shape of y to (n_samples, ), for example using ravel().\n",
      "  knn.fit(X_train, y_train)\n",
      "<ipython-input-19-3cea4b5b86f4>:12: DataConversionWarning: A column-vector y was passed when a 1d array was expected. Please change the shape of y to (n_samples, ), for example using ravel().\n",
      "  knn.fit(X_train, y_train)\n",
      "<ipython-input-19-3cea4b5b86f4>:12: DataConversionWarning: A column-vector y was passed when a 1d array was expected. Please change the shape of y to (n_samples, ), for example using ravel().\n",
      "  knn.fit(X_train, y_train)\n",
      "<ipython-input-19-3cea4b5b86f4>:12: DataConversionWarning: A column-vector y was passed when a 1d array was expected. Please change the shape of y to (n_samples, ), for example using ravel().\n",
      "  knn.fit(X_train, y_train)\n",
      "<ipython-input-19-3cea4b5b86f4>:12: DataConversionWarning: A column-vector y was passed when a 1d array was expected. Please change the shape of y to (n_samples, ), for example using ravel().\n",
      "  knn.fit(X_train, y_train)\n",
      "<ipython-input-19-3cea4b5b86f4>:12: DataConversionWarning: A column-vector y was passed when a 1d array was expected. Please change the shape of y to (n_samples, ), for example using ravel().\n",
      "  knn.fit(X_train, y_train)\n",
      "<ipython-input-19-3cea4b5b86f4>:12: DataConversionWarning: A column-vector y was passed when a 1d array was expected. Please change the shape of y to (n_samples, ), for example using ravel().\n",
      "  knn.fit(X_train, y_train)\n",
      "<ipython-input-19-3cea4b5b86f4>:12: DataConversionWarning: A column-vector y was passed when a 1d array was expected. Please change the shape of y to (n_samples, ), for example using ravel().\n",
      "  knn.fit(X_train, y_train)\n",
      "<ipython-input-19-3cea4b5b86f4>:12: DataConversionWarning: A column-vector y was passed when a 1d array was expected. Please change the shape of y to (n_samples, ), for example using ravel().\n",
      "  knn.fit(X_train, y_train)\n",
      "<ipython-input-19-3cea4b5b86f4>:12: DataConversionWarning: A column-vector y was passed when a 1d array was expected. Please change the shape of y to (n_samples, ), for example using ravel().\n",
      "  knn.fit(X_train, y_train)\n"
     ]
    },
    {
     "name": "stderr",
     "output_type": "stream",
     "text": [
      "<ipython-input-19-3cea4b5b86f4>:12: DataConversionWarning: A column-vector y was passed when a 1d array was expected. Please change the shape of y to (n_samples, ), for example using ravel().\n",
      "  knn.fit(X_train, y_train)\n",
      "<ipython-input-19-3cea4b5b86f4>:12: DataConversionWarning: A column-vector y was passed when a 1d array was expected. Please change the shape of y to (n_samples, ), for example using ravel().\n",
      "  knn.fit(X_train, y_train)\n",
      "<ipython-input-19-3cea4b5b86f4>:12: DataConversionWarning: A column-vector y was passed when a 1d array was expected. Please change the shape of y to (n_samples, ), for example using ravel().\n",
      "  knn.fit(X_train, y_train)\n",
      "<ipython-input-19-3cea4b5b86f4>:12: DataConversionWarning: A column-vector y was passed when a 1d array was expected. Please change the shape of y to (n_samples, ), for example using ravel().\n",
      "  knn.fit(X_train, y_train)\n",
      "<ipython-input-19-3cea4b5b86f4>:12: DataConversionWarning: A column-vector y was passed when a 1d array was expected. Please change the shape of y to (n_samples, ), for example using ravel().\n",
      "  knn.fit(X_train, y_train)\n",
      "<ipython-input-19-3cea4b5b86f4>:12: DataConversionWarning: A column-vector y was passed when a 1d array was expected. Please change the shape of y to (n_samples, ), for example using ravel().\n",
      "  knn.fit(X_train, y_train)\n",
      "<ipython-input-19-3cea4b5b86f4>:12: DataConversionWarning: A column-vector y was passed when a 1d array was expected. Please change the shape of y to (n_samples, ), for example using ravel().\n",
      "  knn.fit(X_train, y_train)\n",
      "<ipython-input-19-3cea4b5b86f4>:12: DataConversionWarning: A column-vector y was passed when a 1d array was expected. Please change the shape of y to (n_samples, ), for example using ravel().\n",
      "  knn.fit(X_train, y_train)\n",
      "<ipython-input-19-3cea4b5b86f4>:12: DataConversionWarning: A column-vector y was passed when a 1d array was expected. Please change the shape of y to (n_samples, ), for example using ravel().\n",
      "  knn.fit(X_train, y_train)\n",
      "<ipython-input-19-3cea4b5b86f4>:12: DataConversionWarning: A column-vector y was passed when a 1d array was expected. Please change the shape of y to (n_samples, ), for example using ravel().\n",
      "  knn.fit(X_train, y_train)\n",
      "<ipython-input-19-3cea4b5b86f4>:12: DataConversionWarning: A column-vector y was passed when a 1d array was expected. Please change the shape of y to (n_samples, ), for example using ravel().\n",
      "  knn.fit(X_train, y_train)\n",
      "<ipython-input-19-3cea4b5b86f4>:12: DataConversionWarning: A column-vector y was passed when a 1d array was expected. Please change the shape of y to (n_samples, ), for example using ravel().\n",
      "  knn.fit(X_train, y_train)\n",
      "<ipython-input-19-3cea4b5b86f4>:12: DataConversionWarning: A column-vector y was passed when a 1d array was expected. Please change the shape of y to (n_samples, ), for example using ravel().\n",
      "  knn.fit(X_train, y_train)\n",
      "<ipython-input-19-3cea4b5b86f4>:12: DataConversionWarning: A column-vector y was passed when a 1d array was expected. Please change the shape of y to (n_samples, ), for example using ravel().\n",
      "  knn.fit(X_train, y_train)\n",
      "<ipython-input-19-3cea4b5b86f4>:12: DataConversionWarning: A column-vector y was passed when a 1d array was expected. Please change the shape of y to (n_samples, ), for example using ravel().\n",
      "  knn.fit(X_train, y_train)\n",
      "<ipython-input-19-3cea4b5b86f4>:12: DataConversionWarning: A column-vector y was passed when a 1d array was expected. Please change the shape of y to (n_samples, ), for example using ravel().\n",
      "  knn.fit(X_train, y_train)\n",
      "<ipython-input-19-3cea4b5b86f4>:12: DataConversionWarning: A column-vector y was passed when a 1d array was expected. Please change the shape of y to (n_samples, ), for example using ravel().\n",
      "  knn.fit(X_train, y_train)\n",
      "<ipython-input-19-3cea4b5b86f4>:12: DataConversionWarning: A column-vector y was passed when a 1d array was expected. Please change the shape of y to (n_samples, ), for example using ravel().\n",
      "  knn.fit(X_train, y_train)\n",
      "<ipython-input-19-3cea4b5b86f4>:12: DataConversionWarning: A column-vector y was passed when a 1d array was expected. Please change the shape of y to (n_samples, ), for example using ravel().\n",
      "  knn.fit(X_train, y_train)\n",
      "<ipython-input-19-3cea4b5b86f4>:12: DataConversionWarning: A column-vector y was passed when a 1d array was expected. Please change the shape of y to (n_samples, ), for example using ravel().\n",
      "  knn.fit(X_train, y_train)\n",
      "<ipython-input-19-3cea4b5b86f4>:12: DataConversionWarning: A column-vector y was passed when a 1d array was expected. Please change the shape of y to (n_samples, ), for example using ravel().\n",
      "  knn.fit(X_train, y_train)\n",
      "<ipython-input-19-3cea4b5b86f4>:12: DataConversionWarning: A column-vector y was passed when a 1d array was expected. Please change the shape of y to (n_samples, ), for example using ravel().\n",
      "  knn.fit(X_train, y_train)\n",
      "<ipython-input-19-3cea4b5b86f4>:12: DataConversionWarning: A column-vector y was passed when a 1d array was expected. Please change the shape of y to (n_samples, ), for example using ravel().\n",
      "  knn.fit(X_train, y_train)\n",
      "<ipython-input-19-3cea4b5b86f4>:12: DataConversionWarning: A column-vector y was passed when a 1d array was expected. Please change the shape of y to (n_samples, ), for example using ravel().\n",
      "  knn.fit(X_train, y_train)\n",
      "<ipython-input-19-3cea4b5b86f4>:12: DataConversionWarning: A column-vector y was passed when a 1d array was expected. Please change the shape of y to (n_samples, ), for example using ravel().\n",
      "  knn.fit(X_train, y_train)\n",
      "<ipython-input-19-3cea4b5b86f4>:12: DataConversionWarning: A column-vector y was passed when a 1d array was expected. Please change the shape of y to (n_samples, ), for example using ravel().\n",
      "  knn.fit(X_train, y_train)\n",
      "<ipython-input-19-3cea4b5b86f4>:12: DataConversionWarning: A column-vector y was passed when a 1d array was expected. Please change the shape of y to (n_samples, ), for example using ravel().\n",
      "  knn.fit(X_train, y_train)\n",
      "<ipython-input-19-3cea4b5b86f4>:12: DataConversionWarning: A column-vector y was passed when a 1d array was expected. Please change the shape of y to (n_samples, ), for example using ravel().\n",
      "  knn.fit(X_train, y_train)\n",
      "<ipython-input-19-3cea4b5b86f4>:12: DataConversionWarning: A column-vector y was passed when a 1d array was expected. Please change the shape of y to (n_samples, ), for example using ravel().\n",
      "  knn.fit(X_train, y_train)\n",
      "<ipython-input-19-3cea4b5b86f4>:12: DataConversionWarning: A column-vector y was passed when a 1d array was expected. Please change the shape of y to (n_samples, ), for example using ravel().\n",
      "  knn.fit(X_train, y_train)\n",
      "<ipython-input-19-3cea4b5b86f4>:12: DataConversionWarning: A column-vector y was passed when a 1d array was expected. Please change the shape of y to (n_samples, ), for example using ravel().\n",
      "  knn.fit(X_train, y_train)\n",
      "<ipython-input-19-3cea4b5b86f4>:12: DataConversionWarning: A column-vector y was passed when a 1d array was expected. Please change the shape of y to (n_samples, ), for example using ravel().\n",
      "  knn.fit(X_train, y_train)\n",
      "<ipython-input-19-3cea4b5b86f4>:12: DataConversionWarning: A column-vector y was passed when a 1d array was expected. Please change the shape of y to (n_samples, ), for example using ravel().\n",
      "  knn.fit(X_train, y_train)\n",
      "<ipython-input-19-3cea4b5b86f4>:12: DataConversionWarning: A column-vector y was passed when a 1d array was expected. Please change the shape of y to (n_samples, ), for example using ravel().\n",
      "  knn.fit(X_train, y_train)\n",
      "<ipython-input-19-3cea4b5b86f4>:12: DataConversionWarning: A column-vector y was passed when a 1d array was expected. Please change the shape of y to (n_samples, ), for example using ravel().\n",
      "  knn.fit(X_train, y_train)\n",
      "<ipython-input-19-3cea4b5b86f4>:12: DataConversionWarning: A column-vector y was passed when a 1d array was expected. Please change the shape of y to (n_samples, ), for example using ravel().\n",
      "  knn.fit(X_train, y_train)\n",
      "<ipython-input-19-3cea4b5b86f4>:12: DataConversionWarning: A column-vector y was passed when a 1d array was expected. Please change the shape of y to (n_samples, ), for example using ravel().\n",
      "  knn.fit(X_train, y_train)\n",
      "<ipython-input-19-3cea4b5b86f4>:12: DataConversionWarning: A column-vector y was passed when a 1d array was expected. Please change the shape of y to (n_samples, ), for example using ravel().\n",
      "  knn.fit(X_train, y_train)\n",
      "<ipython-input-19-3cea4b5b86f4>:12: DataConversionWarning: A column-vector y was passed when a 1d array was expected. Please change the shape of y to (n_samples, ), for example using ravel().\n",
      "  knn.fit(X_train, y_train)\n",
      "<ipython-input-19-3cea4b5b86f4>:12: DataConversionWarning: A column-vector y was passed when a 1d array was expected. Please change the shape of y to (n_samples, ), for example using ravel().\n",
      "  knn.fit(X_train, y_train)\n",
      "<ipython-input-19-3cea4b5b86f4>:12: DataConversionWarning: A column-vector y was passed when a 1d array was expected. Please change the shape of y to (n_samples, ), for example using ravel().\n",
      "  knn.fit(X_train, y_train)\n",
      "<ipython-input-19-3cea4b5b86f4>:12: DataConversionWarning: A column-vector y was passed when a 1d array was expected. Please change the shape of y to (n_samples, ), for example using ravel().\n",
      "  knn.fit(X_train, y_train)\n",
      "<ipython-input-19-3cea4b5b86f4>:12: DataConversionWarning: A column-vector y was passed when a 1d array was expected. Please change the shape of y to (n_samples, ), for example using ravel().\n",
      "  knn.fit(X_train, y_train)\n",
      "<ipython-input-19-3cea4b5b86f4>:12: DataConversionWarning: A column-vector y was passed when a 1d array was expected. Please change the shape of y to (n_samples, ), for example using ravel().\n",
      "  knn.fit(X_train, y_train)\n",
      "<ipython-input-19-3cea4b5b86f4>:12: DataConversionWarning: A column-vector y was passed when a 1d array was expected. Please change the shape of y to (n_samples, ), for example using ravel().\n",
      "  knn.fit(X_train, y_train)\n",
      "<ipython-input-19-3cea4b5b86f4>:12: DataConversionWarning: A column-vector y was passed when a 1d array was expected. Please change the shape of y to (n_samples, ), for example using ravel().\n",
      "  knn.fit(X_train, y_train)\n",
      "<ipython-input-19-3cea4b5b86f4>:12: DataConversionWarning: A column-vector y was passed when a 1d array was expected. Please change the shape of y to (n_samples, ), for example using ravel().\n",
      "  knn.fit(X_train, y_train)\n",
      "<ipython-input-19-3cea4b5b86f4>:12: DataConversionWarning: A column-vector y was passed when a 1d array was expected. Please change the shape of y to (n_samples, ), for example using ravel().\n",
      "  knn.fit(X_train, y_train)\n",
      "<ipython-input-19-3cea4b5b86f4>:12: DataConversionWarning: A column-vector y was passed when a 1d array was expected. Please change the shape of y to (n_samples, ), for example using ravel().\n",
      "  knn.fit(X_train, y_train)\n"
     ]
    },
    {
     "name": "stderr",
     "output_type": "stream",
     "text": [
      "<ipython-input-19-3cea4b5b86f4>:12: DataConversionWarning: A column-vector y was passed when a 1d array was expected. Please change the shape of y to (n_samples, ), for example using ravel().\n",
      "  knn.fit(X_train, y_train)\n",
      "<ipython-input-19-3cea4b5b86f4>:12: DataConversionWarning: A column-vector y was passed when a 1d array was expected. Please change the shape of y to (n_samples, ), for example using ravel().\n",
      "  knn.fit(X_train, y_train)\n",
      "<ipython-input-19-3cea4b5b86f4>:12: DataConversionWarning: A column-vector y was passed when a 1d array was expected. Please change the shape of y to (n_samples, ), for example using ravel().\n",
      "  knn.fit(X_train, y_train)\n",
      "<ipython-input-19-3cea4b5b86f4>:12: DataConversionWarning: A column-vector y was passed when a 1d array was expected. Please change the shape of y to (n_samples, ), for example using ravel().\n",
      "  knn.fit(X_train, y_train)\n",
      "<ipython-input-19-3cea4b5b86f4>:12: DataConversionWarning: A column-vector y was passed when a 1d array was expected. Please change the shape of y to (n_samples, ), for example using ravel().\n",
      "  knn.fit(X_train, y_train)\n",
      "<ipython-input-19-3cea4b5b86f4>:12: DataConversionWarning: A column-vector y was passed when a 1d array was expected. Please change the shape of y to (n_samples, ), for example using ravel().\n",
      "  knn.fit(X_train, y_train)\n"
     ]
    },
    {
     "data": {
      "image/png": "[encoded data removed]",
      "text/plain": [
       "<Figure size 432x288 with 1 Axes>"
      ]
     },
     "metadata": {},
     "output_type": "display_data"
    }
   ],
   "source": [
    "# ex03. 이웃하는 데이터 수를 변경하고 정밀도의 변화를 확인해보자 (분류)\n",
    "import seaborn as sns\n",
    "import matplotlib.pyplot as plt\n",
    "\n",
    "accuracy_list=[]\n",
    "sns.set()\n",
    "k_range = range(1,100)\n",
    "\n",
    "for k in k_range:\n",
    "    # 분류 모델\n",
    "    knn = KNeighborsClassifier(n_neighbors=k)\n",
    "    knn.fit(X_train, y_train)\n",
    "    y_pred = knn.predict(X_test)\n",
    "    accuracy_list.append(metrics.accuracy_score(y_test,y_pred))\n",
    "    \n",
    "figure = plt.figure()\n",
    "ax = figure.add_subplot(111)\n",
    "ax.plot(k_range, accuracy_list)\n",
    "ax.set_xlabel('k-nn')\n",
    "ax.set_ylabel('accuracy')\n",
    "plt.show()\n",
    "\n",
    "#Setosa, Virginica, Virginica                         "
   ]
  },
  {
   "cell_type": "code",
   "execution_count": 6,
   "metadata": {},
   "outputs": [
    {
     "name": "stdout",
     "output_type": "stream",
     "text": [
      "           0     1      2    3      4      5      6       7     8      9   \\\n",
      "329   0.06724   0.0   3.24  0.0  0.460  6.333   17.2  5.2146   4.0  430.0   \n",
      "371   9.23230   0.0  18.10  0.0  0.631  6.216  100.0  1.1691  24.0  666.0   \n",
      "219   0.11425   0.0  13.89  1.0  0.550  6.373   92.4  3.3633   5.0  276.0   \n",
      "403  24.80170   0.0  18.10  0.0  0.693  5.349   96.0  1.7028  24.0  666.0   \n",
      "78    0.05646   0.0  12.83  0.0  0.437  6.232   53.7  5.0141   5.0  398.0   \n",
      "..        ...   ...    ...  ...    ...    ...    ...     ...   ...    ...   \n",
      "49    0.21977   0.0   6.91  0.0  0.448  5.602   62.0  6.0877   3.0  233.0   \n",
      "498   0.23912   0.0   9.69  0.0  0.585  6.019   65.3  2.4091   6.0  391.0   \n",
      "309   0.34940   0.0   9.90  0.0  0.544  5.972   76.7  3.1025   4.0  304.0   \n",
      "124   0.09849   0.0  25.65  0.0  0.581  5.879   95.8  2.0063   2.0  188.0   \n",
      "306   0.07503  33.0   2.18  0.0  0.472  7.420   71.9  3.0992   7.0  222.0   \n",
      "\n",
      "       10      11     12  \n",
      "329  16.9  375.21   7.34  \n",
      "371  20.2  366.15   9.53  \n",
      "219  16.4  393.74  10.50  \n",
      "403  20.2  396.90  19.77  \n",
      "78   18.7  386.40  12.34  \n",
      "..    ...     ...    ...  \n",
      "49   17.9  396.90  16.20  \n",
      "498  19.2  396.90  12.92  \n",
      "309  18.4  396.24   9.97  \n",
      "124  19.1  379.38  17.58  \n",
      "306  18.4  396.90   6.47  \n",
      "\n",
      "[127 rows x 13 columns]\n"
     ]
    },
    {
     "ename": "NameError",
     "evalue": "name 'np' is not defined",
     "output_type": "error",
     "traceback": [
      "\u001b[1;31m---------------------------------------------------------------------------\u001b[0m",
      "\u001b[1;31mNameError\u001b[0m                                 Traceback (most recent call last)",
      "\u001b[1;32m<ipython-input-6-ba38b823a0ee>\u001b[0m in \u001b[0;36m<module>\u001b[1;34m\u001b[0m\n\u001b[0;32m     21\u001b[0m \u001b[1;33m\u001b[0m\u001b[0m\n\u001b[0;32m     22\u001b[0m \u001b[0mmae\u001b[0m \u001b[1;33m=\u001b[0m \u001b[0mmean_absolute_error\u001b[0m\u001b[1;33m(\u001b[0m\u001b[0my_test\u001b[0m\u001b[1;33m,\u001b[0m \u001b[0my_pred\u001b[0m\u001b[1;33m)\u001b[0m \u001b[1;31m# 오차값을 구해서 절대값을 평균한 것\u001b[0m\u001b[1;33m\u001b[0m\u001b[1;33m\u001b[0m\u001b[0m\n\u001b[1;32m---> 23\u001b[1;33m \u001b[0mrmae\u001b[0m \u001b[1;33m=\u001b[0m \u001b[0mnp\u001b[0m\u001b[1;33m.\u001b[0m\u001b[0msqrt\u001b[0m\u001b[1;33m(\u001b[0m\u001b[0mmean_squared_error\u001b[0m\u001b[1;33m(\u001b[0m\u001b[0my_test\u001b[0m\u001b[1;33m,\u001b[0m \u001b[0my_pred\u001b[0m\u001b[1;33m)\u001b[0m\u001b[1;33m)\u001b[0m \u001b[1;31m# 오차값을 구해서 평균 제곱근을 구한 값\u001b[0m\u001b[1;33m\u001b[0m\u001b[1;33m\u001b[0m\u001b[0m\n\u001b[0m\u001b[0;32m     24\u001b[0m \u001b[1;33m\u001b[0m\u001b[0m\n\u001b[0;32m     25\u001b[0m \u001b[0mprint\u001b[0m\u001b[1;33m(\u001b[0m\u001b[1;34m'평균 절대 오차 : '\u001b[0m\u001b[1;33m,\u001b[0m\u001b[0mmae\u001b[0m\u001b[1;33m)\u001b[0m\u001b[1;33m\u001b[0m\u001b[1;33m\u001b[0m\u001b[0m\n",
      "\u001b[1;31mNameError\u001b[0m: name 'np' is not defined"
     ]
    }
   ],
   "source": [
    "# ex04. 회귀를 구현해보자, K-NN의 알고리즘 사용\n",
    "from sklearn.neighbors import *\n",
    "from sklearn.metrics import *  # mean_squared_error, mean_absolute_error\n",
    "from sklearn.datasets import load_boston\n",
    "import pandas as pd\n",
    "from sklearn.model_selection import train_test_split\n",
    "\n",
    "boston = load_boston()\n",
    "boston_df = pd.DataFrame(boston.data)\n",
    "boston_columns = boston.feature_names\n",
    "\n",
    "# 학습 데이터 분류\n",
    "X = boston_df\n",
    "y = boston.target\n",
    "X_train, X_test, y_train, y_test = train_test_split(X, y, test_size=0.25, random_state=0)\n",
    "# print(X_test)\n",
    "# 학습 모델\n",
    "knr = KNeighborsRegressor()\n",
    "knr.fit(X_train, y_train)\n",
    "y_pred = knr.predict(X_test)\n",
    "\n",
    "mae = mean_absolute_error(y_test, y_pred) # 오차값을 구해서 절대값을 평균한 것\n",
    "rmae = np.sqrt(mean_squared_error(y_test, y_pred)) # 오차값을 구해서 평균 제곱근을 구한 값\n",
    "\n",
    "print('평균 절대 오차 : ',mae)\n",
    "print('제곱평균의 제곱근 오차 : ', rmae)\n"
   ]
  },
  {
   "cell_type": "code",
   "execution_count": 25,
   "metadata": {},
   "outputs": [
    {
     "data": {
      "image/png": "[encoded data removed]",
      "text/plain": [
       "<Figure size 432x288 with 1 Axes>"
      ]
     },
     "metadata": {},
     "output_type": "display_data"
    }
   ],
   "source": [
    "# ex04. 이웃하는 데이터 수를 변경하고 정밀도의 변화를 확인해보자 (회귀)\n",
    "import seaborn as sns\n",
    "import matplotlib.pyplot as plt\n",
    "\n",
    "mae_list=[]\n",
    "sns.set()\n",
    "k_range = range(1,100)\n",
    "\n",
    "for k in k_range:\n",
    "    # 분류 모델\n",
    "    knn = KNeighborsRegressor(n_neighbors=k)\n",
    "    knn.fit(X_train, y_train)\n",
    "    y_pred = knn.predict(X_test)\n",
    "    mae_list.append(metrics.mean_squared_error(y_test,y_pred))\n",
    "    \n",
    "figure = plt.figure()\n",
    "ax = figure.add_subplot(111)\n",
    "ax.plot(k_range, mae_list)\n",
    "ax.set_xlabel('k-nn')\n",
    "ax.set_ylabel('mean_squared_error')\n",
    "plt.show()\n",
    "\n",
    "#Setosa, Virginica, Virginica                         "
   ]
  },
  {
   "cell_type": "markdown",
   "metadata": {},
   "source": [
    "K-NN : 예측 데이터에 가장 가까운 훈련데이터로 예측하는 방법\n",
    "\n",
    "특징 \n",
    " 1. 알려져 있는 범주로 알려지지 않은 범주를 분류하는데 사용\n",
    " 2. 기존의 범주가 존재해야함\n",
    " 3. 단 한번의 거리 계산으로 값을 예측 (n_neighbors의 개수로)\n",
    " 4. 전처리가 중요함 (결손치, 이상치)\n",
    " 5. 특징이 많은 데이터셋은 부적절하다\n",
    " 6. Euclidean distance 계산식\n",
    " 7. 적용분야 : 개인별 영화추천, 이미지/비디오 얼굴과 글자인식, 유전자 데이터 패턴(양성,음성) 등"
   ]
  },
  {
   "cell_type": "code",
   "execution_count": 1,
   "metadata": {},
   "outputs": [
    {
     "data": {
      "text/plain": [
       "array([0, 0, 0, 0, 0, 0, 0, 0, 0, 0, 0, 0, 0, 0, 0, 0, 0, 0, 0, 1, 1, 1,\n",
       "       0, 0, 0, 0, 0, 0, 0, 0, 0, 0, 0, 0, 0, 0, 0, 1, 0, 0, 0, 0, 0, 0,\n",
       "       0, 0, 1, 0, 1, 1, 1, 1, 1, 0, 0, 1, 0, 0, 1, 1, 1, 1, 0, 1, 0, 0,\n",
       "       1, 1, 1, 1, 0, 1, 0, 0, 1, 0, 1, 0, 0, 1, 1, 1, 0, 0, 1, 0, 0, 0,\n",
       "       1, 1, 1, 0, 1, 1, 0, 0, 1, 1, 1, 0, 0, 1, 1, 1, 1, 0, 1, 1, 0, 1,\n",
       "       1, 1, 1, 1, 1, 1, 1, 0, 0, 0, 1, 0, 0, 1, 1, 1, 0, 0, 1, 0, 1, 0,\n",
       "       0, 1, 0, 0, 1, 1, 0, 1, 1, 0, 1, 1, 1, 1, 0, 1, 1, 1, 1, 1, 1, 1,\n",
       "       1, 1, 0, 1, 1, 1, 1, 0, 0, 1, 0, 1, 1, 0, 0, 1, 1, 0, 0, 1, 1, 1,\n",
       "       1, 0, 1, 1, 0, 0, 0, 1, 0, 1, 0, 1, 1, 1, 0, 1, 1, 0, 0, 1, 0, 0,\n",
       "       0, 0, 1, 0, 0, 0, 1, 0, 1, 0, 1, 1, 0, 1, 0, 0, 0, 0, 1, 1, 0, 0,\n",
       "       1, 1, 1, 0, 1, 1, 1, 1, 1, 0, 0, 1, 1, 0, 1, 1, 0, 0, 1, 0, 1, 1,\n",
       "       1, 1, 0, 1, 1, 1, 1, 1, 0, 1, 0, 0, 0, 0, 0, 0, 0, 0, 0, 0, 0, 0,\n",
       "       0, 0, 1, 1, 1, 1, 1, 1, 0, 1, 0, 1, 1, 0, 1, 1, 0, 1, 0, 0, 1, 1,\n",
       "       1, 1, 1, 1, 1, 1, 1, 1, 1, 1, 1, 0, 1, 1, 0, 1, 0, 1, 1, 1, 1, 1,\n",
       "       1, 1, 1, 1, 1, 1, 1, 1, 1, 0, 1, 1, 1, 0, 1, 0, 1, 1, 1, 1, 0, 0,\n",
       "       0, 1, 1, 1, 1, 0, 1, 0, 1, 0, 1, 1, 1, 0, 1, 1, 1, 1, 1, 1, 1, 0,\n",
       "       0, 0, 1, 1, 1, 1, 1, 1, 1, 1, 1, 1, 1, 0, 0, 1, 0, 0, 0, 1, 0, 0,\n",
       "       1, 1, 1, 1, 1, 0, 1, 1, 1, 1, 1, 0, 1, 1, 1, 0, 1, 1, 0, 0, 1, 1,\n",
       "       1, 1, 1, 1, 0, 1, 1, 1, 1, 1, 1, 1, 0, 1, 1, 1, 1, 1, 0, 1, 1, 0,\n",
       "       1, 1, 1, 1, 1, 1, 1, 1, 1, 1, 1, 1, 0, 1, 0, 0, 1, 0, 1, 1, 1, 1,\n",
       "       1, 0, 1, 1, 0, 1, 0, 1, 1, 0, 1, 0, 1, 1, 1, 1, 1, 1, 1, 1, 0, 0,\n",
       "       1, 1, 1, 1, 1, 1, 0, 1, 1, 1, 1, 1, 1, 1, 1, 1, 1, 0, 1, 1, 1, 1,\n",
       "       1, 1, 1, 0, 1, 0, 1, 1, 0, 1, 1, 1, 1, 1, 0, 0, 1, 0, 1, 0, 1, 1,\n",
       "       1, 1, 1, 0, 1, 1, 0, 1, 0, 1, 0, 0, 1, 1, 1, 0, 1, 1, 1, 1, 1, 1,\n",
       "       1, 1, 1, 1, 1, 0, 1, 0, 0, 1, 1, 1, 1, 1, 1, 1, 1, 1, 1, 1, 1, 1,\n",
       "       1, 1, 1, 1, 1, 1, 1, 1, 1, 1, 1, 1, 0, 0, 0, 0, 0, 0, 1])"
      ]
     },
     "execution_count": 1,
     "metadata": {},
     "output_type": "execute_result"
    }
   ],
   "source": [
    "# ex05. sklearn.datasets : load_breast_cancer 로 분류 작업을 해보자\n",
    "from sklearn.datasets import load_breast_cancer\n",
    "\n",
    "cancer = load_breast_cancer()\n",
    "X = cancer.data\n",
    "y = cancer.target\n",
    "\n",
    "# 데이터 세트 분할 (균등하게 : stratify)\n",
    "X_train, X_test, y_train, y_test = train_test_split(X,y, stratify=cancer.target, random_state=0)\n",
    "\n",
    "train_accuracy_list=[]\n",
    "test_accuracy_list=[]\n",
    "\n",
    "k_range = range(1,100)\n",
    "\n",
    "for k in k_range:\n",
    "    # 분류 모델\n",
    "    knn = KNeighborsClassifier(n_neighbors=k)\n",
    "    knn.fit(X_train, y_train)\n",
    "    train_accuracy_list.append(knn.score(X_train, y_train)) # 훈련 정확도\n",
    "    test_accuracy_list.append(knn.score(X_test, y_test)) # 테스트 정확도\n",
    "    \n",
    "figure = plt.figure()\n",
    "ax = figure.add_subplot(111)\n",
    "ax.plot(k_range, train_accuracy_list, label='train_score')\n",
    "ax.plot(k_range, test_accuracy_list, label='test_score')\n",
    "ax.set_xlabel('k-nn')\n",
    "ax.set_ylabel('accuracy')\n",
    "ax.legend()\n",
    "plt.show()\n",
    "# 88~100% -> 정확도가 높다. 6인 지점에서 정확도가 높다. \n",
    "# K-NN은 n_neighbors을 조정해서 성능평가 필수!"
   ]
  },
  {
   "cell_type": "code",
   "execution_count": 58,
   "metadata": {},
   "outputs": [
    {
     "name": "stdout",
     "output_type": "stream",
     "text": [
      "레이블 :  ['sepal length (cm)', 'sepal width (cm)', 'petal length (cm)', 'petal width (cm)']\n",
      "모양 :  (150, 4)\n",
      "10개의 데이터 :  [[5.1 3.5 1.4 0.2]\n",
      " [4.9 3.  1.4 0.2]\n",
      " [4.7 3.2 1.3 0.2]\n",
      " [4.6 3.1 1.5 0.2]\n",
      " [5.  3.6 1.4 0.2]\n",
      " [5.4 3.9 1.7 0.4]\n",
      " [4.6 3.4 1.4 0.3]\n",
      " [5.  3.4 1.5 0.2]\n",
      " [4.4 2.9 1.4 0.2]\n",
      " [4.9 3.1 1.5 0.1]]\n",
      "레이블 :  ['setosa' 'versicolor' 'virginica']\n",
      "모양 :  (150,)\n",
      "전체 보기 :  [0 0 0 0 0 0 0 0 0 0 0 0 0 0 0 0 0 0 0 0 0 0 0 0 0 0 0 0 0 0 0 0 0 0 0 0 0\n",
      " 0 0 0 0 0 0 0 0 0 0 0 0 0 1 1 1 1 1 1 1 1 1 1 1 1 1 1 1 1 1 1 1 1 1 1 1 1\n",
      " 1 1 1 1 1 1 1 1 1 1 1 1 1 1 1 1 1 1 1 1 1 1 1 1 1 1 2 2 2 2 2 2 2 2 2 2 2\n",
      " 2 2 2 2 2 2 2 2 2 2 2 2 2 2 2 2 2 2 2 2 2 2 2 2 2 2 2 2 2 2 2 2 2 2 2 2 2\n",
      " 2 2]\n"
     ]
    }
   ],
   "source": [
    "import numpy as np\n",
    "import pandas as pd\n",
    "from sklearn import datasets\n",
    "from sklearn.neighbors import KNeighborsClassifier\n",
    "from sklearn.model_selection import train_test_split\n",
    "import matplotlib.pyplot as plt\n",
    "from matplotlib.colors import ListedColormap\n",
    "\n",
    "# 데이터 로드\n",
    "iris = datasets.load_iris()\n",
    "print(\"레이블 : \" , iris.feature_names)\n",
    "print(\"모양 : \", iris.data.shape)\n",
    "print(\"10개의 데이터 : \", iris.data[:10])\n",
    "\n",
    "# 목적 변수\n",
    "print(\"레이블 : \", iris.target_names)\n",
    "print(\"모양 : \", iris.target.shape)\n",
    "print(\"전체 보기 : \", iris.target)\n",
    "    "
   ]
  },
  {
   "cell_type": "code",
   "execution_count": 68,
   "metadata": {
    "scrolled": true
   },
   "outputs": [
    {
     "data": {
      "image/png": "[encoded data removed]",
      "text/plain": [
       "<Figure size 432x288 with 1 Axes>"
      ]
     },
     "metadata": {},
     "output_type": "display_data"
    },
    {
     "data": {
      "image/png": "[encoded data removed]",
      "text/plain": [
       "<Figure size 432x288 with 1 Axes>"
      ]
     },
     "metadata": {},
     "output_type": "display_data"
    }
   ],
   "source": [
    "# 데이터 분할\n",
    "X = iris.data\n",
    "y = iris.target\n",
    "\n",
    "X_train, X_test, y_train, y_test = train_test_split(X,y, stratify=iris.target,random_state=0)\n",
    "\n",
    "np.unique(y_train, return_counts=True)\n",
    "\n",
    "# 모델링\n",
    "train_accuracy_list=[]\n",
    "test_accuracy_list=[]\n",
    "\n",
    "k_range = range(3,21)\n",
    "\n",
    "for k in k_range:\n",
    "    # 분류 모델\n",
    "    knn = KNeighborsClassifier(n_neighbors=k)\n",
    "    knn.fit(X_train, y_train)\n",
    "    train_accuracy_list.append(knn.score(X_train, y_train)) # 훈련 정확도\n",
    "    test_accuracy_list.append(knn.score(X_test, y_test)) # 테스트 정확도\n",
    "\n",
    "train_accuracy_list = np.array(train_accuracy_list)\n",
    "test_accuracy_list = np.array(test_accuracy_list)\n",
    "    \n",
    "plt.figure(figsize=(6,4))\n",
    "plt.plot(range(3,21), train_accuracy_list, label='train')\n",
    "plt.plot(range(3,21), test_accuracy_list, label='test')\n",
    "plt.xticks(np.arange(2,21,1)) # 축의 눈금\n",
    "plt.xlabel('k')\n",
    "plt.ylabel('accuracy')\n",
    "plt.title('accuracy')\n",
    "plt.legend()\n",
    "plt.show()\n",
    "\n",
    "plt.figure(figsize=(6,4))\n",
    "diff = np.abs(train_accuracy_list - test_accuracy_list)\n",
    "plt.plot(range(3,21), diff, label='diff')\n",
    "\n",
    "plt.xticks(np.arange(2,21,1)) # 축의 눈금\n",
    "plt.xlabel('k')\n",
    "plt.ylabel('train - test')\n",
    "plt.title('accuracy')\n",
    "plt.legend()\n",
    "plt.grid()\n",
    "plt.show()"
   ]
  },
  {
   "cell_type": "code",
   "execution_count": 92,
   "metadata": {
    "scrolled": true
   },
   "outputs": [
    {
     "name": "stdout",
     "output_type": "stream",
     "text": [
      "ret :  1.0\n",
      "results :  [[1.]]\n",
      "neighbors:  [[1. 1. 0.]]\n",
      "dist :  [[185. 250. 416.]]\n"
     ]
    },
    {
     "data": {
      "image/png": "[encoded data removed]",
      "text/plain": [
       "<Figure size 432x288 with 1 Axes>"
      ]
     },
     "metadata": {},
     "output_type": "display_data"
    },
    {
     "data": {
      "text/plain": [
       "'4.5.1'"
      ]
     },
     "execution_count": 92,
     "metadata": {},
     "output_type": "execute_result"
    }
   ],
   "source": [
    "import cv2\n",
    "\n",
    "train_D = np.random.randint(0,100, (25,2)).astype(np.float32)\n",
    "train_D\n",
    "\n",
    "res_D = np.random.randint(0,2, (25,1)).astype(np.float32)\n",
    "res_D\n",
    "\n",
    "new_D = np.random.randint(0,100, (1,2)).astype(np.float32)\n",
    "plt.scatter(new_D[:,0], new_D[:,1],80,'g','o')  # 1개 생김\n",
    "\n",
    "red = train_D[res_D.ravel() == 0]\n",
    "plt.scatter(red[:,0], red[:,1],80,'r','^')\n",
    "\n",
    "blue = train_D[res_D.ravel() == 1]\n",
    "plt.scatter(blue[:,0], blue[:,1],80,'b','s')\n",
    "\n",
    "knn = cv2.ml.KNearest_create()\n",
    "knn.train(train_D, cv2.ml.ROW_SAMPLE, res_D)\n",
    "ret, results, neighbors ,dist = knn.findNearest(new_D, 3) # 기존의 데이터 속에 새로 그린 동그라미 근처 3개의 값을 찾아서 그 그룹에 속해라\n",
    "\n",
    "print(\"ret : \", ret)\n",
    "print(\"results : \", results)\n",
    "print(\"neighbors: \",neighbors)\n",
    "print(\"dist : \", dist)\n",
    "\n",
    "plt.show()\n"
   ]
  }
 ],
 "metadata": {
  "kernelspec": {
   "display_name": "Python 3",
   "language": "python",
   "name": "python3"
  },
  "language_info": {
   "codemirror_mode": {
    "name": "ipython",
    "version": 3
   },
   "file_extension": ".py",
   "mimetype": "text/x-python",
   "name": "python",
   "nbconvert_exporter": "python",
   "pygments_lexer": "ipython3",
   "version": "3.8.5"
  }
 },
 "nbformat": 4,
 "nbformat_minor": 4
}
